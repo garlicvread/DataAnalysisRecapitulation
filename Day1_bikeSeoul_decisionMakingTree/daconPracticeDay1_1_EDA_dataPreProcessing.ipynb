{
 "cells": [
  {
   "cell_type": "markdown",
   "id": "b8918c8f",
   "metadata": {
    "pycharm": {
     "name": "#%% md\n"
    }
   },
   "source": [
    "## EDA (Exploratory Data Analysis) 탐색적 데이터 분석"
   ]
  },
  {
   "cell_type": "code",
   "execution_count": null,
   "outputs": [],
   "source": [
    "# Download the data\n",
    "!wget 'https://bit.ly/3gLj0Q6'"
   ],
   "metadata": {
    "collapsed": false,
    "pycharm": {
     "name": "#%%\n"
    }
   }
  },
  {
   "cell_type": "code",
   "execution_count": null,
   "outputs": [],
   "source": [
    "# Extract the downloaded file\n",
    "import zipfile\n",
    "with zipfile.ZipFile ('3gLj0Q6', 'r') as existing_zip:\n",
    "    existing_zip.extractall('data')"
   ],
   "metadata": {
    "collapsed": false,
    "pycharm": {
     "name": "#%%\n"
    }
   }
  },
  {
   "cell_type": "markdown",
   "source": [
    "### Lv1 EDA 1/5 python 파이썬 라이브러리 불러오기(import)"
   ],
   "metadata": {
    "collapsed": false,
    "pycharm": {
     "name": "#%% md\n"
    }
   }
  },
  {
   "cell_type": "code",
   "execution_count": null,
   "outputs": [],
   "source": [
    "# Library importing\n",
    "import pandas as pd"
   ],
   "metadata": {
    "collapsed": false,
    "pycharm": {
     "name": "#%%\n"
    }
   }
  },
  {
   "cell_type": "markdown",
   "source": [
    "### Lv1 EDA 2/5 python 파이썬 파일 불러오기(read_csv)"
   ],
   "metadata": {
    "collapsed": false,
    "pycharm": {
     "name": "#%% md\n"
    }
   }
  },
  {
   "cell_type": "code",
   "execution_count": null,
   "outputs": [],
   "source": [
    "# Load the data\n",
    "train = pd.read_csv('data/train.csv')\n",
    "test = pd.read_csv('data/test.csv')"
   ],
   "metadata": {
    "collapsed": false,
    "pycharm": {
     "name": "#%%\n"
    }
   }
  },
  {
   "cell_type": "markdown",
   "source": [
    "### Lv1 EDA 4/5 python 파이썬 데이터 확인하기(head())"
   ],
   "metadata": {
    "collapsed": false,
    "pycharm": {
     "name": "#%% md\n"
    }
   }
  },
  {
   "cell_type": "code",
   "execution_count": null,
   "outputs": [],
   "source": [
    "# Check the loaded data\n",
    "train.head(10)"
   ],
   "metadata": {
    "collapsed": false,
    "pycharm": {
     "name": "#%%\n"
    }
   }
  },
  {
   "cell_type": "markdown",
   "source": [
    "### Lv1 EDA 3/5 python 파이썬 행 열 갯수 관찰하기(shape)"
   ],
   "metadata": {
    "collapsed": false,
    "pycharm": {
     "name": "#%% md\n"
    }
   }
  },
  {
   "cell_type": "code",
   "execution_count": null,
   "outputs": [],
   "source": [
    "# Check the dimension of the loaded data\n",
    "print(train.shape)\n",
    "print(test.shape)"
   ],
   "metadata": {
    "collapsed": false,
    "pycharm": {
     "name": "#%%\n"
    }
   }
  },
  {
   "cell_type": "markdown",
   "source": [
    "### Lv1 EDA 5/5 python 파이썬 결측치 확인하기(is_null() )\n",
    "\n",
    "- In Pandas, the missing values are displayed as `NaN`.\n",
    "- Using `.isnull()` method of Pandas library, we can see how many missing values exist in the DataFrame.\n",
    "- `.isnull()` method returns True when there is any missing value, otherwise returns False.\n",
    "- You can see how many missing values exist in the columns of the pandas DataFrame by adding `.sum()` method right after `.isnull()` method."
   ],
   "metadata": {
    "collapsed": false,
    "pycharm": {
     "name": "#%% md\n"
    }
   }
  },
  {
   "cell_type": "code",
   "execution_count": null,
   "outputs": [],
   "source": [
    "import pandas as pd  # pandas import\n",
    "import numpy as np  # numpy import"
   ],
   "metadata": {
    "collapsed": false,
    "pycharm": {
     "name": "#%%\n"
    }
   }
  },
  {
   "cell_type": "code",
   "execution_count": null,
   "outputs": [],
   "source": [
    "# Declare a pands data frame\n",
    "df = pd.DataFrame({\n",
    "    'name': ['kwon', 'park', 'kim'],\n",
    "    'age': [30, np.nan, 19],\n",
    "    'class': [np.nan, np.nan, 1]\n",
    "})"
   ],
   "metadata": {
    "collapsed": false,
    "pycharm": {
     "name": "#%%\n"
    }
   }
  },
  {
   "cell_type": "code",
   "execution_count": null,
   "outputs": [],
   "source": [
    "df.isnull()"
   ],
   "metadata": {
    "collapsed": false,
    "pycharm": {
     "name": "#%%\n"
    }
   }
  },
  {
   "cell_type": "code",
   "execution_count": null,
   "outputs": [],
   "source": [
    "df.isnull().sum()"
   ],
   "metadata": {
    "collapsed": false,
    "pycharm": {
     "name": "#%%\n"
    }
   }
  },
  {
   "cell_type": "markdown",
   "source": [
    "### Lv1 전처리 1/2 python 파이썬 데이터 기본 정보 확인하기(info())\n",
    "\n",
    "Using `.info()` method, we can see the basic information that the features of the Dataframe have.<br>\n",
    "\n",
    "The basic information includes the missing values and data types, and so on."
   ],
   "metadata": {
    "collapsed": false,
    "pycharm": {
     "name": "#%% md\n"
    }
   }
  },
  {
   "cell_type": "code",
   "execution_count": null,
   "outputs": [],
   "source": [
    "print('======== Train data frame information ========\\n')\n",
    "print(train.info(), '\\n\\n')\n",
    "\n",
    "print('======== Test data frame information ========\\n')\n",
    "print(test.info())"
   ],
   "metadata": {
    "collapsed": false,
    "pycharm": {
     "name": "#%%\n"
    }
   }
  },
  {
   "cell_type": "markdown",
   "source": [
    "### Lv1 전처리 2/2 python 파이썬 결측치 삭제, 대체(dropna, fillna)\n",
    "\n",
    "Using `dropna()` method, we can delete the rows that include any missing value from the DataFrame.<br>\n",
    "Deleting the missing values is the easiest way of handing missing values, but it may arouse some risk.<br>\n",
    "Thus, deleting the missing values cannot always be the best solution.<br>\n",
    "**PLEASE DO NOT OVERUSE `dropna()` method.**<br>\n",
    "\n",
    "Besides, we can use `fillna()` method to replace the missing values with any value we want to use.<br>\n",
    "When we use `fillna()`, the value of the parameter which is going to be replaced can be any sort of scalar value or string."
   ],
   "metadata": {
    "collapsed": false,
    "pycharm": {
     "name": "#%% md\n"
    }
   }
  },
  {
   "cell_type": "code",
   "execution_count": null,
   "outputs": [],
   "source": [
    "train = train.dropna()\n",
    "print(train.info())\n",
    "print(train.shape)"
   ],
   "metadata": {
    "collapsed": false,
    "pycharm": {
     "name": "#%%\n"
    }
   }
  },
  {
   "cell_type": "code",
   "execution_count": null,
   "outputs": [],
   "source": [
    "test = test.fillna(0)\n",
    "print(test.info())\n",
    "print(test.shape)"
   ],
   "metadata": {
    "collapsed": false,
    "pycharm": {
     "name": "#%%\n"
    }
   }
  }
 ],
 "metadata": {
  "kernelspec": {
   "display_name": "Python 3 (ipykernel)",
   "language": "python",
   "name": "python3"
  },
  "language_info": {
   "codemirror_mode": {
    "name": "ipython",
    "version": 3
   },
   "file_extension": ".py",
   "mimetype": "text/x-python",
   "name": "python",
   "nbconvert_exporter": "python",
   "pygments_lexer": "ipython3",
   "version": "3.9.12"
  }
 },
 "nbformat": 4,
 "nbformat_minor": 5
}