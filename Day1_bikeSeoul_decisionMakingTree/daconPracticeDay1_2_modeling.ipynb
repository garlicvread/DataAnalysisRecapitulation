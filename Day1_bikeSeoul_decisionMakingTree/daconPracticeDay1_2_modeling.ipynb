{
 "cells": [
  {
   "cell_type": "markdown",
   "id": "74278df4",
   "metadata": {},
   "source": [
    "### Lv1 모델링 1/6 python 파이썬 scikit-learn\n",
    "\n",
    "Modeling using scikit-learn library"
   ]
  },
  {
   "cell_type": "markdown",
   "id": "7c76ddf7",
   "metadata": {},
   "source": [
    "### Lv1 모델링 python 파이썬 2/6 모델개념 - Decision making tree(의사결정나무)\n",
    "\n",
    "The decision-making tree is an algorithm that sets a specific value for each feature, then classifies every row into two nodes using the value we set.<br>\n",
    "This type of classification is called binary decision-making.<br>\n",
    "When we set two specific values instead of one, then the classification will be a ternary(3진 or 3항 in the Korean language) classification.<br>\n",
    "The decision tree algorithm is to repeat this process so that all items in the data are classified.<br>\n",
    "\n",
    "The criteria of setting a specific value to each feature is the impurity(불순도 in the Korean language).<br>\n",
    "CART, a representative decision-making algorithm, uses Gini impurity.<br>\n",
    "The general expression for the Gini impurity is:\n",
    "$$imp(t) = 1 - \\sum_{j=1} P_j^2$$"
   ]
  },
  {
   "cell_type": "code",
   "execution_count": 1,
   "id": "5a4ae456",
   "metadata": {},
   "outputs": [],
   "source": [
    "# importing decision making tree algorithm\n",
    "\n",
    "import sklearn\n",
    "from sklearn.tree import DecisionTreeClassifier"
   ]
  },
  {
   "cell_type": "markdown",
   "id": "59cd4979",
   "metadata": {},
   "source": [
    "### Lv1 모델링 python 파이썬 3/6 모델 선언(의사결정나무)"
   ]
  },
  {
   "cell_type": "code",
   "execution_count": 2,
   "id": "bd9c307e",
   "metadata": {},
   "outputs": [],
   "source": [
    "# Declare the model\n",
    "model = DecisionTreeClassifier()"
   ]
  },
  {
   "cell_type": "markdown",
   "id": "0c04a63e",
   "metadata": {},
   "source": [
    "### Lv1 모델링 python 파이썬 4/6 모델 훈련(의사결정나무)\n",
    "\n",
    "After we declare a model, we can train the model using `fit(X, Y)` function.\n",
    "\n",
    "- X: The parameter to make prediction\n",
    "- Y: The parameter for the result of the precition.<br>\n",
    "\n",
    "- We can exclude a feature using `.drop([‘ColumnNameToExclude’], axis=1)` method from the data.\n",
    "\n",
    "- We can index the Y data using `train[‘ColumnNameToIndex']` method."
   ]
  },
  {
   "cell_type": "code",
   "execution_count": 3,
   "id": "e3df858e",
   "metadata": {},
   "outputs": [
    {
     "name": "stdout",
     "output_type": "stream",
     "text": [
      "--2022-09-14 18:55:27--  https://bit.ly/3gLj0Q6\n",
      "Resolving bit.ly (bit.ly)... 67.199.248.11, 67.199.248.10\n",
      "Connecting to bit.ly (bit.ly)|67.199.248.11|:443... connected.\n",
      "HTTP request sent, awaiting response... 301 Moved Permanently\n",
      "Location: https://drive.google.com/uc?export=download&id=1or_QN1ksv81DNog6Tu_kWcZ5jJWf5W9E [following]\n",
      "--2022-09-14 18:55:28--  https://drive.google.com/uc?export=download&id=1or_QN1ksv81DNog6Tu_kWcZ5jJWf5W9E\n",
      "Resolving drive.google.com (drive.google.com)... 142.250.206.206, 2404:6800:400a:80a::200e\n",
      "Connecting to drive.google.com (drive.google.com)|142.250.206.206|:443... connected.\n",
      "HTTP request sent, awaiting response... 303 See Other\n",
      "Location: https://doc-0c-10-docs.googleusercontent.com/docs/securesc/ha0ro937gcuc7l7deffksulhg5h7mbp1/93qm0h6fv3g4vkl01smttfas3foonepr/1663149300000/17946651057176172524/*/1or_QN1ksv81DNog6Tu_kWcZ5jJWf5W9E?e=download&uuid=eea91aa6-a950-4248-a643-5f815036cc2a [following]\n",
      "Warning: wildcards not supported in HTTP.\n",
      "--2022-09-14 18:55:28--  https://doc-0c-10-docs.googleusercontent.com/docs/securesc/ha0ro937gcuc7l7deffksulhg5h7mbp1/93qm0h6fv3g4vkl01smttfas3foonepr/1663149300000/17946651057176172524/*/1or_QN1ksv81DNog6Tu_kWcZ5jJWf5W9E?e=download&uuid=eea91aa6-a950-4248-a643-5f815036cc2a\n",
      "Resolving doc-0c-10-docs.googleusercontent.com (doc-0c-10-docs.googleusercontent.com)... 172.217.25.161, 2404:6800:400a:80c::2001\n",
      "Connecting to doc-0c-10-docs.googleusercontent.com (doc-0c-10-docs.googleusercontent.com)|172.217.25.161|:443... connected.\n",
      "HTTP request sent, awaiting response... 200 OK\n",
      "Length: 39208 (38K) [application/zip]\n",
      "Saving to: ‘3gLj0Q6.1’\n",
      "\n",
      "3gLj0Q6.1           100%[===================>]  38.29K  --.-KB/s    in 0.04s   \n",
      "\n",
      "2022-09-14 18:55:29 (877 KB/s) - ‘3gLj0Q6.1’ saved [39208/39208]\n",
      "\n"
     ]
    }
   ],
   "source": [
    "# Download the data\n",
    "\n",
    "!wget 'https://bit.ly/3gLj0Q6'\n",
    "\n",
    "import zipfile\n",
    "with zipfile.ZipFile('3gLj0Q6', 'r') as existing_zip:\n",
    "    existing_zip.extractall('data')"
   ]
  },
  {
   "cell_type": "code",
   "execution_count": 4,
   "id": "c9152e93",
   "metadata": {},
   "outputs": [],
   "source": [
    "# Importing pandas, DecisionTreeClassifier\n",
    "\n",
    "import pandas as pd\n",
    "from sklearn.tree import DecisionTreeRegressor"
   ]
  },
  {
   "cell_type": "code",
   "execution_count": 5,
   "id": "fd8727b0",
   "metadata": {},
   "outputs": [],
   "source": [
    "# Importing a csv data as DataFrame objects\n",
    "\n",
    "train = pd.read_csv('data/train.csv')\n",
    "test = pd.read_csv('data/test.csv')"
   ]
  },
  {
   "cell_type": "code",
   "execution_count": 6,
   "id": "7c47eb3e",
   "metadata": {},
   "outputs": [
    {
     "name": "stdout",
     "output_type": "stream",
     "text": [
      "======== TRAIN DATA ========\n",
      "Train DataFrame information\n",
      "\n",
      "<class 'pandas.core.frame.DataFrame'>\n",
      "RangeIndex: 1459 entries, 0 to 1458\n",
      "Data columns (total 11 columns):\n",
      " #   Column                  Non-Null Count  Dtype  \n",
      "---  ------                  --------------  -----  \n",
      " 0   id                      1459 non-null   int64  \n",
      " 1   hour                    1459 non-null   int64  \n",
      " 2   hour_bef_temperature    1457 non-null   float64\n",
      " 3   hour_bef_precipitation  1457 non-null   float64\n",
      " 4   hour_bef_windspeed      1450 non-null   float64\n",
      " 5   hour_bef_humidity       1457 non-null   float64\n",
      " 6   hour_bef_visibility     1457 non-null   float64\n",
      " 7   hour_bef_ozone          1383 non-null   float64\n",
      " 8   hour_bef_pm10           1369 non-null   float64\n",
      " 9   hour_bef_pm2.5          1342 non-null   float64\n",
      " 10  count                   1459 non-null   float64\n",
      "dtypes: float64(9), int64(2)\n",
      "memory usage: 125.5 KB\n",
      "None \n",
      "\n",
      "Train DataFrame shape:  (1459, 11) \n",
      "\n",
      "Number of null values:  id                          0\n",
      "hour                        0\n",
      "hour_bef_temperature        2\n",
      "hour_bef_precipitation      2\n",
      "hour_bef_windspeed          9\n",
      "hour_bef_humidity           2\n",
      "hour_bef_visibility         2\n",
      "hour_bef_ozone             76\n",
      "hour_bef_pm10              90\n",
      "hour_bef_pm2.5            117\n",
      "count                       0\n",
      "dtype: int64\n",
      "\n",
      "\n",
      "======== TEST DATA ========\n",
      "Test DataFrame information\n",
      "\n",
      "<class 'pandas.core.frame.DataFrame'>\n",
      "RangeIndex: 715 entries, 0 to 714\n",
      "Data columns (total 10 columns):\n",
      " #   Column                  Non-Null Count  Dtype  \n",
      "---  ------                  --------------  -----  \n",
      " 0   id                      715 non-null    int64  \n",
      " 1   hour                    715 non-null    int64  \n",
      " 2   hour_bef_temperature    714 non-null    float64\n",
      " 3   hour_bef_precipitation  714 non-null    float64\n",
      " 4   hour_bef_windspeed      714 non-null    float64\n",
      " 5   hour_bef_humidity       714 non-null    float64\n",
      " 6   hour_bef_visibility     714 non-null    float64\n",
      " 7   hour_bef_ozone          680 non-null    float64\n",
      " 8   hour_bef_pm10           678 non-null    float64\n",
      " 9   hour_bef_pm2.5          679 non-null    float64\n",
      "dtypes: float64(8), int64(2)\n",
      "memory usage: 56.0 KB\n",
      "None \n",
      "\n",
      "Test DataFrame shape:  (715, 10) \n",
      "\n",
      "Number of null values:  id                         0\n",
      "hour                       0\n",
      "hour_bef_temperature       1\n",
      "hour_bef_precipitation     1\n",
      "hour_bef_windspeed         1\n",
      "hour_bef_humidity          1\n",
      "hour_bef_visibility        1\n",
      "hour_bef_ozone            35\n",
      "hour_bef_pm10             37\n",
      "hour_bef_pm2.5            36\n",
      "dtype: int64\n"
     ]
    }
   ],
   "source": [
    "# Check the train, test data information and its shape\n",
    "\n",
    "print('======== TRAIN DATA ========')\n",
    "print('Train DataFrame information\\n')\n",
    "print(train.info(), '\\n')\n",
    "print('Train DataFrame shape: ', train.shape, '\\n')\n",
    "print('Number of null values: ', train.isnull().sum())\n",
    "print('\\n')\n",
    "print('======== TEST DATA ========')\n",
    "print('Test DataFrame information\\n')\n",
    "print(test.info(), '\\n')\n",
    "print('Test DataFrame shape: ', test.shape, '\\n')\n",
    "print('Number of null values: ', test.isnull().sum())"
   ]
  },
  {
   "cell_type": "markdown",
   "id": "5857b686",
   "metadata": {},
   "source": [
    "### Eraing missing values"
   ]
  },
  {
   "cell_type": "code",
   "execution_count": 7,
   "id": "fde10859",
   "metadata": {},
   "outputs": [
    {
     "name": "stdout",
     "output_type": "stream",
     "text": [
      "id                        0\n",
      "hour                      0\n",
      "hour_bef_temperature      0\n",
      "hour_bef_precipitation    0\n",
      "hour_bef_windspeed        0\n",
      "hour_bef_humidity         0\n",
      "hour_bef_visibility       0\n",
      "hour_bef_ozone            0\n",
      "hour_bef_pm10             0\n",
      "hour_bef_pm2.5            0\n",
      "count                     0\n",
      "dtype: int64\n",
      "id                        0\n",
      "hour                      0\n",
      "hour_bef_temperature      0\n",
      "hour_bef_precipitation    0\n",
      "hour_bef_windspeed        0\n",
      "hour_bef_humidity         0\n",
      "hour_bef_visibility       0\n",
      "hour_bef_ozone            0\n",
      "hour_bef_pm10             0\n",
      "hour_bef_pm2.5            0\n",
      "dtype: int64\n"
     ]
    }
   ],
   "source": [
    "train = train.dropna()\n",
    "test = test.dropna()\n",
    "\n",
    "## Check if the rows that have null values are deleted.\n",
    "print(train.isnull().sum())\n",
    "print(test.isnull().sum())"
   ]
  },
  {
   "cell_type": "markdown",
   "id": "75e6a12e",
   "metadata": {},
   "source": [
    "The feature 'count' is what we will make our prediction.<br>\n",
    "So, we need to use drop() function with axis=1 option to create pandas DataFrame with the train data excluding 'count' feature.<br><br>\n",
    "Let's assign the name of train data as 'X_train',<br>\n",
    "and for the real value(observation) for our prediction, which is the 'count' feature, name it 'Y_train'."
   ]
  },
  {
   "cell_type": "code",
   "execution_count": 8,
   "id": "f335e368",
   "metadata": {},
   "outputs": [],
   "source": [
    "X_train = train.drop(['count'], axis=1)\n",
    "Y_train = train['count']"
   ]
  },
  {
   "cell_type": "code",
   "execution_count": 9,
   "id": "3484ef65",
   "metadata": {},
   "outputs": [
    {
     "name": "stdout",
     "output_type": "stream",
     "text": [
      "======== X_train ========\n",
      "         id  hour  hour_bef_temperature  hour_bef_precipitation  \\\n",
      "0        3    20                  16.3                     1.0   \n",
      "1        6    13                  20.1                     0.0   \n",
      "2        7     6                  13.9                     0.0   \n",
      "3        8    23                   8.1                     0.0   \n",
      "4        9    18                  29.5                     0.0   \n",
      "...    ...   ...                   ...                     ...   \n",
      "1454  2174     4                  16.8                     0.0   \n",
      "1455  2175     3                  10.8                     0.0   \n",
      "1456  2176     5                  18.3                     0.0   \n",
      "1457  2178    21                  20.7                     0.0   \n",
      "1458  2179    17                  21.1                     0.0   \n",
      "\n",
      "      hour_bef_windspeed  hour_bef_humidity  hour_bef_visibility  \\\n",
      "0                    1.5               89.0                576.0   \n",
      "1                    1.4               48.0                916.0   \n",
      "2                    0.7               79.0               1382.0   \n",
      "3                    2.7               54.0                946.0   \n",
      "4                    4.8                7.0               2000.0   \n",
      "...                  ...                ...                  ...   \n",
      "1454                 1.6               53.0               2000.0   \n",
      "1455                 3.8               45.0               2000.0   \n",
      "1456                 1.9               54.0               2000.0   \n",
      "1457                 3.7               37.0               1395.0   \n",
      "1458                 3.1               47.0               1973.0   \n",
      "\n",
      "      hour_bef_ozone  hour_bef_pm10  hour_bef_pm2.5  \n",
      "0              0.027           76.0            33.0  \n",
      "1              0.042           73.0            40.0  \n",
      "2              0.033           32.0            19.0  \n",
      "3              0.040           75.0            64.0  \n",
      "4              0.057           27.0            11.0  \n",
      "...              ...            ...             ...  \n",
      "1454           0.031           37.0            27.0  \n",
      "1455           0.039           34.0            19.0  \n",
      "1456           0.009           30.0            21.0  \n",
      "1457           0.082           71.0            36.0  \n",
      "1458           0.046           38.0            17.0  \n",
      "\n",
      "[1328 rows x 10 columns] \n",
      "\n",
      "\n",
      "======== Y_train ========\n",
      " 0        49.0\n",
      "1       159.0\n",
      "2        26.0\n",
      "3        57.0\n",
      "4       431.0\n",
      "        ...  \n",
      "1454     21.0\n",
      "1455     20.0\n",
      "1456     22.0\n",
      "1457    216.0\n",
      "1458    170.0\n",
      "Name: count, Length: 1328, dtype: float64 \n",
      "\n"
     ]
    }
   ],
   "source": [
    "print('======== X_train ========\\n', X_train, '\\n\\n')\n",
    "print('======== Y_train ========\\n', Y_train, '\\n')"
   ]
  },
  {
   "cell_type": "markdown",
   "id": "c63a02d6",
   "metadata": {},
   "source": [
    "Declare the model using the variable 'model' we declared above.<br>\n",
    "Using fit() function, let X_train as input and Y_train as output.<br>\n",
    "Train the model using fit()."
   ]
  },
  {
   "cell_type": "code",
   "execution_count": 10,
   "id": "21ee7014",
   "metadata": {},
   "outputs": [
    {
     "data": {
      "text/plain": [
       "DecisionTreeRegressor()"
      ]
     },
     "execution_count": 10,
     "metadata": {},
     "output_type": "execute_result"
    }
   ],
   "source": [
    "model = DecisionTreeRegressor()\n",
    "model.fit(X_train, Y_train)  # train the model"
   ]
  },
  {
   "cell_type": "code",
   "execution_count": null,
   "id": "35f955a0",
   "metadata": {},
   "outputs": [],
   "source": []
  }
 ],
 "metadata": {
  "kernelspec": {
   "display_name": "Python 3 (ipykernel)",
   "language": "python",
   "name": "python3"
  },
  "language_info": {
   "codemirror_mode": {
    "name": "ipython",
    "version": 3
   },
   "file_extension": ".py",
   "mimetype": "text/x-python",
   "name": "python",
   "nbconvert_exporter": "python",
   "pygments_lexer": "ipython3",
   "version": "3.9.12"
  }
 },
 "nbformat": 4,
 "nbformat_minor": 5
}
