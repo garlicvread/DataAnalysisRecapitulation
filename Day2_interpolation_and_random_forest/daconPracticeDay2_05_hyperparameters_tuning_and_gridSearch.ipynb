{
 "cells": [
  {
   "cell_type": "markdown",
   "id": "2d912416",
   "metadata": {
    "pycharm": {
     "name": "#%% md\n"
    }
   },
   "source": [
    "### The concept of hyperparameter\n",
    "Hyperparameter tuning is one of the most important parts of a machine learning pipeline. A wrong choice of the hyperparameters’ values may lead to wrong results and a model with poor performance.<br>\n",
    "\n",
    "Hyperparameters are model parameters whose values are set **before** training.<br> These hyperparameters might address model design questions such as:\n",
    "\n",
    "- What **degree of polynomial features** should I use for my linear model?\n",
    "- What should be the **maximum depth** allowed for my decision tree?\n",
    "- What should be the **minimum number of samples** required at a leaf node in my decision tree?\n",
    "- **How many trees** should I include in my random forest?\n",
    "- **How many neurons** should I have in my neural network layer?\n",
    "- **How many layers** should I have in my neural network?\n",
    "- What should I set my **learning rate** to for gradient descent?\n",
    "\n",
    "Let's make it simple. For example, **the number of neurons** of a feed-forward neural network is a hyperparameter, because we set it before training. Another example of hyperparameter is **the number of trees** in a random forest or the penalty intensity of a Lasso regression. As you can see, the hyperparameters are all numbers that are set before the training phase and their values affect the behavior of the model."
   ]
  },
  {
   "cell_type": "markdown",
   "id": "9fb8eaee",
   "metadata": {
    "pycharm": {
     "name": "#%% md\n"
    }
   },
   "source": [
    "### IMPORTANT!\n",
    "Hyperparameters are **not** model parameters and they cannot be directly trained from the data. Model parameters are **learned** during training when we optimize a loss function using something like gradient descent."
   ]
  },
  {
   "cell_type": "markdown",
   "id": "76db0ac3",
   "metadata": {
    "pycharm": {
     "name": "#%% md\n"
    }
   },
   "source": [
    "\n",
    "### The reason for tuning the hyperparameters\n",
    "Why should we tune the hyperparameters of a model?<br>\n",
    "\n",
    "That is because we don’t really know the models' optimal values in advance. A model with different hyperparameters is, actually, a different model so it may have a different performance. In the case of neural networks, a less number of neurons could cause underfitting and a more number of them could cause overfitting. In both cases, the models are not good, so we need to find the optimal number of neurons that cause the best performance.<br>\n",
    "\n",
    "If the model has several hyperparameters, we need to find the best combination of values of the hyperparameters searching in a multi-dimensional space. That’s why hyperparameter tuning, which is the process of finding the right values of the hyperparameters, is a very complex and time-expensive task."
   ]
  },
  {
   "cell_type": "markdown",
   "id": "dcfeee4d",
   "metadata": {
    "pycharm": {
     "name": "#%% md\n"
    }
   },
   "source": [
    "### Hyperparameter tuning in practice\n",
    "Tuning hyperparameters means making decisions on the **stopping criteria**. There are several stopping criteria, but we're going to deal with four first, such as:\n",
    "1. The max_depth\n",
    "2. The minimum size of the node: min_samples_split\n",
    "3. The minimum lift: min_impurity_decrease\n",
    "4. The cost-complexity<br>\n",
    "---\n",
    "The **max depth** means the maximum number of depth in the decision tree. The tree structure cannot be deeper than this value we set using **`max_depth`**. The smaller it is, the smaller the tree will be.<br>\n",
    "\n",
    "The **minimum size of the node** is the number of data(samples) to split. The smaller the value, the larger the tree will be, and its default value is 2.<br>\n",
    "\n",
    "We can set this using **`min_samples_split`** A node will be split if this split induces a decrease of the impurity greater than or equal to this value. The equation for min_sample_split is:<br>\n",
    "\n",
    "$$\\frac{N_t}{N} \\times (impurity - \\frac{N_{tR}}{N_t} \\times right\\;impurity - \\frac{N_{tl}}{N_t} \\times left\\;impurity)$$\n",
    "\n",
    "Where<br>\n",
    "$N$ is the total number of samples<br>\n",
    "$N_t$ is the total number of samples in current node<br>\n",
    "$N_{tL}$ is the number of samples in the left child<br>\n",
    "$N_{tR}$ is the number of samples in the right child<br>\n",
    "$N$, $N_t$, $N_{tL}$, $N_{tR}$ are all refer to the weighted sum, if `sample_weight` is passed.<br>\n",
    "\n",
    "The **minimum lift** is a criterion to see if the association rules between the items are coincidental or not. We can set the minimum lift using **`min_impurity_decrease`**.<br>\n",
    "\n",
    "When the lift is the same or smaller than the value set, the tree will not split more. The smaller the value, the larger the tree will be.<br>\n",
    "\n",
    "For pruning, we can think of two types of it. The first is **pre-pruning**, and the other is **post-pruning**. Pre-pruning is also called **early stopping**. It means literally stopping the training early. And we can do it by setting the max depth or the number of branches. Post-pruning is the process of performing pruning after we train the model. We can do post-pruning using the cost-complexity pruning technique.<br>\n",
    "\n",
    "The **cost complexity** is a concept that is used in **cost complexity pruning**. Pruning is a technique to prevent overfitting by limiting the model by setting penalty coefficients for the impurity and for the decision tree being larger.<br>\n",
    "\n",
    "In practice, we can do cost complexity pruning by finding the **$\\alpha$** value with the least influence and prune the node with that value. The equation for cost complexity pruning is:\n",
    "\n",
    "$$R_\\alpha (T) = R(T) + \\alpha |T|$$\n",
    "\n",
    "where<br>\n",
    "$R(T)$ is the learning errors of the leaf nodes<br>\n",
    "$|T|$ is the number of leaf nodes<br>\n",
    "$\\alpha$ is the complexity parameter\n",
    "\n",
    "When we focus on reducing the  𝑅(𝑇)  value only, the size of the tree gets bigger. It means the tree structure has more branches.  𝛼 decides the number of leaf nodes to be remained, thus we need to modify it to prevent overfitting. The bigger the  𝛼  value, the more nodes being pruned will be.<br>\n",
    "\n",
    "Note that we need to calculate the $R_\\alpha (T_t)$ for the sub-trees. The equation is very similar to above one.\n",
    "\n",
    "$$R_\\alpha (T_t) = R(T_t) + \\alpha |T_t|$$\n",
    "\n",
    "---\n",
    "Using the stopping criteria such as above, we can set the optimal conditions for model training, and this process is called hyperparameter tuning."
   ]
  },
  {
   "cell_type": "markdown",
   "id": "acfc1e54",
   "metadata": {
    "pycharm": {
     "name": "#%% md\n"
    }
   },
   "source": [
    "### GridSearch\n",
    "\n",
    "Amongst the hyperparameter tuning techniques, GridSearch, a sort of exhaustive search, shows the best performance. GridSearch is a technique that finds the best combination among the possible combinations. However, GridSearch also has cons because the training consumes a lot of time.<br>\n",
    "\n",
    "For now, we will implement an exhaustive search using GridSearchCV module."
   ]
  },
  {
   "cell_type": "code",
   "execution_count": 1,
   "id": "6962d5ac",
   "metadata": {
    "pycharm": {
     "name": "#%%\n"
    }
   },
   "outputs": [
    {
     "name": "stdout",
     "output_type": "stream",
     "text": [
      "--2022-09-14 21:23:45--  https://bit.ly/3gLj0Q6\n",
      "Resolving bit.ly (bit.ly)... 67.199.248.10, 67.199.248.11\n",
      "Connecting to bit.ly (bit.ly)|67.199.248.10|:443... connected.\n",
      "HTTP request sent, awaiting response... 301 Moved Permanently\n",
      "Location: https://drive.google.com/uc?export=download&id=1or_QN1ksv81DNog6Tu_kWcZ5jJWf5W9E [following]\n",
      "--2022-09-14 21:23:45--  https://drive.google.com/uc?export=download&id=1or_QN1ksv81DNog6Tu_kWcZ5jJWf5W9E\n",
      "Resolving drive.google.com (drive.google.com)... 142.250.207.110, 2404:6800:400a:813::200e\n",
      "Connecting to drive.google.com (drive.google.com)|142.250.207.110|:443... connected.\n",
      "HTTP request sent, awaiting response... 303 See Other\n",
      "Location: https://doc-0c-10-docs.googleusercontent.com/docs/securesc/ha0ro937gcuc7l7deffksulhg5h7mbp1/a6i577p0b6tmd389h86ia1i9dgtok35a/1663158225000/17946651057176172524/*/1or_QN1ksv81DNog6Tu_kWcZ5jJWf5W9E?e=download&uuid=08d2fcf4-cfc3-4ddb-b114-912af689774a [following]\n",
      "Warning: wildcards not supported in HTTP.\n",
      "--2022-09-14 21:23:46--  https://doc-0c-10-docs.googleusercontent.com/docs/securesc/ha0ro937gcuc7l7deffksulhg5h7mbp1/a6i577p0b6tmd389h86ia1i9dgtok35a/1663158225000/17946651057176172524/*/1or_QN1ksv81DNog6Tu_kWcZ5jJWf5W9E?e=download&uuid=08d2fcf4-cfc3-4ddb-b114-912af689774a\n",
      "Resolving doc-0c-10-docs.googleusercontent.com (doc-0c-10-docs.googleusercontent.com)... 142.250.206.193, 2404:6800:400a:80a::2001\n",
      "Connecting to doc-0c-10-docs.googleusercontent.com (doc-0c-10-docs.googleusercontent.com)|142.250.206.193|:443... connected.\n",
      "HTTP request sent, awaiting response... 200 OK\n",
      "Length: 39208 (38K) [application/zip]\n",
      "Saving to: ‘3gLj0Q6’\n",
      "\n",
      "3gLj0Q6             100%[===================>]  38.29K  --.-KB/s    in 0.04s   \n",
      "\n",
      "2022-09-14 21:23:46 (859 KB/s) - ‘3gLj0Q6’ saved [39208/39208]\n",
      "\n"
     ]
    }
   ],
   "source": [
    "# Downloading data\n",
    "!wget 'https://bit.ly/3gLj0Q6'\n",
    "\n",
    "# Unzip the downloaded data\n",
    "import zipfile\n",
    "with zipfile.ZipFile('3gLj0Q6', 'r') as existing_zip:\n",
    "    existing_zip.extractall('data')"
   ]
  },
  {
   "cell_type": "code",
   "execution_count": 2,
   "id": "e7a0e87f",
   "metadata": {
    "pycharm": {
     "name": "#%%\n"
    }
   },
   "outputs": [],
   "source": [
    "# Import pandas and RandomForestRegressor\n",
    "import pandas as pd\n",
    "from sklearn.ensemble import RandomForestRegressor\n",
    "\n",
    "# Import numpy\n",
    "import numpy as np"
   ]
  },
  {
   "cell_type": "code",
   "execution_count": 3,
   "id": "e92700d2",
   "metadata": {
    "pycharm": {
     "name": "#%%\n"
    }
   },
   "outputs": [],
   "source": [
    "# Load data\n",
    "train = pd.read_csv('data/train.csv')\n",
    "test = pd.read_csv('data/test.csv')"
   ]
  },
  {
   "cell_type": "code",
   "execution_count": 4,
   "id": "feca6915",
   "metadata": {
    "pycharm": {
     "name": "#%%\n"
    }
   },
   "outputs": [
    {
     "name": "stdout",
     "output_type": "stream",
     "text": [
      "============ Train Data ============\n",
      "\n",
      "<class 'pandas.core.frame.DataFrame'>\n",
      "RangeIndex: 1459 entries, 0 to 1458\n",
      "Data columns (total 11 columns):\n",
      " #   Column                  Non-Null Count  Dtype  \n",
      "---  ------                  --------------  -----  \n",
      " 0   id                      1459 non-null   int64  \n",
      " 1   hour                    1459 non-null   int64  \n",
      " 2   hour_bef_temperature    1457 non-null   float64\n",
      " 3   hour_bef_precipitation  1457 non-null   float64\n",
      " 4   hour_bef_windspeed      1450 non-null   float64\n",
      " 5   hour_bef_humidity       1457 non-null   float64\n",
      " 6   hour_bef_visibility     1457 non-null   float64\n",
      " 7   hour_bef_ozone          1383 non-null   float64\n",
      " 8   hour_bef_pm10           1369 non-null   float64\n",
      " 9   hour_bef_pm2.5          1342 non-null   float64\n",
      " 10  count                   1459 non-null   float64\n",
      "dtypes: float64(9), int64(2)\n",
      "memory usage: 125.5 KB\n",
      "Train Data Information\n",
      " None \n",
      "\n",
      "Train Data Shape:  (1459, 11) \n",
      "\n",
      "============ Test Data ============\n",
      "<class 'pandas.core.frame.DataFrame'>\n",
      "RangeIndex: 715 entries, 0 to 714\n",
      "Data columns (total 10 columns):\n",
      " #   Column                  Non-Null Count  Dtype  \n",
      "---  ------                  --------------  -----  \n",
      " 0   id                      715 non-null    int64  \n",
      " 1   hour                    715 non-null    int64  \n",
      " 2   hour_bef_temperature    714 non-null    float64\n",
      " 3   hour_bef_precipitation  714 non-null    float64\n",
      " 4   hour_bef_windspeed      714 non-null    float64\n",
      " 5   hour_bef_humidity       714 non-null    float64\n",
      " 6   hour_bef_visibility     714 non-null    float64\n",
      " 7   hour_bef_ozone          680 non-null    float64\n",
      " 8   hour_bef_pm10           678 non-null    float64\n",
      " 9   hour_bef_pm2.5          679 non-null    float64\n",
      "dtypes: float64(8), int64(2)\n",
      "memory usage: 56.0 KB\n",
      "Test Data Information\n",
      " None \n",
      "\n",
      "Test Data Shape:  (715, 10) \n",
      "\n"
     ]
    }
   ],
   "source": [
    "# Check if the data loading is successful\n",
    "print('============ Train Data ============\\n')\n",
    "print('Train Data Information\\n', train.info(), '\\n')\n",
    "print('Train Data Shape: ', train.shape, '\\n')\n",
    "\n",
    "print('============ Test Data ============')\n",
    "print('Test Data Information\\n', test.info(), '\\n')\n",
    "print('Test Data Shape: ', test.shape, '\\n')"
   ]
  },
  {
   "cell_type": "code",
   "execution_count": 5,
   "id": "344c4b9a",
   "metadata": {},
   "outputs": [
    {
     "data": {
      "text/html": [
       "<div>\n",
       "<style scoped>\n",
       "    .dataframe tbody tr th:only-of-type {\n",
       "        vertical-align: middle;\n",
       "    }\n",
       "\n",
       "    .dataframe tbody tr th {\n",
       "        vertical-align: top;\n",
       "    }\n",
       "\n",
       "    .dataframe thead th {\n",
       "        text-align: right;\n",
       "    }\n",
       "</style>\n",
       "<table border=\"1\" class=\"dataframe\">\n",
       "  <thead>\n",
       "    <tr style=\"text-align: right;\">\n",
       "      <th></th>\n",
       "      <th>id</th>\n",
       "      <th>hour</th>\n",
       "      <th>hour_bef_temperature</th>\n",
       "      <th>hour_bef_precipitation</th>\n",
       "      <th>hour_bef_windspeed</th>\n",
       "      <th>hour_bef_humidity</th>\n",
       "      <th>hour_bef_visibility</th>\n",
       "      <th>hour_bef_ozone</th>\n",
       "      <th>hour_bef_pm10</th>\n",
       "      <th>hour_bef_pm2.5</th>\n",
       "      <th>count</th>\n",
       "    </tr>\n",
       "  </thead>\n",
       "  <tbody>\n",
       "    <tr>\n",
       "      <th>count</th>\n",
       "      <td>1459.000000</td>\n",
       "      <td>1459.000000</td>\n",
       "      <td>1457.000000</td>\n",
       "      <td>1457.000000</td>\n",
       "      <td>1450.000000</td>\n",
       "      <td>1457.000000</td>\n",
       "      <td>1457.000000</td>\n",
       "      <td>1383.000000</td>\n",
       "      <td>1369.000000</td>\n",
       "      <td>1342.000000</td>\n",
       "      <td>1459.000000</td>\n",
       "    </tr>\n",
       "    <tr>\n",
       "      <th>mean</th>\n",
       "      <td>1105.914325</td>\n",
       "      <td>11.493489</td>\n",
       "      <td>16.717433</td>\n",
       "      <td>0.031572</td>\n",
       "      <td>2.479034</td>\n",
       "      <td>52.231297</td>\n",
       "      <td>1405.216884</td>\n",
       "      <td>0.039149</td>\n",
       "      <td>57.168736</td>\n",
       "      <td>30.327124</td>\n",
       "      <td>108.563400</td>\n",
       "    </tr>\n",
       "    <tr>\n",
       "      <th>std</th>\n",
       "      <td>631.338681</td>\n",
       "      <td>6.922790</td>\n",
       "      <td>5.239150</td>\n",
       "      <td>0.174917</td>\n",
       "      <td>1.378265</td>\n",
       "      <td>20.370387</td>\n",
       "      <td>583.131708</td>\n",
       "      <td>0.019509</td>\n",
       "      <td>31.771019</td>\n",
       "      <td>14.713252</td>\n",
       "      <td>82.631733</td>\n",
       "    </tr>\n",
       "    <tr>\n",
       "      <th>min</th>\n",
       "      <td>3.000000</td>\n",
       "      <td>0.000000</td>\n",
       "      <td>3.100000</td>\n",
       "      <td>0.000000</td>\n",
       "      <td>0.000000</td>\n",
       "      <td>7.000000</td>\n",
       "      <td>78.000000</td>\n",
       "      <td>0.003000</td>\n",
       "      <td>9.000000</td>\n",
       "      <td>8.000000</td>\n",
       "      <td>1.000000</td>\n",
       "    </tr>\n",
       "    <tr>\n",
       "      <th>25%</th>\n",
       "      <td>555.500000</td>\n",
       "      <td>5.500000</td>\n",
       "      <td>12.800000</td>\n",
       "      <td>0.000000</td>\n",
       "      <td>1.400000</td>\n",
       "      <td>36.000000</td>\n",
       "      <td>879.000000</td>\n",
       "      <td>0.025500</td>\n",
       "      <td>36.000000</td>\n",
       "      <td>20.000000</td>\n",
       "      <td>37.000000</td>\n",
       "    </tr>\n",
       "    <tr>\n",
       "      <th>50%</th>\n",
       "      <td>1115.000000</td>\n",
       "      <td>11.000000</td>\n",
       "      <td>16.600000</td>\n",
       "      <td>0.000000</td>\n",
       "      <td>2.300000</td>\n",
       "      <td>51.000000</td>\n",
       "      <td>1577.000000</td>\n",
       "      <td>0.039000</td>\n",
       "      <td>51.000000</td>\n",
       "      <td>26.000000</td>\n",
       "      <td>96.000000</td>\n",
       "    </tr>\n",
       "    <tr>\n",
       "      <th>75%</th>\n",
       "      <td>1651.000000</td>\n",
       "      <td>17.500000</td>\n",
       "      <td>20.100000</td>\n",
       "      <td>0.000000</td>\n",
       "      <td>3.400000</td>\n",
       "      <td>69.000000</td>\n",
       "      <td>1994.000000</td>\n",
       "      <td>0.052000</td>\n",
       "      <td>69.000000</td>\n",
       "      <td>37.000000</td>\n",
       "      <td>150.000000</td>\n",
       "    </tr>\n",
       "    <tr>\n",
       "      <th>max</th>\n",
       "      <td>2179.000000</td>\n",
       "      <td>23.000000</td>\n",
       "      <td>30.000000</td>\n",
       "      <td>1.000000</td>\n",
       "      <td>8.000000</td>\n",
       "      <td>99.000000</td>\n",
       "      <td>2000.000000</td>\n",
       "      <td>0.125000</td>\n",
       "      <td>269.000000</td>\n",
       "      <td>90.000000</td>\n",
       "      <td>431.000000</td>\n",
       "    </tr>\n",
       "  </tbody>\n",
       "</table>\n",
       "</div>"
      ],
      "text/plain": [
       "                id         hour  hour_bef_temperature  hour_bef_precipitation  \\\n",
       "count  1459.000000  1459.000000           1457.000000             1457.000000   \n",
       "mean   1105.914325    11.493489             16.717433                0.031572   \n",
       "std     631.338681     6.922790              5.239150                0.174917   \n",
       "min       3.000000     0.000000              3.100000                0.000000   \n",
       "25%     555.500000     5.500000             12.800000                0.000000   \n",
       "50%    1115.000000    11.000000             16.600000                0.000000   \n",
       "75%    1651.000000    17.500000             20.100000                0.000000   \n",
       "max    2179.000000    23.000000             30.000000                1.000000   \n",
       "\n",
       "       hour_bef_windspeed  hour_bef_humidity  hour_bef_visibility  \\\n",
       "count         1450.000000        1457.000000          1457.000000   \n",
       "mean             2.479034          52.231297          1405.216884   \n",
       "std              1.378265          20.370387           583.131708   \n",
       "min              0.000000           7.000000            78.000000   \n",
       "25%              1.400000          36.000000           879.000000   \n",
       "50%              2.300000          51.000000          1577.000000   \n",
       "75%              3.400000          69.000000          1994.000000   \n",
       "max              8.000000          99.000000          2000.000000   \n",
       "\n",
       "       hour_bef_ozone  hour_bef_pm10  hour_bef_pm2.5        count  \n",
       "count     1383.000000    1369.000000     1342.000000  1459.000000  \n",
       "mean         0.039149      57.168736       30.327124   108.563400  \n",
       "std          0.019509      31.771019       14.713252    82.631733  \n",
       "min          0.003000       9.000000        8.000000     1.000000  \n",
       "25%          0.025500      36.000000       20.000000    37.000000  \n",
       "50%          0.039000      51.000000       26.000000    96.000000  \n",
       "75%          0.052000      69.000000       37.000000   150.000000  \n",
       "max          0.125000     269.000000       90.000000   431.000000  "
      ]
     },
     "execution_count": 5,
     "metadata": {},
     "output_type": "execute_result"
    }
   ],
   "source": [
    "# Check the features of the data\n",
    "train.describe()"
   ]
  },
  {
   "cell_type": "markdown",
   "id": "32378178",
   "metadata": {},
   "source": [
    "### Handling missing values\n",
    "\n",
    "We have four options for now, such as:<br>\n",
    "\n",
    "1: Delete the missing value<br>\n",
    "2: Replace the missing value with a specific scala value<br>\n",
    "3: Replace the missing value with the mean of the feature<br>\n",
    "4: Replace the missing value using interpolation<br>\n",
    "\n",
    "Since the Jupyter notebook does not allow us multiple interactions in a single cell, we will write our code in separate cells.<br>\n",
    "\n",
    "- I noticed this after I wrote the bellow code. I was stupid."
   ]
  },
  {
   "cell_type": "code",
   "execution_count": 6,
   "id": "ab4ce90b",
   "metadata": {},
   "outputs": [],
   "source": [
    "# print('Missing value handling options\\n')\n",
    "# print('You have four options now to handle the missing value.')\n",
    "# print('Input the number of process you want to, then hit the return key.\\n')\n",
    "# print('  1: Delete the missing value')\n",
    "# print('  2: Replace the missing value with specific scala value')\n",
    "# print('  3: Replace the missing value with the mean of the feature')\n",
    "# print('  4: Replace the missing value using interpolation')\n",
    "\n",
    "# user_input = input()\n",
    "\n",
    "# if user_input == 1:\n",
    "#     train.dropna(inplace=True)\n",
    "#     print('You have deleted the missing values!')\n",
    "# elif user_input == 2:\n",
    "#     print('Input the value you want to replace the missing value')\n",
    "#     inputted_value = input()\n",
    "#     train.fillna(inputted_value, inplace=True)\n",
    "#     test.fillna(inputted_value, inplace=True)\n",
    "#     print(f'You have replace the missing values of train data and test data with {inputted_value}.')\n",
    "# elif user_input == 3:\n",
    "#     train.fillna(train.mean(), inplace=True)\n",
    "#     test.fillna(test.mean(), inplace=True)\n",
    "#     print(f'You have replace the missing values of train data {train.mean()} and test data with {test.mean()}.')\n",
    "# elif user_input == 4:\n",
    "#     train.interpolate(inplace=True)\n",
    "#     test.interpolate(inplace=True)\n",
    "#     print('You have replace the missing values of train data and test data using linear interpolation.')"
   ]
  },
  {
   "cell_type": "code",
   "execution_count": 7,
   "id": "a09a9ab8",
   "metadata": {
    "pycharm": {
     "name": "#%%\n"
    }
   },
   "outputs": [
    {
     "name": "stdout",
     "output_type": "stream",
     "text": [
      "id                          0\n",
      "hour                        0\n",
      "hour_bef_temperature        2\n",
      "hour_bef_precipitation      2\n",
      "hour_bef_windspeed          9\n",
      "hour_bef_humidity           2\n",
      "hour_bef_visibility         2\n",
      "hour_bef_ozone             76\n",
      "hour_bef_pm10              90\n",
      "hour_bef_pm2.5            117\n",
      "count                       0\n",
      "dtype: int64 \n",
      "\n",
      "id                         0\n",
      "hour                       0\n",
      "hour_bef_temperature       1\n",
      "hour_bef_precipitation     1\n",
      "hour_bef_windspeed         1\n",
      "hour_bef_humidity          1\n",
      "hour_bef_visibility        1\n",
      "hour_bef_ozone            35\n",
      "hour_bef_pm10             37\n",
      "hour_bef_pm2.5            36\n",
      "dtype: int64\n"
     ]
    }
   ],
   "source": [
    "# Check if there are missing values\n",
    "print(train.isnull().sum(), '\\n')\n",
    "print(test.isnull().sum())"
   ]
  },
  {
   "cell_type": "code",
   "execution_count": null,
   "id": "aa541dcf",
   "metadata": {},
   "outputs": [],
   "source": [
    "# Delete the missing values\n",
    "train.dropna(inplace=True)\n",
    "print('You have deleted the missing values!')"
   ]
  },
  {
   "cell_type": "code",
   "execution_count": null,
   "id": "8be8f08c",
   "metadata": {},
   "outputs": [],
   "source": [
    "# Replace the missing values with a specific value, or a string\n",
    "inputted_value = input()\n",
    "train.fillna(inputted_value, inplace=True)\n",
    "test.fillna(inputted_value, inplace=True)\n",
    "print(f'You have replace the missing values of train data and test data with {inputted_value}.')"
   ]
  },
  {
   "cell_type": "code",
   "execution_count": null,
   "id": "1ea913be",
   "metadata": {},
   "outputs": [],
   "source": [
    "# Replace the missing values with the mean of each feature\n",
    "train.fillna(train.mean(), inplace=True)\n",
    "test.fillna(test.mean(), inplace=True)\n",
    "print(f'You have replace the missing values of train data\\n{train.mean()}\\n\\nand test data with\\n{test.mean()}.')"
   ]
  },
  {
   "cell_type": "code",
   "execution_count": 8,
   "id": "34111bd6",
   "metadata": {},
   "outputs": [
    {
     "name": "stdout",
     "output_type": "stream",
     "text": [
      "You have replace the missing values of train data and test data using linear interpolation.\n"
     ]
    }
   ],
   "source": [
    "# Replace the missing values using linear interpolation\n",
    "train.interpolate(inplace=True)\n",
    "test.interpolate(inplace=True)\n",
    "print('You have replace the missing values of train data and test data using linear interpolation.')"
   ]
  },
  {
   "cell_type": "code",
   "execution_count": 9,
   "id": "62d2a959",
   "metadata": {
    "pycharm": {
     "name": "#%%\n"
    },
    "scrolled": true
   },
   "outputs": [
    {
     "name": "stdout",
     "output_type": "stream",
     "text": [
      "id                        0\n",
      "hour                      0\n",
      "hour_bef_temperature      0\n",
      "hour_bef_precipitation    0\n",
      "hour_bef_windspeed        0\n",
      "hour_bef_humidity         0\n",
      "hour_bef_visibility       0\n",
      "hour_bef_ozone            0\n",
      "hour_bef_pm10             0\n",
      "hour_bef_pm2.5            0\n",
      "count                     0\n",
      "dtype: int64 \n",
      "\n",
      "id                        0\n",
      "hour                      0\n",
      "hour_bef_temperature      0\n",
      "hour_bef_precipitation    0\n",
      "hour_bef_windspeed        0\n",
      "hour_bef_humidity         0\n",
      "hour_bef_visibility       0\n",
      "hour_bef_ozone            0\n",
      "hour_bef_pm10             0\n",
      "hour_bef_pm2.5            0\n",
      "dtype: int64\n"
     ]
    }
   ],
   "source": [
    "# Check if the null values are replaced well.\n",
    "print(train.isnull().sum(), '\\n')\n",
    "print(test.isnull().sum())"
   ]
  },
  {
   "cell_type": "code",
   "execution_count": 10,
   "id": "91669993",
   "metadata": {},
   "outputs": [],
   "source": [
    "# Import libraries for visualiztion\n",
    "import matplotlib\n",
    "import matplotlib.pyplot as plt\n",
    "import seaborn as sns"
   ]
  },
  {
   "cell_type": "code",
   "execution_count": 11,
   "id": "911bc51e",
   "metadata": {},
   "outputs": [],
   "source": [
    "# Set the minus figure to be printed properly\n",
    "plt.rc('axes', unicode_minus=False)"
   ]
  },
  {
   "cell_type": "code",
   "execution_count": 12,
   "id": "e8e04670",
   "metadata": {},
   "outputs": [],
   "source": [
    "# Hide warnings that do not necessary for the analysis\n",
    "import warnings\n",
    "warnings.filterwarnings('ignore')"
   ]
  },
  {
   "cell_type": "code",
   "execution_count": 13,
   "id": "36978e59",
   "metadata": {},
   "outputs": [
    {
     "data": {
      "image/png": "[encoded data removed]",
      "text/plain": [
       "<Figure size 288x288 with 1 Axes>"
      ]
     },
     "metadata": {
      "needs_background": "light"
     },
     "output_type": "display_data"
    },
    {
     "data": {
      "image/png": "[encoded data removed]",
      "text/plain": [
       "<Figure size 288x288 with 1 Axes>"
      ]
     },
     "metadata": {
      "needs_background": "light"
     },
     "output_type": "display_data"
    },
    {
     "data": {
      "image/png": "[encoded data removed]",
      "text/plain": [
       "<Figure size 288x288 with 1 Axes>"
      ]
     },
     "metadata": {
      "needs_background": "light"
     },
     "output_type": "display_data"
    },
    {
     "data": {
      "image/png": "[encoded data removed]",
      "text/plain": [
       "<Figure size 288x288 with 1 Axes>"
      ]
     },
     "metadata": {
      "needs_background": "light"
     },
     "output_type": "display_data"
    },
    {
     "data": {
      "image/png": "[encoded data removed]",
      "text/plain": [
       "<Figure size 288x288 with 1 Axes>"
      ]
     },
     "metadata": {
      "needs_background": "light"
     },
     "output_type": "display_data"
    },
    {
     "data": {
      "image/png": "[encoded data removed]",
      "text/plain": [
       "<Figure size 288x288 with 1 Axes>"
      ]
     },
     "metadata": {
      "needs_background": "light"
     },
     "output_type": "display_data"
    },
    {
     "data": {
      "image/png": "[encoded data removed]",
      "text/plain": [
       "<Figure size 288x288 with 1 Axes>"
      ]
     },
     "metadata": {
      "needs_background": "light"
     },
     "output_type": "display_data"
    },
    {
     "data": {
      "image/png": "[encoded data removed]",
      "text/plain": [
       "<Figure size 288x288 with 1 Axes>"
      ]
     },
     "metadata": {
      "needs_background": "light"
     },
     "output_type": "display_data"
    },
    {
     "data": {
      "image/png": "[encoded data removed]",
      "text/plain": [
       "<Figure size 288x288 with 1 Axes>"
      ]
     },
     "metadata": {
      "needs_background": "light"
     },
     "output_type": "display_data"
    },
    {
     "data": {
      "image/png": "[encoded data removed]",
      "text/plain": [
       "<Figure size 288x288 with 1 Axes>"
      ]
     },
     "metadata": {
      "needs_background": "light"
     },
     "output_type": "display_data"
    },
    {
     "data": {
      "image/png": "[encoded data removed]",
      "text/plain": [
       "<Figure size 288x288 with 1 Axes>"
      ]
     },
     "metadata": {
      "needs_background": "light"
     },
     "output_type": "display_data"
    }
   ],
   "source": [
    "# Visualize features\n",
    "for column in train.columns:\n",
    "    plt.figure(figsize=(4, 4))\n",
    "    plt.title(column)\n",
    "    sns.histplot(train[column])\n",
    "    plt.show()"
   ]
  },
  {
   "cell_type": "code",
   "execution_count": 14,
   "id": "a808b353",
   "metadata": {},
   "outputs": [
    {
     "data": {
      "image/png": "[encoded data removed]",
      "text/plain": [
       "<Figure size 1440x1440 with 4 Axes>"
      ]
     },
     "metadata": {
      "needs_background": "light"
     },
     "output_type": "display_data"
    }
   ],
   "source": [
    "# When the data distribution is not even, we can use Min-Max Normalization\n",
    "train['hour_bef_pm2.5'] = np.log1p(train['hour_bef_pm2.5'])\n",
    "train['hour_bef_pm10'] = np.log1p(train['hour_bef_pm10'])\n",
    "\n",
    "test['hour_bef_pm2.5'] = np.log1p(test['hour_bef_pm2.5'])\n",
    "test['hour_bef_pm10'] = np.log1p(test['hour_bef_pm10'])\n",
    "\n",
    "fig, ax = plt.subplots(ncols=2, nrows=2, figsize=(20, 20))\n",
    "\n",
    "\n",
    "sns.histplot(train['hour_bef_pm2.5'], ax=ax[0, 0])\n",
    "sns.histplot(train['hour_bef_pm10'], ax=ax[0, 1])\n",
    "\n",
    "sns.histplot(test['hour_bef_pm2.5'], ax=ax[1, 0])\n",
    "sns.histplot(test['hour_bef_pm10'], ax=ax[1, 1])\n",
    "plt.show()"
   ]
  },
  {
   "cell_type": "code",
   "execution_count": 15,
   "id": "2f6ea544",
   "metadata": {},
   "outputs": [
    {
     "data": {
      "text/html": [
       "<div>\n",
       "<style scoped>\n",
       "    .dataframe tbody tr th:only-of-type {\n",
       "        vertical-align: middle;\n",
       "    }\n",
       "\n",
       "    .dataframe tbody tr th {\n",
       "        vertical-align: top;\n",
       "    }\n",
       "\n",
       "    .dataframe thead th {\n",
       "        text-align: right;\n",
       "    }\n",
       "</style>\n",
       "<table border=\"1\" class=\"dataframe\">\n",
       "  <thead>\n",
       "    <tr style=\"text-align: right;\">\n",
       "      <th></th>\n",
       "      <th>id</th>\n",
       "      <th>hour</th>\n",
       "      <th>hour_bef_temperature</th>\n",
       "      <th>hour_bef_precipitation</th>\n",
       "      <th>hour_bef_windspeed</th>\n",
       "      <th>hour_bef_humidity</th>\n",
       "      <th>hour_bef_visibility</th>\n",
       "      <th>hour_bef_ozone</th>\n",
       "      <th>hour_bef_pm10</th>\n",
       "      <th>hour_bef_pm2.5</th>\n",
       "      <th>count</th>\n",
       "    </tr>\n",
       "  </thead>\n",
       "  <tbody>\n",
       "    <tr>\n",
       "      <th>id</th>\n",
       "      <td>1.000000</td>\n",
       "      <td>-0.010901</td>\n",
       "      <td>-0.000591</td>\n",
       "      <td>-0.056401</td>\n",
       "      <td>-0.003306</td>\n",
       "      <td>-0.017522</td>\n",
       "      <td>0.008626</td>\n",
       "      <td>0.053813</td>\n",
       "      <td>-0.022519</td>\n",
       "      <td>0.008771</td>\n",
       "      <td>-0.002131</td>\n",
       "    </tr>\n",
       "    <tr>\n",
       "      <th>hour</th>\n",
       "      <td>-0.010901</td>\n",
       "      <td>1.000000</td>\n",
       "      <td>0.407575</td>\n",
       "      <td>0.021708</td>\n",
       "      <td>0.461421</td>\n",
       "      <td>-0.330014</td>\n",
       "      <td>0.177172</td>\n",
       "      <td>0.356396</td>\n",
       "      <td>-0.040232</td>\n",
       "      <td>-0.083060</td>\n",
       "      <td>0.626047</td>\n",
       "    </tr>\n",
       "    <tr>\n",
       "      <th>hour_bef_temperature</th>\n",
       "      <td>-0.000591</td>\n",
       "      <td>0.407575</td>\n",
       "      <td>1.000000</td>\n",
       "      <td>-0.096827</td>\n",
       "      <td>0.375731</td>\n",
       "      <td>-0.496449</td>\n",
       "      <td>0.197925</td>\n",
       "      <td>0.516929</td>\n",
       "      <td>-0.003407</td>\n",
       "      <td>-0.044123</td>\n",
       "      <td>0.619594</td>\n",
       "    </tr>\n",
       "    <tr>\n",
       "      <th>hour_bef_precipitation</th>\n",
       "      <td>-0.056401</td>\n",
       "      <td>0.021708</td>\n",
       "      <td>-0.096827</td>\n",
       "      <td>1.000000</td>\n",
       "      <td>0.022536</td>\n",
       "      <td>0.276250</td>\n",
       "      <td>-0.216982</td>\n",
       "      <td>-0.058989</td>\n",
       "      <td>-0.044841</td>\n",
       "      <td>0.020741</td>\n",
       "      <td>-0.163580</td>\n",
       "    </tr>\n",
       "    <tr>\n",
       "      <th>hour_bef_windspeed</th>\n",
       "      <td>-0.003306</td>\n",
       "      <td>0.461421</td>\n",
       "      <td>0.375731</td>\n",
       "      <td>0.022536</td>\n",
       "      <td>1.000000</td>\n",
       "      <td>-0.432527</td>\n",
       "      <td>0.251438</td>\n",
       "      <td>0.498197</td>\n",
       "      <td>0.002864</td>\n",
       "      <td>-0.216222</td>\n",
       "      <td>0.458103</td>\n",
       "    </tr>\n",
       "    <tr>\n",
       "      <th>hour_bef_humidity</th>\n",
       "      <td>-0.017522</td>\n",
       "      <td>-0.330014</td>\n",
       "      <td>-0.496449</td>\n",
       "      <td>0.276250</td>\n",
       "      <td>-0.432527</td>\n",
       "      <td>1.000000</td>\n",
       "      <td>-0.592463</td>\n",
       "      <td>-0.397750</td>\n",
       "      <td>-0.063387</td>\n",
       "      <td>0.209889</td>\n",
       "      <td>-0.471329</td>\n",
       "    </tr>\n",
       "    <tr>\n",
       "      <th>hour_bef_visibility</th>\n",
       "      <td>0.008626</td>\n",
       "      <td>0.177172</td>\n",
       "      <td>0.197925</td>\n",
       "      <td>-0.216982</td>\n",
       "      <td>0.251438</td>\n",
       "      <td>-0.592463</td>\n",
       "      <td>1.000000</td>\n",
       "      <td>0.091149</td>\n",
       "      <td>-0.427773</td>\n",
       "      <td>-0.612240</td>\n",
       "      <td>0.299315</td>\n",
       "    </tr>\n",
       "    <tr>\n",
       "      <th>hour_bef_ozone</th>\n",
       "      <td>0.053813</td>\n",
       "      <td>0.356396</td>\n",
       "      <td>0.516929</td>\n",
       "      <td>-0.058989</td>\n",
       "      <td>0.498197</td>\n",
       "      <td>-0.397750</td>\n",
       "      <td>0.091149</td>\n",
       "      <td>1.000000</td>\n",
       "      <td>0.121120</td>\n",
       "      <td>0.018760</td>\n",
       "      <td>0.454864</td>\n",
       "    </tr>\n",
       "    <tr>\n",
       "      <th>hour_bef_pm10</th>\n",
       "      <td>-0.022519</td>\n",
       "      <td>-0.040232</td>\n",
       "      <td>-0.003407</td>\n",
       "      <td>-0.044841</td>\n",
       "      <td>0.002864</td>\n",
       "      <td>-0.063387</td>\n",
       "      <td>-0.427773</td>\n",
       "      <td>0.121120</td>\n",
       "      <td>1.000000</td>\n",
       "      <td>0.596698</td>\n",
       "      <td>-0.107252</td>\n",
       "    </tr>\n",
       "    <tr>\n",
       "      <th>hour_bef_pm2.5</th>\n",
       "      <td>0.008771</td>\n",
       "      <td>-0.083060</td>\n",
       "      <td>-0.044123</td>\n",
       "      <td>0.020741</td>\n",
       "      <td>-0.216222</td>\n",
       "      <td>0.209889</td>\n",
       "      <td>-0.612240</td>\n",
       "      <td>0.018760</td>\n",
       "      <td>0.596698</td>\n",
       "      <td>1.000000</td>\n",
       "      <td>-0.140882</td>\n",
       "    </tr>\n",
       "    <tr>\n",
       "      <th>count</th>\n",
       "      <td>-0.002131</td>\n",
       "      <td>0.626047</td>\n",
       "      <td>0.619594</td>\n",
       "      <td>-0.163580</td>\n",
       "      <td>0.458103</td>\n",
       "      <td>-0.471329</td>\n",
       "      <td>0.299315</td>\n",
       "      <td>0.454864</td>\n",
       "      <td>-0.107252</td>\n",
       "      <td>-0.140882</td>\n",
       "      <td>1.000000</td>\n",
       "    </tr>\n",
       "  </tbody>\n",
       "</table>\n",
       "</div>"
      ],
      "text/plain": [
       "                              id      hour  hour_bef_temperature  \\\n",
       "id                      1.000000 -0.010901             -0.000591   \n",
       "hour                   -0.010901  1.000000              0.407575   \n",
       "hour_bef_temperature   -0.000591  0.407575              1.000000   \n",
       "hour_bef_precipitation -0.056401  0.021708             -0.096827   \n",
       "hour_bef_windspeed     -0.003306  0.461421              0.375731   \n",
       "hour_bef_humidity      -0.017522 -0.330014             -0.496449   \n",
       "hour_bef_visibility     0.008626  0.177172              0.197925   \n",
       "hour_bef_ozone          0.053813  0.356396              0.516929   \n",
       "hour_bef_pm10          -0.022519 -0.040232             -0.003407   \n",
       "hour_bef_pm2.5          0.008771 -0.083060             -0.044123   \n",
       "count                  -0.002131  0.626047              0.619594   \n",
       "\n",
       "                        hour_bef_precipitation  hour_bef_windspeed  \\\n",
       "id                                   -0.056401           -0.003306   \n",
       "hour                                  0.021708            0.461421   \n",
       "hour_bef_temperature                 -0.096827            0.375731   \n",
       "hour_bef_precipitation                1.000000            0.022536   \n",
       "hour_bef_windspeed                    0.022536            1.000000   \n",
       "hour_bef_humidity                     0.276250           -0.432527   \n",
       "hour_bef_visibility                  -0.216982            0.251438   \n",
       "hour_bef_ozone                       -0.058989            0.498197   \n",
       "hour_bef_pm10                        -0.044841            0.002864   \n",
       "hour_bef_pm2.5                        0.020741           -0.216222   \n",
       "count                                -0.163580            0.458103   \n",
       "\n",
       "                        hour_bef_humidity  hour_bef_visibility  \\\n",
       "id                              -0.017522             0.008626   \n",
       "hour                            -0.330014             0.177172   \n",
       "hour_bef_temperature            -0.496449             0.197925   \n",
       "hour_bef_precipitation           0.276250            -0.216982   \n",
       "hour_bef_windspeed              -0.432527             0.251438   \n",
       "hour_bef_humidity                1.000000            -0.592463   \n",
       "hour_bef_visibility             -0.592463             1.000000   \n",
       "hour_bef_ozone                  -0.397750             0.091149   \n",
       "hour_bef_pm10                   -0.063387            -0.427773   \n",
       "hour_bef_pm2.5                   0.209889            -0.612240   \n",
       "count                           -0.471329             0.299315   \n",
       "\n",
       "                        hour_bef_ozone  hour_bef_pm10  hour_bef_pm2.5  \\\n",
       "id                            0.053813      -0.022519        0.008771   \n",
       "hour                          0.356396      -0.040232       -0.083060   \n",
       "hour_bef_temperature          0.516929      -0.003407       -0.044123   \n",
       "hour_bef_precipitation       -0.058989      -0.044841        0.020741   \n",
       "hour_bef_windspeed            0.498197       0.002864       -0.216222   \n",
       "hour_bef_humidity            -0.397750      -0.063387        0.209889   \n",
       "hour_bef_visibility           0.091149      -0.427773       -0.612240   \n",
       "hour_bef_ozone                1.000000       0.121120        0.018760   \n",
       "hour_bef_pm10                 0.121120       1.000000        0.596698   \n",
       "hour_bef_pm2.5                0.018760       0.596698        1.000000   \n",
       "count                         0.454864      -0.107252       -0.140882   \n",
       "\n",
       "                           count  \n",
       "id                     -0.002131  \n",
       "hour                    0.626047  \n",
       "hour_bef_temperature    0.619594  \n",
       "hour_bef_precipitation -0.163580  \n",
       "hour_bef_windspeed      0.458103  \n",
       "hour_bef_humidity      -0.471329  \n",
       "hour_bef_visibility     0.299315  \n",
       "hour_bef_ozone          0.454864  \n",
       "hour_bef_pm10          -0.107252  \n",
       "hour_bef_pm2.5         -0.140882  \n",
       "count                   1.000000  "
      ]
     },
     "execution_count": 15,
     "metadata": {},
     "output_type": "execute_result"
    }
   ],
   "source": [
    "# Compute pairwise correlation of columns, excluding NA/null values.\n",
    "train.corr()"
   ]
  },
  {
   "cell_type": "code",
   "execution_count": 16,
   "id": "4b262be4",
   "metadata": {},
   "outputs": [
    {
     "data": {
      "text/plain": [
       "<AxesSubplot:>"
      ]
     },
     "execution_count": 16,
     "metadata": {},
     "output_type": "execute_result"
    },
    {
     "data": {
      "image/png": "[encoded data removed]",
      "text/plain": [
       "<Figure size 864x864 with 2 Axes>"
      ]
     },
     "metadata": {
      "needs_background": "light"
     },
     "output_type": "display_data"
    }
   ],
   "source": [
    "# Visualize the correlation\n",
    "plt.figure(figsize = (12, 12))\n",
    "\n",
    "# annot: optional. If True, write the data value in each cell.\n",
    "# If an array-like with the same shape as data, then we can use this option to annotate the heatmap.\n",
    "# The annotation will replace the heatmap's data.\n",
    "# Note that DataFrames will match on position, not index.\n",
    "sns.heatmap(train.corr(), annot = True)"
   ]
  },
  {
   "cell_type": "code",
   "execution_count": 17,
   "id": "a433afe5",
   "metadata": {},
   "outputs": [
    {
     "data": {
      "text/plain": [
       "<AxesSubplot:xlabel='hour', ylabel='count'>"
      ]
     },
     "execution_count": 17,
     "metadata": {},
     "output_type": "execute_result"
    },
    {
     "data": {
      "image/png": "[encoded data removed]",
      "text/plain": [
       "<Figure size 432x288 with 1 Axes>"
      ]
     },
     "metadata": {
      "needs_background": "light"
     },
     "output_type": "display_data"
    }
   ],
   "source": [
    "# We also can visualize the data using bar plot\n",
    "sns.barplot(x = 'hour', y = 'count', data = train)"
   ]
  },
  {
   "cell_type": "markdown",
   "id": "59370009",
   "metadata": {},
   "source": [
    "### Modeling"
   ]
  },
  {
   "cell_type": "code",
   "execution_count": 18,
   "id": "ac77eb6c",
   "metadata": {
    "pycharm": {
     "name": "#%%\n"
    }
   },
   "outputs": [
    {
     "data": {
      "text/plain": [
       "RandomForestRegressor()"
      ]
     },
     "execution_count": 18,
     "metadata": {},
     "output_type": "execute_result"
    }
   ],
   "source": [
    "# Declare the model\n",
    "X_train = train.drop(['count'], axis=1)\n",
    "Y_train = train['count']\n",
    "\n",
    "# Train the model\n",
    "model = RandomForestRegressor(criterion = 'squared_error')\n",
    "model.fit(X_train, Y_train)"
   ]
  },
  {
   "cell_type": "code",
   "execution_count": 19,
   "id": "8a206751",
   "metadata": {
    "pycharm": {
     "name": "#%%\n"
    }
   },
   "outputs": [
    {
     "data": {
      "text/plain": [
       "array([0.02476378, 0.59415039, 0.18229563, 0.01792784, 0.02585046,\n",
       "       0.03706189, 0.03000948, 0.03491659, 0.0321738 , 0.02085015])"
      ]
     },
     "execution_count": 19,
     "metadata": {},
     "output_type": "execute_result"
    }
   ],
   "source": [
    "# Print the feature importances\n",
    "model.feature_importances_"
   ]
  },
  {
   "cell_type": "code",
   "execution_count": 20,
   "id": "11606f48",
   "metadata": {
    "pycharm": {
     "name": "#%%\n"
    }
   },
   "outputs": [
    {
     "data": {
      "image/png": "[encoded data removed]",
      "text/plain": [
       "<Figure size 576x432 with 1 Axes>"
      ]
     },
     "metadata": {
      "needs_background": "light"
     },
     "output_type": "display_data"
    }
   ],
   "source": [
    "# Visualizing the feature importances\n",
    "import matplotlib.pyplot as plt\n",
    "import seaborn as sns\n",
    "%matplotlib inline\n",
    "\n",
    "importance_values = model.feature_importances_\n",
    "importances = pd.Series(importance_values, index = X_train.columns)\n",
    "importance_top10 = importances.sort_values(ascending=False)[:10]\n",
    "\n",
    "plt.figure(figsize=(8, 6))\n",
    "plt.title('Top 10 feature importances')\n",
    "sns.barplot(x = importance_top10, y = importance_top10.index)\n",
    "plt.show()"
   ]
  },
  {
   "cell_type": "code",
   "execution_count": 21,
   "id": "77253a66",
   "metadata": {
    "pycharm": {
     "name": "#%%\n"
    }
   },
   "outputs": [],
   "source": [
    "# Create train datasets by removing the less important features\n",
    "X_train1 = train.drop(['count', 'hour_bef_precipitation'], axis=1)\n",
    "X_train2 = train.drop(['count', 'hour_bef_precipitation', 'hour_bef_pm2.5'], axis=1)\n",
    "X_train3 = train.drop(['count', 'hour_bef_precipitation', 'hour_bef_pm2.5', 'id'], axis=1)\n",
    "X_train4 = train.drop(['count', 'hour_bef_precipitation', 'hour_bef_pm2.5', 'id', 'hour_bef_windspeed'], axis=1)\n",
    "\n",
    "Y_train = train['count']\n",
    "\n",
    "# Create test datasets\n",
    "test1 = test.drop(['hour_bef_precipitation'], axis=1)\n",
    "test2 = test.drop(['hour_bef_precipitation', 'hour_bef_pm2.5'], axis=1)\n",
    "test3 = test.drop(['hour_bef_precipitation', 'hour_bef_pm2.5', 'id'], axis=1)\n",
    "test4 = test.drop(['hour_bef_precipitation', 'hour_bef_pm2.5', 'id', 'hour_bef_windspeed'], axis=1)"
   ]
  },
  {
   "cell_type": "code",
   "execution_count": 22,
   "id": "253704f6",
   "metadata": {
    "pycharm": {
     "name": "#%%\n"
    },
    "scrolled": true
   },
   "outputs": [
    {
     "name": "stdout",
     "output_type": "stream",
     "text": [
      "X_train1.shape:  (1459, 9) \n",
      "\n",
      "X_train2.shape:  (1459, 8) \n",
      "\n",
      "X_train3.shape:  (1459, 7) \n",
      "\n",
      "X_train4.shape:  (1459, 6) \n",
      "\n",
      "Y_train.shape:  (1459,) \n",
      "\n",
      "test1.shape (715, 9) \n",
      "\n",
      "test2.shape (715, 8) \n",
      "\n",
      "test3.shape (715, 7) \n",
      "\n",
      "test4.shape (715, 6) \n",
      "\n"
     ]
    }
   ],
   "source": [
    "# Check the shape of training and test data\n",
    "print('X_train1.shape: ', X_train1.shape, '\\n')\n",
    "print('X_train2.shape: ', X_train2.shape, '\\n')\n",
    "print('X_train3.shape: ', X_train3.shape, '\\n')\n",
    "print('X_train4.shape: ', X_train4.shape, '\\n')\n",
    "print('Y_train.shape: ', Y_train.shape, '\\n')\n",
    "print('test1.shape', test1.shape, '\\n')\n",
    "print('test2.shape', test2.shape, '\\n')\n",
    "print('test3.shape', test3.shape, '\\n')\n",
    "print('test4.shape', test4.shape, '\\n')"
   ]
  },
  {
   "cell_type": "code",
   "execution_count": 23,
   "id": "8dc3bb8e",
   "metadata": {
    "pycharm": {
     "name": "#%%\n"
    }
   },
   "outputs": [
    {
     "data": {
      "text/plain": [
       "RandomForestRegressor()"
      ]
     },
     "execution_count": 23,
     "metadata": {},
     "output_type": "execute_result"
    }
   ],
   "source": [
    "# Declare separate models\n",
    "model1 = RandomForestRegressor(criterion = 'squared_error')\n",
    "model2 = RandomForestRegressor(criterion = 'squared_error')\n",
    "model3 = RandomForestRegressor(criterion = 'squared_error')\n",
    "model4 = RandomForestRegressor(criterion = 'squared_error')\n",
    "\n",
    "# Train the saparated models\n",
    "model1.fit(X_train1, Y_train)\n",
    "model2.fit(X_train2, Y_train)\n",
    "model3.fit(X_train3, Y_train)\n",
    "model4.fit(X_train4, Y_train)"
   ]
  },
  {
   "cell_type": "markdown",
   "id": "fdb07143",
   "metadata": {
    "pycharm": {
     "name": "#%% md\n"
    }
   },
   "source": [
    "### RandomForest Hyperparameters\n",
    "\n",
    "**n_estimators:** Number of decision making tree\n",
    "- Default = 10\n",
    "- When increase it, the performance may get better, but may cause too much train time.<br>\n",
    "\n",
    "**min_samples_split**: The minimum number of sample used to split node\n",
    "- Used to control overfitting\n",
    "- Default = 2: The smaller the value, the greater possibility of overfitting because of the increasing node split<br>\n",
    "\n",
    "**min_samples_leaf**: The minimum number of samples to be leaf node\n",
    "- Along to min_samples_split, it is used to control the overfitting\n",
    "- When the data is imbalanced, some data of a specific class may extremely small, thus it needs to be kept the small value<br>\n",
    "\n",
    "**max_features**: Maximum number of features for optimal split\n",
    "- Default = 'auto'\n",
    "    - Note: The default value of max_feature is none in decision tree\n",
    "- When specified in int type: The number of features\n",
    "- When specified in float type: The ratio of features\n",
    "- 'sqrt' or 'auto': Samples as many as $\\sqrt{The\\;number\\;of\\;whole\\;features}$\n",
    "- log : Samples as many as $\\log_2{(The\\;number\\;of\\;whole\\;features)}$<br>\n",
    "\n",
    "**max_depth**: Maximum depth of the tree\n",
    "- Default = none\n",
    "    - Split until the class value is completely determined\n",
    "    - Or until the number of data is less than min_samples_split\n",
    "- As the depth increases, it may overfit, so proper control is required.<br>\n",
    "\n",
    "**max_leaf_nodes**: The maximum number of leaf nodes\n",
    "\n",
    "### GridSearchCV initializer\n",
    "- estimator: classifier, regressor, pipeline, and so on.\n",
    "\n",
    "- param_grid: In the dictionary type, input the parameters that are going to be used for parameter tuning.\n",
    "\n",
    "- scoring: Method to evaluate the prediction performance. Usually set to accuracy.\n",
    "\n",
    "- cv: Specifies the number of divisions in cross-validation(The number of fold).\n",
    "\n",
    "- refit: The default value is True. When it is set default, it finds the optimal hyperparameter and retrains it.\n",
    "\n",
    "- n_jobs: The default value is 1, Set -1 to use all cores."
   ]
  },
  {
   "cell_type": "code",
   "execution_count": 24,
   "id": "01f7dd87",
   "metadata": {
    "pycharm": {
     "name": "#%%\n"
    }
   },
   "outputs": [
    {
     "name": "stdout",
     "output_type": "stream",
     "text": [
      "Processing time:  73.06106042861938 seconds.\n"
     ]
    }
   ],
   "source": [
    "from sklearn.model_selection import GridSearchCV\n",
    "import time\n",
    "\n",
    "model = RandomForestRegressor(criterion = 'mse',\n",
    "                              random_state=2022)\n",
    "\n",
    "params = {'min_samples_split': [30, 50, 70],\n",
    "          'max_depth': [5, 6, 7],\n",
    "          'n_estimators': [50, 150, 250]}\n",
    "\n",
    "# Declare GridSearchCV for each model \n",
    "greedy_CV1 = GridSearchCV(estimator = model1,\n",
    "                          param_grid = params,\n",
    "                          cv = 3,\n",
    "                          scoring = 'neg_mean_squared_error')\n",
    "\n",
    "greedy_CV2 = GridSearchCV(estimator = model2,\n",
    "                          param_grid = params,\n",
    "                          cv = 3,\n",
    "                          scoring = 'neg_mean_squared_error')\n",
    "\n",
    "greedy_CV3 = GridSearchCV(estimator = model3,\n",
    "                          param_grid = params,\n",
    "                          cv = 3,\n",
    "                          scoring = 'neg_mean_squared_error')\n",
    "\n",
    "greedy_CV4 = GridSearchCV(estimator = model4,\n",
    "                          param_grid = params,\n",
    "                          cv = 3,\n",
    "                          scoring = 'neg_mean_squared_error')\n",
    "\n",
    "start_time = time.time()\n",
    "\n",
    "# Train for each dataset\n",
    "greedy_CV1.fit(X_train1, Y_train)\n",
    "greedy_CV2.fit(X_train2, Y_train)\n",
    "greedy_CV3.fit(X_train3, Y_train)\n",
    "greedy_CV4.fit(X_train4, Y_train)\n",
    "\n",
    "end_time = time.time()\n",
    "\n",
    "print(\"Processing time: \", end_time-start_time, 'seconds.')"
   ]
  },
  {
   "cell_type": "code",
   "execution_count": 25,
   "id": "f62ebe21",
   "metadata": {
    "pycharm": {
     "name": "#%%\n"
    }
   },
   "outputs": [
    {
     "name": "stdout",
     "output_type": "stream",
     "text": [
      "[ 87.3400386  248.32849938  99.14119759  30.9780525   52.72879999\n",
      " 123.82824284 143.59283245 303.58481745  29.93132716 115.42726986\n",
      " 296.79858905 247.37725783 118.98572584  39.17088926 235.72818274\n",
      " 158.39867476  25.4094869  205.04821054 311.82845174 168.0570745\n",
      " 219.07712897  72.71033451  19.37987025 138.17745381 148.40410116\n",
      " 111.27704845  25.07779777 117.20872679 108.31807495 148.26734479\n",
      "  86.5246975   25.95409004  60.76166388 133.58527488 260.38775201\n",
      "  29.33538096 134.14978951 157.32020049 218.64456376  69.06850254\n",
      "  60.39257548 118.72035907 164.48225611  82.57880206 298.70551753\n",
      " 191.72736752  70.50583785  60.79999377  18.69970106  87.01738301\n",
      " 248.17337167  87.64087616 160.48098443 105.26019079 187.59098945\n",
      " 161.51022615  39.92767474 174.87177927  19.36631118  18.30890417\n",
      "  90.53525207  89.01511723 261.68387172 288.84386195 160.69046009\n",
      " 296.10121843  18.96701136 217.57074047 142.49735033  25.8933967\n",
      " 103.75813225  37.95778327 161.15624585  18.3040238  302.57139797\n",
      " 208.75934199  31.2431512  175.83729159 224.54755748  18.75738653\n",
      " 274.82000836 130.41219762  87.6821598   87.33945444  88.24326509\n",
      " 288.55920238  59.83194354 163.34116537  88.25250912 278.31708587\n",
      " 284.68877667 170.12238205  60.84450025 101.94403368  39.66898196\n",
      "  87.33945444  90.53282114  25.78255816 211.98619936 163.09404966\n",
      "  18.79232685 170.42002393  45.2380829  108.70410077  60.84947778\n",
      "  55.75039203 101.91833545  19.09979348 170.3685058  152.57894411\n",
      " 201.59376616 225.22760307 179.88332694 112.38388192  61.00485179\n",
      " 125.61367487 268.23683756  39.44671124 203.70289604  18.83438019\n",
      " 101.91557046 101.65623411 217.76348825 102.23685834  39.97068488\n",
      " 117.15740426  60.53630057  16.41546085 192.04269273  62.34502135\n",
      " 126.66590484 158.15601146  18.80147192 139.54378253 289.84631212\n",
      " 126.85613583  39.68948577 137.22704342 271.25135466 308.20950848\n",
      " 178.7001972   26.27197486  30.31011521  87.21276244  87.49443172\n",
      " 112.30544147  85.95109852 120.3035949  156.51885405 199.3250916\n",
      " 125.75258438 292.87885333 298.03562117 239.10918432 166.93938979\n",
      "  17.71872057 116.89685965  18.89459434  87.61754333 142.28391747\n",
      " 144.89326112  19.23944428 203.73409176 237.20150715 136.06689301\n",
      "  19.05819675 247.58875597 164.26541963 284.98585518  18.81710406\n",
      " 112.10533877 131.90278837  87.17534217 129.65311192 101.48292081\n",
      " 102.40395196 259.57628966 207.38950835 177.66138623 115.42331514\n",
      " 206.11883617 170.00983755 150.9687505  245.70683886 143.0347921\n",
      "  88.34616445  88.80231269 292.26859784 170.82781677  39.89536407\n",
      "  39.04618541 155.54711682 111.5163995  114.3937703  130.89632875\n",
      " 255.16998052 305.9515403  141.23627287 120.25373763 105.84427067\n",
      "  19.15950513 236.43031224  19.15950513 308.98402167 136.08493198\n",
      "  31.32322289 124.62908104 269.1022058  222.45045182  60.92671969\n",
      " 289.24034007 176.64739729 129.6280601  211.37751407 266.44474359\n",
      " 124.24226585 243.27366675 109.7495349  140.89063184  87.36278728\n",
      "  80.59746398  26.22715284 105.4574842   59.49580289 158.59385588\n",
      "  39.83696937 200.3014196  195.34666395  31.53635699 178.97428194\n",
      " 279.96761019 125.34684924  18.79263703  68.26183917 205.75648827\n",
      " 103.11187199 313.15621118 296.32325254 162.03421692 217.92262148\n",
      "  17.3541518  195.56778279  26.11654849 151.40842384 160.97644378\n",
      " 101.47881782 140.45148922 221.75070307  88.27439391  19.04526752\n",
      "  86.12679562 255.14438028 219.44073876 172.18283282 129.85821827\n",
      " 176.71506491  26.4910126  315.71745592  86.70301201  18.82354425\n",
      " 171.15125918  26.34615101 216.84858875  26.0836489  165.54139407\n",
      " 223.45205152  19.10596085 246.18429407  87.01738301 191.64545679\n",
      " 126.41500634 107.49014949  59.96869442 294.27474997  18.94264301\n",
      " 285.91247484  87.2954719  179.69114524 183.05407143  39.41287522\n",
      " 288.67305352 104.54027896  18.6659535  171.49790063 172.9383291\n",
      " 104.68511016 253.07645442 156.16341829  67.25426883 102.69689505\n",
      " 121.5078812  278.88201237 166.30933085 121.87254773 140.91418937\n",
      "  29.75435244 162.19521552  38.98663628 237.06507295  31.00770288\n",
      " 104.80554399 232.10497229 231.36346703 194.80551828 309.52381077\n",
      " 206.08190653 141.38677163  62.54585391 160.14965181  87.45986156\n",
      " 281.98634621 257.31568546 220.5574876   31.62861979 260.97843435\n",
      " 202.01182439 147.84686215  39.75330145  26.06050777  18.66020225\n",
      " 243.20115992  39.10907504 142.64853039 110.4922919   88.0577672\n",
      " 314.19355191 277.73692735 100.89941247  88.65635004  93.13559713\n",
      "  25.56421382  85.41348895 102.70763273 188.86823674 132.14093867\n",
      "  31.20306153 230.75353891 260.61922459 131.99803675 307.40377922\n",
      "  18.52116511  18.93121352 297.67565872 184.78636197 115.1066347\n",
      "  19.01614342  30.908097   100.27363496 119.64248938 290.66977034\n",
      " 245.63553798 240.38212277  55.26661447  59.64667361 185.48430855\n",
      "  61.69149012  18.85625111  18.94264301 103.90366263 108.14018814\n",
      "  60.65412388 186.08508177 267.18807411 165.0934982  151.68487148\n",
      "  26.59761046  62.89038132 102.81814391  19.15554177 185.89097514\n",
      " 110.94200038  80.47715431 224.84392507 289.76047572 209.80886364\n",
      "  18.55423236  38.81150825 175.62893889  87.46477722  32.11817971\n",
      " 122.90310343 112.44119873 298.22897247 283.17585931 120.6992332\n",
      "  67.5053293  128.73936822 173.24785284 111.09534977 236.77882204\n",
      "  39.25303603 152.23698361 282.64370524  60.16048238 106.46037132\n",
      " 111.84926547 281.51943561  26.61963491  25.89503047 200.05464313\n",
      "  21.27833033  87.45986156  19.12350666 259.08481728  75.35408867\n",
      " 119.47241433 186.98240355 166.84222641 111.1926769  108.24485617\n",
      " 184.42794864 281.74304548 154.01989587 124.39674127  39.8617052\n",
      " 133.61873749 181.70146699 115.7359352   61.69878176  62.16840853\n",
      "  19.3210265   25.8242188   18.85129749  29.98872422 153.45084832\n",
      " 104.66330696 100.89139613 187.30309518 105.92403248 310.90510567\n",
      " 128.53074254 189.0605575  272.59748293 118.65365179 103.99499988\n",
      " 255.93836668 300.05016274  31.49870317 114.70139706 317.33399493\n",
      " 263.57776591 166.74828263  40.29228089  99.34616227 117.2422889\n",
      "  89.24652907 110.36013949  37.99367998 303.87589386 288.5109207\n",
      " 237.13529652 125.707199   168.54943887 221.93664125 139.14796847\n",
      " 112.12163123 231.22570039 102.75176223  61.40431209 116.83254838\n",
      " 237.68996473 123.82708121 106.74180414 109.93327728  87.53439236\n",
      " 135.9750828  278.02378959 101.26342998 186.61007065 180.8940261\n",
      " 224.63544862  60.38999046 306.62527278  95.95849094 161.72389194\n",
      " 179.98291293  19.56096589  28.49117855 236.3038163  281.51828304\n",
      " 104.30523144  88.08546489  26.27197486  19.11671421 222.96482043\n",
      " 154.28946126 307.82263612 263.78789839  87.45231891 131.06858408\n",
      " 198.66913624 169.30834707  62.81533539  63.54704904  40.86564343\n",
      " 173.69594214 116.43693958 220.72758622 286.79664262 243.75858373\n",
      "  18.35617326 210.23399275  60.96843665 110.62246795  31.95012551\n",
      " 216.87327919 246.583839    25.89503047 168.58708427  82.10940499\n",
      " 243.0263319  250.53630781 210.28258088 222.20557457 306.74714468\n",
      " 100.08044909  29.37597858 231.99856036 145.43138286 182.0702096\n",
      "  26.40443602 218.16737536  18.77786181  60.55818151  18.94039347\n",
      "  92.14843499  26.51315544 222.81785375 196.89787158 139.57568466\n",
      "  29.68659155  72.50495173  36.45849135 293.8535109  100.37189561\n",
      "  30.34221603 101.42983238  19.08145333  40.63104409  38.6512666\n",
      " 294.87706396  18.40110166 189.94279766 252.95189813 295.03724005\n",
      " 222.57540038 103.17195171 152.83310563 105.59186624  90.79530014\n",
      " 208.44380064  40.14261717  18.651583   154.2901794   18.73000883\n",
      " 163.41795235 142.5275454   31.99217884 158.44393706 200.31056862\n",
      " 230.45464885 312.71370651  25.43387932 101.74370063  39.39468028\n",
      "  31.70359625 102.93684913  83.54495563  26.19066601 149.33092537\n",
      "  87.5577252  186.44279929 125.53447826 313.85662556 185.024665\n",
      " 281.16958524 131.19467619 285.10750269  60.2490528   31.83364635\n",
      "  26.53719303  38.12953953  87.53439236  19.1479737   19.4565506\n",
      " 111.45487605  18.89834014 275.85240852 221.13743838 143.6913182\n",
      "  87.6660368   88.44744704  26.41105457 163.68390558 101.24056134\n",
      " 129.70855767 198.33031795  19.10592036 238.20876006 122.18222835\n",
      "  15.36699317 251.92720653 104.98475855  39.5078668   86.47420106\n",
      " 240.92991842 121.19957275 317.00151904 293.58953972 228.14068904\n",
      " 228.49602037 176.90761963  19.35421776 113.95476309 123.10452471\n",
      "  19.35488007  39.99200074 102.95633919 200.64627037 171.44053605\n",
      "  60.18163281 189.45661526 100.90405939 269.27783718 106.80216141\n",
      " 291.51652056  60.90653679  27.99155407  18.80985293 222.08660162\n",
      " 261.36065266  87.81694464 107.35350757  26.14442712  99.4893398\n",
      " 111.52116474 171.07863693 119.47909612  88.44744704  31.10099641\n",
      " 109.04802426 106.78436415  61.68205245 106.17034566 297.08211715\n",
      " 125.99548469 274.21223333 111.35479254 283.94998925 222.56073873\n",
      "  64.86597982 117.69995595 101.45336906 290.71725747 243.43662083\n",
      " 270.97320336 106.73370712 115.66064963 126.10207841  18.81511126\n",
      " 144.119854   270.73255386  26.30490098  87.22915196 115.65248142\n",
      " 116.38286963 155.23801403 125.44316112 279.1249654   87.53439236\n",
      " 105.90641903 135.09746283 292.90088398  96.08334741 140.96390536\n",
      " 156.37165898  29.44839552 169.12600723  19.13192436  25.93236892\n",
      "  19.08987102 219.76833191 105.53434366 155.39634948 271.63914909\n",
      " 133.57029867 124.81579925  26.05918186 165.90395444  18.21563685\n",
      " 143.02425227  26.46901907  30.2124297  100.98016059  60.28175359\n",
      " 193.34960791  21.80981688  81.51283064 184.24470185  30.43861884\n",
      " 288.11760814 252.23473763  18.71924842 317.76822597 123.23354833\n",
      " 240.70014064  39.34567381  87.34396538  26.4404692  274.8435094\n",
      "  60.95313038  63.45848502 119.49398163 170.30742268 169.60728931]\n",
      "[ 90.10776495 244.70105801 105.46347082  31.57833273  50.54709766\n",
      " 120.36804006 145.05587174 302.36208218  30.02127016 122.45660938\n",
      " 295.18092188 249.58829824 123.32733161  38.80038231 244.88143643\n",
      " 149.79223044  25.4691235  214.44368601 312.30733621 170.77352443\n",
      " 221.33760669  73.79517053  18.0862259  134.57963491 146.63876398\n",
      " 109.55842161  24.58243506 114.94997023 107.60848844 142.72204952\n",
      "  85.52442244  25.67291677  60.23726678 133.00899665 260.96244306\n",
      "  28.18693134 137.06634095 155.09438645 211.87290753  70.67826268\n",
      "  58.42270782 116.59080144 164.81250216  80.00739402 299.2468847\n",
      " 194.65764018  73.66299695  60.64465993  18.44667505  86.81132158\n",
      " 249.00864449  87.72601916 161.48800693 109.50148801 187.63942009\n",
      " 162.45398821  40.24768149 172.61156348  18.00833458  17.33005317\n",
      "  91.61080051  88.46870675 262.58701561 288.35399567 163.1838004\n",
      " 293.72065922  17.64987073 212.88826089 144.80567045  25.55381677\n",
      " 103.70503985  37.46333139 163.06589099  17.90519583 298.31286268\n",
      " 208.98391119  30.8780408  184.29487281 228.73128011  18.27470763\n",
      " 272.44791912 134.33806045  86.16947085  86.18846658  89.62603247\n",
      " 287.53675371  59.16456122 162.61249707  89.52625834 278.55144211\n",
      " 278.91406808 172.97095706  61.15808834 102.69932177  39.73370996\n",
      "  86.5636308   91.97179504  25.34888612 213.6948036  163.60307616\n",
      "  18.16936807 170.04350859  42.59083871 106.28883841  63.52949216\n",
      "  56.07913292 101.19593237  18.0955899  172.00808999 149.12732343\n",
      " 203.71938766 231.05660321 180.06467353 108.81424799  60.39412634\n",
      " 125.14742175 265.39417308  38.74115454 201.84184386  18.20695448\n",
      " 102.13158734 103.31190959 225.05395417 104.63934003  39.78187197\n",
      " 116.2779638   59.3023372   16.03760706 195.37441807  61.87734681\n",
      " 126.03332217 160.7465926   18.49055475 136.16058379 293.47273646\n",
      " 128.14521912  39.34187729 139.78588362 264.46869902 311.32504964\n",
      " 180.09224765  25.71196136  29.92380566  88.75885583  88.0103398\n",
      " 111.22380534  95.18487752 117.99231032 152.74030005 194.26267017\n",
      " 127.64640136 285.65075798 295.39096562 232.79951383 165.92122959\n",
      "  16.34878263 116.6037697   17.3750192   87.10261999 137.46982174\n",
      " 141.83212036  18.08697782 201.4334545  233.09474507 136.29448654\n",
      "  17.69532051 251.69892916 164.94423616 284.59500015  18.05092212\n",
      " 110.01809817 126.35885494  87.32349997 131.41645045 100.27397601\n",
      " 102.57117162 254.45667266 211.23006531 178.15548817 115.58176913\n",
      " 208.66982032 173.19824706 154.30143869 247.07557505 137.74504141\n",
      "  88.86562522  90.10732183 291.98318451 170.87262032  40.0432045\n",
      "  38.56618848 155.35892891 110.01418333 116.50050396 126.15753708\n",
      " 253.73073604 303.74435178 137.61041772 120.17311056 103.35554838\n",
      "  18.0608946  245.25625494  18.0616819  304.25326437 134.84590964\n",
      "  30.97945748 123.69520472 260.47506852 222.97200585  60.43677359\n",
      " 283.76912042 175.52758895 133.96125181 214.80231315 264.77558655\n",
      " 125.9441207  242.3025489  106.99175692 137.2745196   87.43472075\n",
      "  82.79507705  25.51067214 105.85516411  59.0403775  161.52534845\n",
      "  39.66167342 198.19682808 202.32011662  32.03071881 176.82249047\n",
      " 275.80961511 123.6246664   18.13257512  69.43996822 207.29973466\n",
      " 103.39536476 313.10419195 295.02698951 162.28448244 220.19884253\n",
      "  16.63318353 193.73851187  25.60762999 145.29615521 155.82599722\n",
      " 101.2357673  140.15307759 221.94071789  87.94909768  18.05463143\n",
      "  85.17590527 248.79403068 220.3028376  169.38020234 126.36304607\n",
      " 175.88650029  25.68159428 313.67608432  85.15761735  18.18789518\n",
      " 176.85870934  25.71619475 215.27893823  25.62548884 162.51876051\n",
      " 222.67213665  18.00754728 237.62494506  86.94579777 198.77063556\n",
      " 127.08507854 105.61468045  58.41409322 290.75705549  18.29727389\n",
      " 281.78027254  87.10261999 182.53322556 179.89195807  39.44573486\n",
      " 286.79420519 104.00662208  17.83784748 179.05121325 173.39495386\n",
      " 104.45226344 258.64179893 156.27239309  66.88821348 104.92143231\n",
      " 121.52018357 277.24047483 164.88209525 120.01718236 139.91303003\n",
      "  28.98523652 160.87678024  38.76890028 240.90238078  29.28406323\n",
      " 104.26008891 231.85556639 241.0708488  196.33359247 309.4313941\n",
      " 204.30718655 139.20732916  62.81927924 159.67193948  87.43472075\n",
      " 279.10144864 260.67932833 223.90750791  32.30478434 262.75910858\n",
      " 201.47629543 148.89156325  39.62975919  25.63240406  17.68154956\n",
      " 240.65927871  38.92565268 143.29968957 113.21847902  87.05107913\n",
      " 312.48362348 273.12044512 100.54937409  89.01923252  95.76759438\n",
      "  25.3823976   85.00649954 106.29248787 186.66571027 132.60957811\n",
      "  31.79363874 229.52268771 255.36166603 132.46852774 306.97530578\n",
      "  17.9903304   18.27470763 292.49670103 185.51134567 115.11808078\n",
      "  17.62344607  30.04749367 100.03533343 119.8643932  284.05051965\n",
      " 243.58027539 240.72000864  56.77970723  58.25630393 191.91580887\n",
      "  62.72254205  18.11732606  18.25487104 102.28078343 107.30765254\n",
      "  60.22590425 184.02644682 267.61964569 167.04819272 147.23431848\n",
      "  25.79812148  65.6360458  104.30652078  18.03780617 185.24261159\n",
      " 110.70958612  78.18246568 225.53199817 286.07347429 208.75384817\n",
      "  17.61700475  37.94978508 175.91142724  86.75947851  31.8471872\n",
      " 133.79831181 111.67691463 298.13874462 280.97274999 118.65171468\n",
      "  69.03463227 127.6156192  171.44874787 109.92668262 231.39658015\n",
      "  38.66965709 157.29466435 280.35566288  59.14749838 104.45958541\n",
      " 111.24379002 276.7281475   25.80636474  25.53907218 206.00012681\n",
      "  22.06003488  88.0103398   18.14511257 260.17147372  77.88399686\n",
      " 117.58899654 190.12252876 164.16732039 111.94928084 106.93925317\n",
      " 179.66692594 284.0052188  149.6333524  123.82972681  39.76383347\n",
      " 133.18703741 185.13347345 113.84305667  62.00984609  62.61932207\n",
      "  18.31009323  25.43114051  18.11691207  30.01346083 151.28989625\n",
      " 103.83878845 101.07483236 183.45739848 104.40100276 309.334902\n",
      " 126.03650169 189.95017313 265.26734558 117.69696194 101.44812075\n",
      " 253.44805631 298.16096208  31.84673571 112.41947753 312.78659421\n",
      " 264.99970422 163.23203639  39.91820945  99.14485618 118.60076133\n",
      "  87.03917638 108.06558011  36.87287431 300.76267942 284.61727849\n",
      " 236.09972307 125.374294   170.57154104 221.08839947 134.94362376\n",
      " 110.47448996 234.48561935 103.12133118  62.67775335 115.22699315\n",
      " 235.39746898 125.95223787 103.26407695 110.40481434  86.88851039\n",
      " 137.80911296 274.61056201 102.16833889 192.82249176 182.83995387\n",
      " 224.00610212  59.24298666 305.97480353  97.8231578  162.65527882\n",
      " 173.99994759  18.0991289   26.09055776 238.89684354 277.71418201\n",
      " 104.83553218  86.48460782  25.65829213  17.86903368 225.09692874\n",
      " 149.99660941 307.65167719 258.67116454  86.94579777 129.23075116\n",
      " 196.27259322 171.69988335  64.15301572  66.78652027  40.85858667\n",
      " 171.47268503 118.15269989 222.49381659 283.03516017 241.38418409\n",
      "  17.94391011 211.99084808  59.5828412  108.98127841  32.27213365\n",
      " 212.52311169 242.66979763  25.62298655 166.5760916   79.78715575\n",
      " 246.20436733 247.14068851 206.99845641 232.39369317 306.26982221\n",
      " 100.21722727  29.00450661 237.72088697 138.69776432 188.91806506\n",
      "  25.51914156 219.48118175  18.0976041   58.88480938  18.21167306\n",
      "  96.81892891  26.02766688 232.42796849 205.1895761  140.76612036\n",
      "  28.48548831  73.59361708  36.62894458 293.84132042  98.55073302\n",
      "  29.52603279 101.92870042  18.07860581  40.88256855  38.66437715\n",
      " 294.94631319  17.73518928 189.96886817 258.1410612  288.95705444\n",
      " 225.69483845 104.46687647 152.38870933 105.84685763  93.13217906\n",
      " 207.2684009   39.99779096  17.67684341 152.20964309  17.74212038\n",
      " 159.92025604 140.29608336  32.27921635 159.20923767 199.48858647\n",
      " 229.436355   308.19519955  25.33727893 101.39922659  39.14533822\n",
      "  31.76342043 103.11625193  85.14330123  25.63482684 150.67413297\n",
      "  87.34825577 186.17726888 123.69237667 308.31461887 186.0261205\n",
      " 282.32353973 127.76870749 283.23060016  61.81523958  31.52970986\n",
      "  27.09986161  37.98139558  86.81132158  18.10039619  18.04780078\n",
      " 111.31995753  18.1692702  270.98094103 220.18926082 145.72584455\n",
      "  86.81955418  89.57162739  25.62673154 157.58916268  99.27680188\n",
      " 130.77872873 202.06950065  18.07652045 239.13181267 122.67194711\n",
      "  15.32505249 248.38306431 104.78157252  40.24939222  84.77740855\n",
      " 239.28331781 118.57490148 315.07852076 285.74125955 231.86176013\n",
      " 228.12951546 180.1263727   18.69873798 113.20986893 123.43013048\n",
      "  18.31009323  40.28354459 105.33896505 200.67612929 170.20910667\n",
      "  59.86792023 182.59647944 100.20733894 266.19781457 106.77525009\n",
      " 288.74893001  61.77598659  27.55696467  17.9903304  220.73629759\n",
      " 256.35423755  87.46270021 108.56062627  24.90123338  99.71608525\n",
      " 109.54352053 173.5086422  123.30065702  90.22452501  30.77736473\n",
      " 106.97587985 105.91512566  61.4891558  104.97670842 294.42460577\n",
      " 128.63408155 267.28707022 110.43123661 283.51671898 228.33609104\n",
      "  66.906171   115.68481721 100.30761246 286.14588856 237.04473871\n",
      " 263.45346392 103.66407122 114.01186787 128.76932524  18.07492321\n",
      " 141.85803223 266.90604149  25.57571576  85.80024335 113.50922134\n",
      " 115.48452415 157.31257845 127.15052283 280.07617027  86.81955418\n",
      " 104.92507419 136.66300032 288.19509076  98.56817733 141.19115863\n",
      " 151.41859592  28.42094567 164.86451445  18.13094228  26.76234655\n",
      "  18.09770254 220.93647682 104.54790779 148.46435518 267.76383111\n",
      " 133.88691734 121.84070587  25.04109552 162.82313428  17.5611104\n",
      " 142.88214429  26.16835369  29.6143535   99.54157729  59.25991046\n",
      " 190.01573744  21.15490542  80.07569296 180.59805303  29.60634625\n",
      " 285.047043   249.24759524  17.93466741 313.08585839 124.65092318\n",
      " 240.8614714   39.16663541  86.94579777  25.75023736 271.57769076\n",
      "  60.35874743  64.57809021 116.90942595 172.34185137 169.43812915]\n",
      "[ 90.71772358 240.61846667  96.18140279  32.56765864  47.57580886\n",
      " 119.50975413 143.19645512 305.24189373  30.85060642 110.86700245\n",
      " 291.61111424 238.81102764 117.93869703  39.04803332 236.72226667\n",
      " 155.71341531  25.3862722  212.54227643 308.75739342 157.11282101\n",
      " 216.3120816   74.12780033  18.16660064 133.88294022 143.86891305\n",
      " 109.33564302  24.22661597 114.18955198 107.93620496 149.11376965\n",
      "  87.76296075  25.65688701  59.98123642 132.32325035 257.49951716\n",
      "  29.99271531 134.27529599 157.28315569 219.730643    72.77446845\n",
      "  58.88154787 116.9751574  161.32837273  77.85028068 301.60353609\n",
      " 196.82241972  74.41598556  59.49281973  18.2727966   87.97356681\n",
      " 245.56361768  87.97356681 167.4900905  104.8013814  190.39433569\n",
      " 153.62348606  40.02059023 173.44584353  18.24020412  17.54975565\n",
      "  92.40797308  85.83410175 263.38863374 287.82811786 158.8548382\n",
      " 294.9445283   18.00477018 217.65545056 153.60062943  25.47465315\n",
      " 103.44366177  38.59295556 152.73431144  18.13875937 299.53419272\n",
      " 219.96055123  31.54054238 171.22230884 226.99746985  18.20799056\n",
      " 273.82603284 137.63846834  87.87837492  87.747752    87.04508617\n",
      " 285.37174701  59.26091578 164.08344048  89.1293924  280.55251783\n",
      " 281.10983702 171.70001211  59.98123642 101.97039253  40.22819833\n",
      "  87.747752    93.1917874   25.07731211 209.6689995  158.95747421\n",
      "  18.3645742  170.24296974  45.5648288  108.05019532  61.76813584\n",
      "  46.553357   101.37020902  18.11262747 176.86237704 148.16207481\n",
      " 197.31198793 230.69646446 173.56198643 110.48494978  59.73385547\n",
      " 129.15789959 268.85743786  39.04803332 206.64189693  18.3645742\n",
      " 103.99970734 100.21083118 223.55814806 101.02412694  40.21139364\n",
      " 116.69990917  59.37995617  15.88527841 203.64360877  60.96151725\n",
      " 127.21677845 168.71062781  18.2727966  148.87563994 292.0822255\n",
      " 127.27263381  39.96401269 140.13709503 265.2000309  310.68878898\n",
      " 183.89435099  25.42857588  31.8596749   88.84480809  87.97356681\n",
      " 112.67863086  87.18822435 119.28990566 152.49770623 205.75666205\n",
      " 126.45035272 290.25913814 295.38163129 234.65368582 166.84621501\n",
      "  16.49121027 116.80882787  17.90079622  87.97356681 143.26697423\n",
      " 146.05175616  18.16660064 205.21986388 237.27477946 132.71021806\n",
      "  18.00477018 246.5076949  159.51214863 283.44604566  18.16660064\n",
      " 110.85895202 131.495083    87.76296075 129.31521491 100.39724839\n",
      " 104.28340405 252.85658138 206.23337339 171.92969293 116.80818843\n",
      " 205.58958099 163.74963948 153.8710695  243.79163995 140.2871367\n",
      "  89.1293924   89.1293924  293.49861405 170.77164814  39.96401269\n",
      "  39.15804553 159.22227598 110.06692651 117.58476039 132.29288248\n",
      " 252.4949401  301.35736033 141.71302867 121.05137517 104.63861017\n",
      "  18.13875937 244.66402959  18.13875937 306.89988054 135.40184176\n",
      "  32.25483376 125.09823903 261.12755106 220.404495    59.73385547\n",
      " 284.5914438  178.79026844 133.9895291  210.85603228 265.5486808\n",
      " 124.89243064 238.6070341  109.66223627 137.9016927   87.97356681\n",
      "  84.60038929  25.45987568 106.12552404  60.10669442 156.6424862\n",
      "  40.0953767  195.25773735 191.23048435  32.61764326 182.38388218\n",
      " 279.58044289 127.92080003  18.14046874  68.88070258 205.92394517\n",
      " 103.23612789 313.83198285 295.40790934 163.143102   212.60015669\n",
      "  16.80537236 199.60996163  25.33274839 143.23640042 152.55742371\n",
      " 100.29306667 150.93757204 219.5606833   90.53385152  18.13875937\n",
      "  86.60173238 252.87684189 217.59751939 180.5386143  128.94515143\n",
      " 179.48885441  25.36350466 313.83760631  86.85345997  18.43817768\n",
      " 172.72899626  25.26767716 213.98162139  25.3862722  176.19201227\n",
      " 220.29168888  18.2989285  240.0715497   87.97356681 191.32268717\n",
      " 128.57670275 105.73765321  59.15313881 292.33248905  18.3645742\n",
      " 283.46683851  87.76296075 182.91219636 189.21618889  40.3675941\n",
      " 287.13891469 105.23944171  18.13875937 168.77950055 178.462553\n",
      " 104.65305082 254.77481284 163.51341131  67.30450409 101.12271383\n",
      " 121.7725453  275.20710668 171.69449889 125.51763098 138.4099473\n",
      "  30.47090853 157.28390468  39.22497131 239.67967912  29.84667827\n",
      " 107.95421736 230.54415213 239.24233845 203.05211354 312.7420613\n",
      " 212.6286724  138.80988198  61.17543916 159.79926181  87.97356681\n",
      " 282.49268647 258.35996563 222.99277271  33.01193603 259.57194786\n",
      " 196.41730965 156.12701915  40.40730229  25.48209969  18.03566887\n",
      " 236.11536587  39.37809569 148.18541612 108.44957224  89.79941218\n",
      " 313.27686987 273.79187504 101.09126045  86.64830588  87.91625585\n",
      "  25.33274839  89.49877764  98.80937536 185.78890212 133.27761079\n",
      "  32.96102629 224.88724486 259.68492831 134.08837734 306.42480986\n",
      "  18.20054402  18.3645742  293.8792479  191.24040176 115.81774725\n",
      "  18.00477018  31.1605367   99.07511984 120.22246691 283.70453624\n",
      " 242.45844733 235.45022467  55.33292336  58.84927916 188.02435091\n",
      "  61.32878806  18.3645742   18.3645742  104.46182975 108.90148661\n",
      "  59.73385547 192.58545192 269.10324226 174.97547555 145.48941161\n",
      "  25.47982092  64.68877371 104.67943335  18.21236285 192.94769135\n",
      " 111.83813002  80.77359    225.78936893 286.82240301 210.03437995\n",
      "  17.67073097  39.98764591 183.38239507  89.55463342  33.05844564\n",
      " 126.87161383 112.87047113 298.13017488 281.41757807 121.6276244\n",
      "  68.87589871 127.49855189 173.15265804 110.70497148 230.71275683\n",
      "  39.38657557 158.04231153 278.84183707  59.32347748 104.6764675\n",
      " 113.20779351 282.64826564  25.47982092  25.67201943 206.86553473\n",
      "  21.6102173   87.97356681  18.11262747 257.19707212  78.16538988\n",
      " 118.91710547 192.92717819 177.22783292 115.6841377  108.03404745\n",
      " 188.00293808 283.12347721 147.53872921 123.94324157  40.21139364\n",
      " 134.59623334 178.1732035  115.17472272  61.2816226   60.59609846\n",
      "  18.43817768  25.33274839  18.3645742   30.57377171 154.58402525\n",
      " 103.96046926 101.09400119 185.36676003 107.03596792 311.67335567\n",
      " 130.14487289 185.0384111  265.63892844 117.58203633 103.48773064\n",
      " 250.09779659 303.04600756  33.03177589 113.76983751 315.19040185\n",
      " 258.25767219 161.03885966  40.36071744  99.22475013 118.74262082\n",
      "  93.36651093 108.68339728  37.92140743 303.95479663 281.97277346\n",
      " 234.04919515 123.50969408 168.44544584 220.26122828 139.31265598\n",
      " 109.34801105 230.98060927 102.77302589  61.5326776  115.88300116\n",
      " 230.72740542 124.3655099  105.23375022 113.3817146   87.97356681\n",
      " 138.40228873 273.91996765 101.30235897 190.74154849 181.89746934\n",
      " 221.16115657  59.26091578 306.41497139  95.18795239 156.78607903\n",
      " 175.74631792  18.20054402  27.80448895 238.37949981 278.7497849\n",
      " 105.89112568  91.46469529  25.47465315  18.13875937 231.35319317\n",
      " 147.10204428 309.08540622 260.00623683  87.97356681 132.56121431\n",
      " 210.0257176  169.21209362  62.25299823  65.60229895  41.25024334\n",
      " 178.96624924 117.12644597 220.57483458 284.30159203 244.73940213\n",
      "  18.13875937 216.56908635  59.12663225 112.9127918   33.18010499\n",
      " 224.46740324 249.49037992  25.59841596 163.60322819  85.01302978\n",
      " 241.24811696 242.14872699 209.3802001  230.93044072 306.33170098\n",
      "  98.82398171  30.87878565 235.23556054 145.90176325 195.34694006\n",
      "  25.39371874 219.29858328  18.2908937   59.01353483  18.13875937\n",
      "  95.43864492  25.75858509 220.14148396 203.10329345 144.25230214\n",
      "  30.16166021  73.63635514  38.64041716 292.45566407  99.79413356\n",
      "  31.16293838 100.77135031  18.11262747  41.13764451  39.2884591\n",
      " 295.52211395  18.18403517 193.46883721 254.30588234 293.5074968\n",
      " 220.15951959 105.07607269 152.81818647 106.91301868  95.59508412\n",
      " 207.43366137  39.97372794  17.67073097 149.35322245  17.96206539\n",
      " 174.10119744 139.97401164  33.10935539 166.82256285 202.52810993\n",
      " 226.73996812 312.66183065  25.54825663 100.95459994  38.92041189\n",
      "  33.14317185 102.19062954  88.43049213  25.40833692 158.72306954\n",
      "  87.97356681 183.49335332 125.8417092  312.2070051  190.17539536\n",
      " 281.68405618 128.36997171 286.07097062  59.05645319  32.10865224\n",
      "  27.14842802  37.82791631  87.97356681  18.13875937  18.28159404\n",
      " 112.18813368  18.13875937 273.05550192 221.51958984 140.77066251\n",
      "  87.97356681  89.1293924   25.59841596 158.27266022  98.77422832\n",
      " 129.55682369 200.10978417  18.13875937 238.2709598  121.63525313\n",
      "  15.07487415 252.67669611 104.55167153  40.14064155  87.20553345\n",
      " 240.06854423 122.39747722 317.83746639 288.20523548 231.42672027\n",
      " 223.93204787 181.62621267  18.52474334 115.28680823 120.58682668\n",
      "  18.52474334  40.15537235 107.91647856 198.20185023 179.9958596\n",
      "  59.32347748 187.6623838   99.8231204  266.0808832  105.83067697\n",
      " 292.87266016  59.98123642  29.32163774  18.20799056 227.9869285\n",
      " 261.31563575  87.97356681 106.90173555  25.20221891  99.41760641\n",
      " 106.67795655 164.35617761 119.97257825  89.1293924   32.25483376\n",
      " 106.9232948  107.16376555  60.73086686 105.53192381 300.31596713\n",
      " 126.38864323 270.92557618 108.39764339 282.10327494 222.47474893\n",
      "  65.21981885 116.69990917 100.79808921 286.99932083 242.21786444\n",
      " 264.10475419 104.76989527 114.4828211  126.07585048  18.3645742\n",
      " 141.52565937 265.62846755  25.42966159  87.747752   114.86657162\n",
      " 117.72868132 162.14407193 125.5065128  282.81265757  87.97356681\n",
      " 104.09792312 131.20165322 292.84222424  98.27474359 141.76008946\n",
      " 148.48659756  29.71975359 179.37288897  18.11262747  26.71299273\n",
      "  18.21236285 220.64367525 105.23158634 146.54253551 275.59267892\n",
      " 132.48840045 120.62841273  25.27582239 181.36105291  18.24968817\n",
      " 139.78524491  25.75858509  31.13391483 100.82711499  59.26091578\n",
      " 185.29579914  21.38490178  74.94509888 178.94623398  30.64996383\n",
      " 283.7471227  254.31842964  18.13875937 317.19959665 121.08834561\n",
      " 246.88202492  39.10146799  87.97356681  25.75858509 273.68638158\n",
      "  59.26091578  61.60479561 113.38270441 170.11466056 185.72707112]\n",
      "[ 88.74281378 241.33254867  98.44253184  33.5272848   65.00181332\n",
      " 120.48547264 143.2062746  301.89137383  31.57823376 114.55653915\n",
      " 281.77860476 255.04927492 113.21136642  38.62369245 241.83343049\n",
      " 150.10419148  25.18202948 229.35539741 310.77677034 157.87746183\n",
      " 221.92920589  74.19535887  17.71174733 128.25837565 144.46111531\n",
      " 107.06328134  24.68136779 113.9984258  107.58051311 156.56635318\n",
      "  85.89717481  25.18202948  62.5997259  131.11927304 257.704072\n",
      "  30.70935555 134.67248224 168.33973455 223.1927559   67.05549639\n",
      "  61.80502947 118.12435936 163.85627255  81.98757441 293.29083772\n",
      " 202.01101332  69.37332069  62.00243423  17.60965292  85.89717481\n",
      " 246.39990501  87.14470457 157.92978731 107.05338319 198.24927212\n",
      " 165.10898837  39.59038302 172.0172749   17.71174733  17.21108564\n",
      "  93.60383625  86.8973788  265.54448363 283.54841328 165.31839293\n",
      " 287.03518121  17.60965292 217.41674768 156.40457534  25.18202948\n",
      " 101.78437895  37.66856799 162.24643207  17.71174733 293.95992862\n",
      " 217.95780997  32.82449922 184.65860053 235.53874877  17.71174733\n",
      " 271.79369772 138.04201819  88.431396    85.89717481  89.74229731\n",
      " 292.74813495  61.35219614 161.9803806   89.36590505 279.98617493\n",
      " 278.93326816 161.24349703  62.5997259  101.08907736  39.55727422\n",
      "  85.89717481  94.29180162  24.85944527 214.21061718 164.56048384\n",
      "  17.71174733 180.45471189  43.30838238 108.98751148  62.32060916\n",
      "  67.10604956 101.58151842  17.71174733 170.8808885  156.12758017\n",
      " 196.97558815 234.85197838 166.92929136 110.73490871  62.5997259\n",
      " 120.89972925 271.37485803  38.90131872 214.62622294  17.71174733\n",
      " 102.77497029 100.5816387  235.63176626 105.62081253  39.19877326\n",
      " 118.34855803  61.35219614  15.59556835 209.01743372  63.91347505\n",
      " 123.15365367 161.98133228  17.60965292 134.51131789 291.61578399\n",
      " 124.82960592  39.59038302 138.04201819 269.66103094 310.88632288\n",
      " 179.79327196  25.18202948  32.10787608  88.71566696  87.14470457\n",
      " 112.31999232  90.11326799 120.97926963 153.70551381 203.13542268\n",
      " 127.26439541 282.33545947 304.33004677 238.4059574  173.15871443\n",
      "  16.81288734 117.53884116  17.31354903  85.89717481 138.27961934\n",
      " 141.38606353  17.71174733 196.37807787 238.49473758 132.84611448\n",
      "  17.60965292 267.42626932 155.43211961 277.60951453  17.71174733\n",
      " 111.29404277 127.91181188  87.14470457 127.41645637  98.37771886\n",
      "  99.93067697 258.24687372 213.37686953 172.4038238  118.66616381\n",
      " 203.6354927  171.97055457 152.98828062 244.71337558 134.18127876\n",
      "  88.11837529  89.36590505 292.02826196 165.9893196   39.59038302\n",
      "  38.90131872 154.44369995 111.81740961 113.75435863 128.47618343\n",
      " 256.73980283 306.4767184  137.46002274 119.10159439 104.75455439\n",
      "  17.60965292 262.38410319  17.71174733 305.29337849 133.61325548\n",
      "  33.09510985 123.94203011 264.81613062 218.66004238  62.5997259\n",
      " 277.33789919 173.50940099 134.54421841 208.86725677 267.13611363\n",
      " 124.33580286 239.57688363 110.06205073 138.62258733  87.14470457\n",
      "  80.51708256  25.18202948 104.05132238  61.80502947 164.21945855\n",
      "  39.55727422 200.82067345 195.30059181  34.32131516 179.94338694\n",
      " 272.45382535 136.9194057   17.71174733  66.97861595 206.85364919\n",
      " 101.79988393 317.62629825 289.58837002 167.50241479 229.56508271\n",
      "  16.47061316 202.72797476  25.18202948 145.78761008 157.61945627\n",
      "  99.16142493 152.84350321 220.52908508  86.72069257  17.71174733\n",
      "  85.66394662 259.52745435 217.43393659 161.20383597 122.98370148\n",
      " 180.48927366  25.18202948 314.27023597  85.89717481  17.71174733\n",
      " 177.0979144   25.18202948 214.01524848  25.18202948 154.4495281\n",
      " 223.52021971  17.60965292 251.55847049  85.89717481 201.18648868\n",
      " 126.89651838 109.72522074  61.35219614 287.81465657  17.71174733\n",
      " 277.69218407  85.89717481 193.4332423  185.50020083  39.23374791\n",
      " 280.90941519 104.42530612  17.71174733 174.2898207  168.06700878\n",
      " 105.29046092 251.54358772 159.28496669  66.48953294 102.53538695\n",
      " 122.70746231 273.05814344 159.78549753 119.23698952 135.98648106\n",
      "  31.01057013 157.55421916  38.90131872 242.34990479  27.96187636\n",
      " 101.16187895 238.5909423  236.12401048 208.57179687 320.08205032\n",
      " 214.62622294 139.72562346  63.91347505 163.59953813  86.54741291\n",
      " 274.69162698 256.05960794 235.57009539  34.32131516 256.92879751\n",
      " 189.0063908  159.00669499  39.23374791  25.18202948  17.38916312\n",
      " 245.88677563  39.23374791 153.87549997 111.82412574  89.181396\n",
      " 309.01384537 273.74929095  99.99595077  85.56745024  91.23855744\n",
      "  25.18202948  87.6490217  117.38074835 188.07889389 130.78873652\n",
      "  34.0319274  229.9890616  267.93049332 129.59898465 306.68059354\n",
      "  17.71174733  17.71174733 291.28008473 181.21512018 115.57668055\n",
      "  17.60965292  32.50925412 100.65150418 117.69440226 282.32128145\n",
      " 242.04808891 239.76207559  57.50043267  61.35219614 184.38771077\n",
      "  64.56371314  17.71174733  17.71174733 103.25142514 108.07362117\n",
      "  62.5997259  186.78713304 270.38196361 174.23306095 147.07591247\n",
      "  25.18202948  63.50157804 101.06309414  17.71174733 186.18535005\n",
      " 113.92249983  82.82925195 230.21423899 286.76174748 210.41643839\n",
      "  17.38916312  37.3358641  174.00841267  87.63390553  34.0319274\n",
      " 123.03407963 113.05214367 295.78866699 276.74032496 116.96449121\n",
      "  63.60938972 126.42639541 172.78001975 110.56632189 238.4059574\n",
      "  38.5777924  166.389177   281.61028836  61.35219614 107.02237732\n",
      " 114.48653566 278.46346431  25.18202948  25.18202948 206.96654345\n",
      "  21.62526969  87.14470457  17.71174733 255.148573    79.32624983\n",
      " 119.42927299 204.30676366 162.57888384 112.94631789 107.00468905\n",
      " 188.1922784  282.44769567 150.84615348 123.85031153  39.19877326\n",
      " 132.6546082  177.9274159  116.62345027  63.91347505  63.91347505\n",
      "  17.71174733  24.96129547  17.71174733  32.33853054 151.42303951\n",
      " 105.36883471 100.46856012 183.09023069 104.35614628 312.51142797\n",
      " 127.11325858 175.81951616 262.79413386 121.71873194 105.44762398\n",
      " 266.32803069 292.01983969  34.0319274  113.9984258  314.17558889\n",
      " 260.51241017 159.39573667  39.55727422  97.10215487 120.64565164\n",
      "  91.85994125 106.6892976   35.90279549 295.62408954 279.97713682\n",
      " 229.94173785 121.83337773 158.9153084  237.20009434 146.82999638\n",
      " 113.63496587 242.46310315  99.799729    64.36630838 116.74431994\n",
      " 226.7343821  123.4379385  104.57864975 111.39070728  85.89717481\n",
      " 141.74006517 268.6763739  100.16676375 184.25614982 180.89025952\n",
      " 223.52021971  61.35219614 304.75163337  90.92297793 168.90523743\n",
      " 182.72600178  17.71174733  28.69015029 242.99850743 275.21761434\n",
      " 105.04617998  89.47272296  25.18202948  17.60965292 242.669448\n",
      " 149.47798681 307.81232925 268.26926461  85.89717481 142.23738365\n",
      " 204.98888079 165.46276124  65.61383814  66.58760844  39.85472877\n",
      " 174.45340625 115.50881427 219.04667722 279.19209405 245.29452931\n",
      "  17.71174733 225.06849026  61.35219614 114.53054842  34.32131516\n",
      " 227.57133407 248.05452931  25.18202948 166.23731068  83.13064389\n",
      " 254.46895097 248.48371902 212.3867286  234.50892751 306.68059354\n",
      "  97.78715967  31.27781799 247.05640686 146.10323746 200.76439828\n",
      "  25.18202948 218.78888815  17.71174733  61.35219614  17.71174733\n",
      "  95.15289808  25.18202948 232.82714982 206.41058088 139.52954287\n",
      "  31.01057013  70.8725293   36.43772618 288.8807237   98.3192203\n",
      "  32.04879632 101.27202142  17.60965292  39.85472877  38.5777924\n",
      " 290.41870896  17.60965292 200.4473438  251.47610683 286.59242014\n",
      " 232.86919024 102.2676977  162.05857171 104.92636673  95.04180162\n",
      " 208.71699149  39.55727422  17.38916312 148.02623346  17.38916312\n",
      " 160.47167505 135.45090715  34.32131516 168.24789722 206.89264272\n",
      " 236.9844357  309.00940428  24.96129547  99.65522193  38.90131872\n",
      "  33.74219318 101.6221408   84.00714182  25.18202948 151.24264822\n",
      "  86.54741291 194.8801337  123.17215076 307.28737849 181.21512018\n",
      " 281.77860476 131.05050955 277.59427474  57.33825056  33.0213065\n",
      "  27.31505926  37.25780713  85.89717481  17.71174733  17.71174733\n",
      " 111.84855079  17.71174733 274.40993381 219.85315889 139.97675733\n",
      "  85.89717481  89.36590505  25.18202948 157.76261781  98.73577586\n",
      " 129.23468951 201.01500273  17.71174733 236.99527812 124.8185163\n",
      "  14.32215238 258.34669243 103.69400767  38.40806825  85.66394662\n",
      " 245.39515499 116.00754809 317.86606356 280.92498505 232.78475301\n",
      " 236.9844357  196.41397294  17.71174733 114.49222279 120.70273481\n",
      "  17.71174733  39.19877326  90.5844074  195.63814606 177.4769366\n",
      "  61.35219614 186.89335271  98.75277173 259.17352106 106.48031404\n",
      " 286.945467    62.5997259   29.07454064  17.71174733 228.91690339\n",
      " 252.44414416  87.14470457 111.23132706  24.96129547  98.19528147\n",
      " 111.27475514 159.90438595 121.38471914  89.36590505  33.09510985\n",
      " 108.71400342 104.29333728  63.05255923 107.59740431 299.79697255\n",
      " 122.79753527 270.86504247 106.00651675 281.29021911 231.2526831\n",
      "  66.6667027  118.34855803 100.18338797 282.71202467 251.55847049\n",
      " 268.26926461 104.11920587 116.12965328 124.97068113  17.71174733\n",
      " 150.52116728 273.74929095  25.18202948  85.89717481 113.9984258\n",
      " 117.15726167 154.39377461 123.94203011 289.11664326  85.89717481\n",
      "  99.98047679 128.95293664 285.55298582  96.90505094 133.07374999\n",
      " 149.41737381  31.10049841 175.82299792  17.71174733  26.57093864\n",
      "  17.71174733 220.59915891 104.55238299 138.49073949 276.76864858\n",
      " 126.17529672 118.4940336   24.96129547 174.74641392  17.31354903\n",
      " 139.23682797  25.18202948  31.66896085  97.47481914  61.35219614\n",
      " 180.45851542  20.89823221  80.99016707 181.3064114   32.12925412\n",
      " 283.58121424 266.28243074  17.71174733 317.86606356 123.10788389\n",
      " 258.01247329  38.90131872  85.89717481  25.18202948 279.08163439\n",
      "  62.00243423  65.16100481 112.40082248 176.63552243 181.9398283 ]\n"
     ]
    }
   ],
   "source": [
    "# Predict with each trained model\n",
    "prediction1 = greedy_CV1.predict(test1)\n",
    "prediction2 = greedy_CV2.predict(test2)\n",
    "prediction3 = greedy_CV3.predict(test3)\n",
    "prediction4 = greedy_CV4.predict(test4)\n",
    "\n",
    "print(prediction1)\n",
    "print(prediction2)\n",
    "print(prediction3)\n",
    "print(prediction4)"
   ]
  },
  {
   "cell_type": "code",
   "execution_count": 26,
   "id": "f64b7f9d",
   "metadata": {
    "pycharm": {
     "name": "#%%\n"
    }
   },
   "outputs": [
    {
     "name": "stdout",
     "output_type": "stream",
     "text": [
      "   id   count\n",
      "0   0   87.34\n",
      "1   1  248.33\n",
      "2   2   99.14\n",
      "3   4   30.98\n",
      "4   5   52.73 \n",
      "\n",
      "    id   count\n",
      "0   0   90.11\n",
      "1   1  244.70\n",
      "2   2  105.46\n",
      "3   4   31.58\n",
      "4   5   50.55 \n",
      "\n",
      "    id   count\n",
      "0   0   90.72\n",
      "1   1  240.62\n",
      "2   2   96.18\n",
      "3   4   32.57\n",
      "4   5   47.58 \n",
      "\n",
      "    id   count\n",
      "0   0   88.74\n",
      "1   1  241.33\n",
      "2   2   98.44\n",
      "3   4   33.53\n",
      "4   5   65.00\n"
     ]
    }
   ],
   "source": [
    "# Save the prediction results\n",
    "GridSearchCV1 = pd.read_csv('data/submission.csv')\n",
    "GridSearchCV2 = pd.read_csv('data/submission.csv')\n",
    "GridSearchCV3 = pd.read_csv('data/submission.csv')\n",
    "GridSearchCV4 = pd.read_csv('data/submission.csv')\n",
    "\n",
    "GridSearchCV1['count'] = np.round(prediction1, 2)\n",
    "GridSearchCV2['count'] = np.round(prediction2, 2)\n",
    "GridSearchCV3['count'] = np.round(prediction3, 2)\n",
    "GridSearchCV4['count'] = np.round(prediction4, 2)\n",
    "\n",
    "print(GridSearchCV1.head(), '\\n\\n',\n",
    "      GridSearchCV2.head(), '\\n\\n',\n",
    "      GridSearchCV3.head(), '\\n\\n',\n",
    "      GridSearchCV4.head())"
   ]
  },
  {
   "cell_type": "code",
   "execution_count": 27,
   "id": "392713b2",
   "metadata": {
    "pycharm": {
     "name": "#%%\n"
    }
   },
   "outputs": [],
   "source": [
    "# Save the results\n",
    "GridSearchCV1.to_csv('GridSearchCV1_result.csv')\n",
    "GridSearchCV2.to_csv('GridSearchCV2_result.csv')\n",
    "GridSearchCV3.to_csv('GridSearchCV3_result.csv')\n",
    "GridSearchCV4.to_csv('GridSearchCV4_result.csv')"
   ]
  },
  {
   "cell_type": "code",
   "execution_count": null,
   "id": "2e1b33f0",
   "metadata": {
    "pycharm": {
     "name": "#%%\n"
    }
   },
   "outputs": [],
   "source": []
  }
 ],
 "metadata": {
  "kernelspec": {
   "display_name": "Python 3 (ipykernel)",
   "language": "python",
   "name": "python3"
  },
  "language_info": {
   "codemirror_mode": {
    "name": "ipython",
    "version": 3
   },
   "file_extension": ".py",
   "mimetype": "text/x-python",
   "name": "python",
   "nbconvert_exporter": "python",
   "pygments_lexer": "ipython3",
   "version": "3.9.12"
  }
 },
 "nbformat": 4,
 "nbformat_minor": 5
}