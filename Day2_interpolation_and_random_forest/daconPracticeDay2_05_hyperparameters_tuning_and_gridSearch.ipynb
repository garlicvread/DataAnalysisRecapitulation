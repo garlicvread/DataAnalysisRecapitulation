{
 "cells": [
  {
   "cell_type": "markdown",
   "id": "2d912416",
   "metadata": {
    "pycharm": {
     "name": "#%% md\n"
    }
   },
   "source": [
    "### The concept of hyperparameter\n",
    "Hyperparameter tuning is one of the most important parts of a machine learning pipeline. A wrong choice of the hyperparameters’ values may lead to wrong results and a model with poor performance.<br>\n",
    "\n",
    "Hyperparameters are model parameters whose values are set **before** training.<br> These hyperparameters might address model design questions such as:\n",
    "\n",
    "- What **degree of polynomial features** should I use for my linear model?\n",
    "- What should be the **maximum depth** allowed for my decision tree?\n",
    "- What should be the **minimum number of samples** required at a leaf node in my decision tree?\n",
    "- **How many trees** should I include in my random forest?\n",
    "- **How many neurons** should I have in my neural network layer?\n",
    "- **How many layers** should I have in my neural network?\n",
    "- What should I set my **learning rate** to for gradient descent?\n",
    "\n",
    "Let's make it simple. For example, **the number of neurons** of a feed-forward neural network is a hyperparameter, because we set it before training. Another example of hyperparameter is **the number of trees** in a random forest or the penalty intensity of a Lasso regression. As you can see, the hyperparameters are all numbers that are set before the training phase and their values affect the behavior of the model."
   ]
  },
  {
   "cell_type": "markdown",
   "id": "9fb8eaee",
   "metadata": {
    "pycharm": {
     "name": "#%% md\n"
    }
   },
   "source": [
    "### IMPORTANT!\n",
    "Hyperparameters are **not** model parameters and they cannot be directly trained from the data. Model parameters are **learned** during training when we optimize a loss function using something like gradient descent."
   ]
  },
  {
   "cell_type": "markdown",
   "id": "76db0ac3",
   "metadata": {
    "pycharm": {
     "name": "#%% md\n"
    }
   },
   "source": [
    "\n",
    "### The reason for tuning the hyperparameters\n",
    "Why should we tune the hyperparameters of a model?<br>\n",
    "\n",
    "That is because we don’t really know the models' optimal values in advance. A model with different hyperparameters is, actually, a different model so it may have a different performance. In the case of neural networks, a less number of neurons could cause underfitting and a more number of them could cause overfitting. In both cases, the models are not good, so we need to find the optimal number of neurons that cause the best performance.<br>\n",
    "\n",
    "If the model has several hyperparameters, we need to find the best combination of values of the hyperparameters searching in a multi-dimensional space. That’s why hyperparameter tuning, which is the process of finding the right values of the hyperparameters, is a very complex and time-expensive task."
   ]
  },
  {
   "cell_type": "markdown",
   "id": "dcfeee4d",
   "metadata": {
    "pycharm": {
     "name": "#%% md\n"
    }
   },
   "source": [
    "### Hyperparameter tuning in practice\n",
    "Tuning hyperparameters means making decisions on the **stopping criteria**. There are several stopping criteria, but we're going to deal with four first, such as:\n",
    "1. The max_depth\n",
    "2. The minimum size of the node: min_samples_split\n",
    "3. The minimum lift: min_impurity_decrease\n",
    "4. The cost-complexity<br>\n",
    "---\n",
    "The **max depth** means the maximum number of depth in the decision tree. The tree structure cannot be deeper than this value we set using **`max_depth`**. The smaller it is, the smaller the tree will be.<br>\n",
    "\n",
    "The **minimum size of the node** is the number of data(samples) to split. The smaller the value, the larger the tree will be, and its default value is 2.<br>\n",
    "\n",
    "We can set this using **`min_samples_split`** A node will be split if this split induces a decrease of the impurity greater than or equal to this value. The equation for min_sample_split is:<br>\n",
    "\n",
    "$$\\frac{N_t}{N} \\times (impurity - \\frac{N_{tR}}{N_t} \\times right\\;impurity - \\frac{N_{tl}}{N_t} \\times left\\;impurity)$$\n",
    "\n",
    "Where<br>\n",
    "$N$ is the total number of samples<br>\n",
    "$N_t$ is the total number of samples in current node<br>\n",
    "$N_{tL}$ is the number of samples in the left child<br>\n",
    "$N_{tR}$ is the number of samples in the right child<br>\n",
    "$N$, $N_t$, $N_{tL}$, $N_{tR}$ are all refer to the weighted sum, if `sample_weight` is passed.<br>\n",
    "\n",
    "The **minimum lift** is a criterion to see if the association rules between the items are coincidental or not. We can set the minimum lift using **`min_impurity_decrease`**.<br>\n",
    "\n",
    "When the lift is the same or smaller than the value set, the tree will not split more. The smaller the value, the larger the tree will be.<br>\n",
    "\n",
    "For pruning, we can think of two types of it. The first is **pre-pruning**, and the other is **post-pruning**. Pre-pruning is also called **early stopping**. It means literally stopping the training early. And we can do it by setting the max depth or the number of branches. Post-pruning is the process of performing pruning after we train the model. We can do post-pruning using the cost-complexity pruning technique.<br>\n",
    "\n",
    "The **cost complexity** is a concept that is used in **cost complexity pruning**. Pruning is a technique to prevent overfitting by limiting the model by setting penalty coefficients for the impurity and for the decision tree being larger.<br>\n",
    "\n",
    "In practice, we can do cost complexity pruning by finding the **$\\alpha$** value with the least influence and prune the node with that value. The equation for cost complexity pruning is:\n",
    "\n",
    "$$R_\\alpha (T) = R(T) + \\alpha |T|$$\n",
    "\n",
    "where<br>\n",
    "$R(T)$ is the learning errors of the leaf nodes<br>\n",
    "$|T|$ is the number of leaf nodes<br>\n",
    "$\\alpha$ is the complexity parameter\n",
    "\n",
    "When we focus on reducing the  𝑅(𝑇)  value only, the size of the tree gets bigger. It means the tree structure has more branches.  𝛼 decides the number of leaf nodes to be remained, thus we need to modify it to prevent overfitting. The bigger the  𝛼  value, the more nodes being pruned will be.<br>\n",
    "\n",
    "Note that we need to calculate the $R_\\alpha (T_t)$ for the sub-trees. The equation is very similar to above one.\n",
    "\n",
    "$$R_\\alpha (T_t) = R(T_t) + \\alpha |T_t|$$\n",
    "\n",
    "---\n",
    "Using the stopping criteria such as above, we can set the optimal conditions for model training, and this process is called hyperparameter tuning."
   ]
  },
  {
   "cell_type": "markdown",
   "source": [
    "### GridSearch\n",
    "\n",
    "Amongst the hyperparameter tuning techniques, GridSearch, a sort of exhaustive search, shows the best performance. GridSearch is a technique that finds the best combination amongst the possible combinations. However, GridSearch also has cons because the training consumes a lot of time.<br>\n",
    "\n",
    "For now, we will implement an exhaustive search using GridSearchCV module."
   ],
   "metadata": {
    "collapsed": false,
    "pycharm": {
     "name": "#%% md\n"
    }
   }
  },
  {
   "cell_type": "code",
   "execution_count": null,
   "outputs": [],
   "source": [
    "# Downloading data\n",
    "!wget 'https://bit.ly/3gLj0Q6'\n",
    "\n",
    "# Unzip the downloaded data\n",
    "import zipfile\n",
    "with zipfile.ZipFile('3gLj0Q6', 'r') as existing_zip:\n",
    "    existing_zip.extractall('data')"
   ],
   "metadata": {
    "collapsed": false,
    "pycharm": {
     "name": "#%%\n"
    }
   }
  },
  {
   "cell_type": "code",
   "execution_count": null,
   "outputs": [],
   "source": [
    "# Import pandas and RandomForestRegressor\n",
    "import pandas as pd\n",
    "from sklearn.ensemble import RandomForestRegressor\n",
    "\n",
    "# Import numpy\n",
    "import numpy as np"
   ],
   "metadata": {
    "collapsed": false,
    "pycharm": {
     "name": "#%%\n"
    }
   }
  },
  {
   "cell_type": "code",
   "execution_count": null,
   "outputs": [],
   "source": [
    "# Load data\n",
    "train = pd.read_csv('data/train.csv')\n",
    "test = pd.read_csv('data/test.csv')"
   ],
   "metadata": {
    "collapsed": false,
    "pycharm": {
     "name": "#%%\n"
    }
   }
  },
  {
   "cell_type": "code",
   "execution_count": null,
   "outputs": [],
   "source": [
    "# Check if the data loading is successful\n",
    "print('============ Train Data ============\\n')\n",
    "print('Train Data Information\\n', train.info(), '\\n')\n",
    "print('Train Data Shape: ', train.shape, '\\n')\n",
    "\n",
    "print('============ Test Data ============')\n",
    "print('Test Data Information\\n', test.info(), '\\n')\n",
    "print('Test Data Shape: ', test.shape, '\\n')"
   ],
   "metadata": {
    "collapsed": false,
    "pycharm": {
     "name": "#%%\n"
    }
   }
  },
  {
   "cell_type": "code",
   "execution_count": null,
   "outputs": [],
   "source": [
    "# Check the features of the data\n",
    "train.describe()"
   ],
   "metadata": {
    "collapsed": false,
    "pycharm": {
     "name": "#%%\n"
    }
   }
  },
  {
   "cell_type": "markdown",
   "source": [
    "### Handling missing values\n",
    "\n",
    "We have four options for now, such as:<br>\n",
    "\n",
    "1: Delete the missing value<br>\n",
    "2: Replace the missing value with a specific scala value<br>\n",
    "3: Replace the missing value with the mean of the feature<br>\n",
    "4: Replace the missing value using interpolation<br>\n",
    "\n",
    "Since the Jupyter notebook does not allow us multiple interactions in a single cell, we will write our code in separate cells.<br>\n",
    "\n",
    "- I noticed this after I wrote the bellow code. I was stupid."
   ],
   "metadata": {
    "collapsed": false,
    "pycharm": {
     "name": "#%% md\n"
    }
   }
  },
  {
   "cell_type": "code",
   "execution_count": null,
   "outputs": [],
   "source": [
    "# print('Missing value handling options\\n')\n",
    "# print('You have four options now to handle the missing value.')\n",
    "# print('Input the number of process you want to, then hit the return key.\\n')\n",
    "# print('  1: Delete the missing value')\n",
    "# print('  2: Replace the missing value with specific scala value')\n",
    "# print('  3: Replace the missing value with the mean of the feature')\n",
    "# print('  4: Replace the missing value using interpolation')\n",
    "\n",
    "# user_input = input()\n",
    "\n",
    "# if user_input == 1:\n",
    "#     train.dropna(inplace=True)\n",
    "#     print('You have deleted the missing values!')\n",
    "# elif user_input == 2:\n",
    "#     print('Input the value you want to replace the missing value')\n",
    "#     inputted_value = input()\n",
    "#     train.fillna(inputted_value, inplace=True)\n",
    "#     test.fillna(inputted_value, inplace=True)\n",
    "#     print(f'You have replace the missing values of train data and test data with {inputted_value}.')\n",
    "# elif user_input == 3:\n",
    "#     train.fillna(train.mean(), inplace=True)\n",
    "#     test.fillna(test.mean(), inplace=True)\n",
    "#     print(f'You have replace the missing values of train data {train.mean()} and test data with {test.mean()}.')\n",
    "# elif user_input == 4:\n",
    "#     train.interpolate(inplace=True)\n",
    "#     test.interpolate(inplace=True)\n",
    "#     print('You have replace the missing values of train data and test data using linear interpolation.')"
   ],
   "metadata": {
    "collapsed": false,
    "pycharm": {
     "name": "#%%\n"
    }
   }
  },
  {
   "cell_type": "code",
   "execution_count": null,
   "outputs": [],
   "source": [
    "# Check if there are missing values\n",
    "print(train.isnull().sum(), '\\n')\n",
    "print(test.isnull().sum())"
   ],
   "metadata": {
    "collapsed": false,
    "pycharm": {
     "name": "#%%\n"
    }
   }
  },
  {
   "cell_type": "code",
   "execution_count": null,
   "outputs": [],
   "source": [
    "# Delete the missing values\n",
    "train.dropna(inplace=True)\n",
    "print('You have deleted the missing values!')"
   ],
   "metadata": {
    "collapsed": false,
    "pycharm": {
     "name": "#%%\n"
    }
   }
  },
  {
   "cell_type": "code",
   "execution_count": null,
   "outputs": [],
   "source": [
    "# Replace the missing values with a specific value, or a string\n",
    "inputted_value = input()\n",
    "train.fillna(inputted_value, inplace=True)\n",
    "test.fillna(inputted_value, inplace=True)\n",
    "print(f'You have replace the missing values of train data and test data with {inputted_value}.')"
   ],
   "metadata": {
    "collapsed": false,
    "pycharm": {
     "name": "#%%\n"
    }
   }
  },
  {
   "cell_type": "code",
   "execution_count": null,
   "outputs": [],
   "source": [
    "# Replace the missing values with the mean of each feature\n",
    "train.fillna(train.mean(), inplace=True)\n",
    "test.fillna(test.mean(), inplace=True)\n",
    "print(f'You have replace the missing values of train data\\n{train.mean()}\\n\\nand test data with\\n{test.mean()}.')"
   ],
   "metadata": {
    "collapsed": false,
    "pycharm": {
     "name": "#%%\n"
    }
   }
  },
  {
   "cell_type": "code",
   "execution_count": null,
   "outputs": [],
   "source": [
    "# Replace the missing values using linear interpolation\n",
    "train.interpolate(inplace=True)\n",
    "test.interpolate(inplace=True)\n",
    "print('You have replace the missing values of train data and test data using linear interpolation.')"
   ],
   "metadata": {
    "collapsed": false,
    "pycharm": {
     "name": "#%%\n"
    }
   }
  },
  {
   "cell_type": "code",
   "execution_count": null,
   "outputs": [],
   "source": [
    "# Check if the null values are replaced well.\n",
    "print(train.isnull().sum(), '\\n')\n",
    "print(test.isnull().sum())"
   ],
   "metadata": {
    "collapsed": false,
    "pycharm": {
     "name": "#%%\n"
    }
   }
  },
  {
   "cell_type": "code",
   "execution_count": null,
   "outputs": [],
   "source": [
    "# Import libraries for visualiztion\n",
    "import matplotlib\n",
    "import matplotlib.pyplot as plt\n",
    "import seaborn as sns"
   ],
   "metadata": {
    "collapsed": false,
    "pycharm": {
     "name": "#%%\n"
    }
   }
  },
  {
   "cell_type": "code",
   "execution_count": null,
   "outputs": [],
   "source": [
    "# Set the minus figure to be printed properly\n",
    "plt.rc('axes', unicode_minus=False)"
   ],
   "metadata": {
    "collapsed": false,
    "pycharm": {
     "name": "#%%\n"
    }
   }
  },
  {
   "cell_type": "code",
   "execution_count": null,
   "outputs": [],
   "source": [
    "# Hide warnings that do not necessary for the analysis\n",
    "import warnings\n",
    "warnings.filterwarnings('ignore')"
   ],
   "metadata": {
    "collapsed": false,
    "pycharm": {
     "name": "#%%\n"
    }
   }
  },
  {
   "cell_type": "code",
   "execution_count": null,
   "outputs": [],
   "source": [
    "# Visualize features\n",
    "for column in train.columns:\n",
    "    plt.figure(figsize=(4, 4))\n",
    "    plt.title(column)\n",
    "    sns.histplot(train[column])\n",
    "    plt.show()"
   ],
   "metadata": {
    "collapsed": false,
    "pycharm": {
     "name": "#%%\n"
    }
   }
  },
  {
   "cell_type": "code",
   "execution_count": null,
   "outputs": [],
   "source": [
    "# When the data distribution is not even, we can use Min-Max Normalization\n",
    "train['hour_bef_pm2.5'] = np.log1p(train['hour_bef_pm2.5'])\n",
    "train['hour_bef_pm10'] = np.log1p(train['hour_bef_pm10'])\n",
    "\n",
    "test['hour_bef_pm2.5'] = np.log1p(test['hour_bef_pm2.5'])\n",
    "test['hour_bef_pm10'] = np.log1p(test['hour_bef_pm10'])\n",
    "\n",
    "fig, ax = plt.subplots(ncols=2, nrows=2, figsize=(20, 20))\n",
    "\n",
    "\n",
    "sns.histplot(train['hour_bef_pm2.5'], ax=ax[0, 0])\n",
    "sns.histplot(train['hour_bef_pm10'], ax=ax[0, 1])\n",
    "\n",
    "sns.histplot(test['hour_bef_pm2.5'], ax=ax[1, 0])\n",
    "sns.histplot(test['hour_bef_pm10'], ax=ax[1, 1])\n",
    "plt.show()"
   ],
   "metadata": {
    "collapsed": false,
    "pycharm": {
     "name": "#%%\n"
    }
   }
  },
  {
   "cell_type": "code",
   "execution_count": null,
   "outputs": [],
   "source": [
    "# Compute pairwise correlation of columns, excluding NA/null values.\n",
    "train.corr()"
   ],
   "metadata": {
    "collapsed": false,
    "pycharm": {
     "name": "#%%\n"
    }
   }
  },
  {
   "cell_type": "code",
   "execution_count": null,
   "outputs": [],
   "source": [
    "# Visualize the correlation\n",
    "plt.figure(figsize = (12, 12))\n",
    "\n",
    "# annot: optional. If True, write the data value in each cell.\n",
    "# If an array-like with the same shape as data, then we can use this option to annotate the heatmap.\n",
    "# The annotation will replace the heatmap's data.\n",
    "# Note that DataFrames will match on position, not index.\n",
    "sns.heatmap(train.corr(), annot = True)"
   ],
   "metadata": {
    "collapsed": false,
    "pycharm": {
     "name": "#%%\n"
    }
   }
  },
  {
   "cell_type": "code",
   "execution_count": null,
   "outputs": [],
   "source": [
    "# We also can visualize the data using bar plot\n",
    "sns.barplot(x = 'hour', y = 'count', data = train)"
   ],
   "metadata": {
    "collapsed": false,
    "pycharm": {
     "name": "#%%\n"
    }
   }
  },
  {
   "cell_type": "markdown",
   "source": [
    "### Modeling"
   ],
   "metadata": {
    "collapsed": false,
    "pycharm": {
     "name": "#%% md\n"
    }
   }
  },
  {
   "cell_type": "code",
   "execution_count": null,
   "outputs": [],
   "source": [
    "# Declare the model\n",
    "X_train = train.drop(['count'], axis=1)\n",
    "Y_train = train['count']\n",
    "\n",
    "# Train the model\n",
    "model = RandomForestRegressor(criterion = 'squared_error')\n",
    "model.fit(X_train, Y_train)"
   ],
   "metadata": {
    "collapsed": false,
    "pycharm": {
     "name": "#%%\n"
    }
   }
  },
  {
   "cell_type": "code",
   "execution_count": null,
   "outputs": [],
   "source": [
    "# Print the feature importances\n",
    "model.feature_importances_"
   ],
   "metadata": {
    "collapsed": false,
    "pycharm": {
     "name": "#%%\n"
    }
   }
  },
  {
   "cell_type": "code",
   "execution_count": null,
   "outputs": [],
   "source": [
    "# Visualizing the feature importances\n",
    "import matplotlib.pyplot as plt\n",
    "import seaborn as sns\n",
    "%matplotlib inline\n",
    "\n",
    "importance_values = model.feature_importances_\n",
    "importances = pd.Series(importance_values, index = X_train.columns)\n",
    "importance_top10 = importances.sort_values(ascending=False)[:10]\n",
    "\n",
    "plt.figure(figsize=(8, 6))\n",
    "plt.title('Top 10 feature importances')\n",
    "sns.barplot(x = importance_top10, y = importance_top10.index)\n",
    "plt.show()"
   ],
   "metadata": {
    "collapsed": false,
    "pycharm": {
     "name": "#%%\n"
    }
   }
  },
  {
   "cell_type": "code",
   "execution_count": null,
   "outputs": [],
   "source": [
    "# Create train datasets by removing the less important features\n",
    "X_train1 = train.drop(['count', 'hour_bef_precipitation'], axis=1)\n",
    "X_train2 = train.drop(['count', 'hour_bef_precipitation', 'hour_bef_pm2.5'], axis=1)\n",
    "X_train3 = train.drop(['count', 'hour_bef_precipitation', 'hour_bef_pm2.5', 'id'], axis=1)\n",
    "X_train4 = train.drop(['count', 'hour_bef_precipitation', 'hour_bef_pm2.5', 'id', 'hour_bef_windspeed'], axis=1)\n",
    "\n",
    "Y_train = train['count']\n",
    "\n",
    "# Create test datasets\n",
    "test1 = test.drop(['hour_bef_precipitation'], axis=1)\n",
    "test2 = test.drop(['hour_bef_precipitation', 'hour_bef_pm2.5'], axis=1)\n",
    "test3 = test.drop(['hour_bef_precipitation', 'hour_bef_pm2.5', 'id'], axis=1)\n",
    "test4 = test.drop(['hour_bef_precipitation', 'hour_bef_pm2.5', 'id', 'hour_bef_windspeed'], axis=1)"
   ],
   "metadata": {
    "collapsed": false,
    "pycharm": {
     "name": "#%%\n"
    }
   }
  },
  {
   "cell_type": "code",
   "execution_count": null,
   "outputs": [],
   "source": [
    "# Check the shape of training and test data\n",
    "print('X_train1.shape: ', X_train1.shape, '\\n')\n",
    "print('X_train2.shape: ', X_train2.shape, '\\n')\n",
    "print('X_train3.shape: ', X_train3.shape, '\\n')\n",
    "print('X_train4.shape: ', X_train4.shape, '\\n')\n",
    "print('Y_train.shape: ', Y_train.shape, '\\n')\n",
    "print('test1.shape', test1.shape, '\\n')\n",
    "print('test2.shape', test2.shape, '\\n')\n",
    "print('test3.shape', test3.shape, '\\n')\n",
    "print('test4.shape', test4.shape, '\\n')"
   ],
   "metadata": {
    "collapsed": false,
    "pycharm": {
     "name": "#%%\n"
    }
   }
  },
  {
   "cell_type": "code",
   "execution_count": null,
   "outputs": [],
   "source": [
    "# Declare separate models\n",
    "model1 = RandomForestRegressor(criterion = 'squared_error')\n",
    "model2 = RandomForestRegressor(criterion = 'squared_error')\n",
    "model3 = RandomForestRegressor(criterion = 'squared_error')\n",
    "model4 = RandomForestRegressor(criterion = 'squared_error')\n",
    "\n",
    "# Train the saparated models\n",
    "model1.fit(X_train1, Y_train)\n",
    "model2.fit(X_train2, Y_train)\n",
    "model3.fit(X_train3, Y_train)\n",
    "model4.fit(X_train4, Y_train)"
   ],
   "metadata": {
    "collapsed": false,
    "pycharm": {
     "name": "#%%\n"
    }
   }
  },
  {
   "cell_type": "markdown",
   "source": [
    "### RandomForest Hyperparameters\n",
    "\n",
    "**n_estimators:** Number of decision making tree\n",
    "- Default = 10\n",
    "- When increase it, the performance may get better, but may cause too much train time.<br>\n",
    "\n",
    "**min_samples_split**: The minimum number of sample used to split node\n",
    "- Used to control overfitting\n",
    "- Default = 2: The smaller the value, the greater possibility of overfitting because of the increasing node split<br>\n",
    "\n",
    "**min_samples_leaf**: The minimum number of samples to be leaf node\n",
    "- Along to min_samples_split, it is used to control the overfitting\n",
    "- When the data is imbalanced, some data of a specific class may extremely small, thus it needs to be kept the small value<br>\n",
    "\n",
    "**max_features**: Maximum number of features for optimal split\n",
    "- Default = 'auto'\n",
    "    - Note: The default value of max_feature is none in decision tree\n",
    "- When specified in int type: The number of features\n",
    "- When specified in float type: The ratio of features\n",
    "- 'sqrt' or 'auto': Samples as many as $\\sqrt{The\\;number\\;of\\;whole\\;features}$\n",
    "- log : Samples as many as $\\log_2{(The\\;number\\;of\\;whole\\;features)}$<br>\n",
    "\n",
    "**max_depth**: Maximum depth of the tree\n",
    "- Default = none\n",
    "    - Split until the class value is completely determined\n",
    "    - Or until the number of data is less than min_samples_split\n",
    "- As the depth increases, it may overfit, so proper control is required.<br>\n",
    "\n",
    "**max_leaf_nodes**: The maximum number of leaf nodes\n",
    "\n",
    "### GridSearchCV initializer\n",
    "- estimator: classifier, regressor, pipeline, and so on.\n",
    "\n",
    "- param_grid: In the dictionary type, input the parameters that are going to be used for parameter tuning.\n",
    "\n",
    "- scoring: Method to evaluate the prediction performance. Usually set to accuracy.\n",
    "\n",
    "- cv: Specifies the number of divisions in cross-validation(The number of fold).\n",
    "\n",
    "- refit: The default value is True. When it is set default, it finds the optimal hyperparameter and retrains it.\n",
    "\n",
    "- n_jobs: The default value is 1, Set -1 to use all cores."
   ],
   "metadata": {
    "collapsed": false,
    "pycharm": {
     "name": "#%% md\n"
    }
   }
  },
  {
   "cell_type": "code",
   "execution_count": null,
   "outputs": [],
   "source": [
    "from sklearn.model_selection import GridSearchCV\n",
    "import time\n",
    "\n",
    "model = RandomForestRegressor(criterion = 'mse',\n",
    "                              random_state=2022)\n",
    "\n",
    "params = {'min_samples_split': [30, 50, 70],\n",
    "          'max_depth': [5, 6, 7],\n",
    "          'n_estimators': [50, 150, 250]}\n",
    "\n",
    "# Declare GridSearchCV for each model \n",
    "greedy_CV1 = GridSearchCV(estimator = model1,\n",
    "                          param_grid = params,\n",
    "                          cv = 3,\n",
    "                          scoring = 'neg_mean_squared_error')\n",
    "\n",
    "greedy_CV2 = GridSearchCV(estimator = model2,\n",
    "                          param_grid = params,\n",
    "                          cv = 3,\n",
    "                          scoring = 'neg_mean_squared_error')\n",
    "\n",
    "greedy_CV3 = GridSearchCV(estimator = model3,\n",
    "                          param_grid = params,\n",
    "                          cv = 3,\n",
    "                          scoring = 'neg_mean_squared_error')\n",
    "\n",
    "greedy_CV4 = GridSearchCV(estimator = model4,\n",
    "                          param_grid = params,\n",
    "                          cv = 3,\n",
    "                          scoring = 'neg_mean_squared_error')\n",
    "\n",
    "start_time = time.time()\n",
    "\n",
    "# Train for each dataset\n",
    "greedy_CV1.fit(X_train1, Y_train)\n",
    "greedy_CV2.fit(X_train2, Y_train)\n",
    "greedy_CV3.fit(X_train3, Y_train)\n",
    "greedy_CV4.fit(X_train4, Y_train)\n",
    "\n",
    "end_time = time.time()\n",
    "\n",
    "print(\"Processing time: \", end_time-start_time, 'seconds.')"
   ],
   "metadata": {
    "collapsed": false,
    "pycharm": {
     "name": "#%%\n"
    }
   }
  },
  {
   "cell_type": "code",
   "execution_count": null,
   "outputs": [],
   "source": [
    "# Predict with each trained model\n",
    "prediction1 = greedy_CV1.predict(test1)\n",
    "prediction2 = greedy_CV2.predict(test2)\n",
    "prediction3 = greedy_CV3.predict(test3)\n",
    "prediction4 = greedy_CV4.predict(test4)\n",
    "\n",
    "print(prediction1)\n",
    "print(prediction2)\n",
    "print(prediction3)\n",
    "print(prediction4)"
   ],
   "metadata": {
    "collapsed": false,
    "pycharm": {
     "name": "#%%\n"
    }
   }
  },
  {
   "cell_type": "code",
   "execution_count": null,
   "outputs": [],
   "source": [
    "# Save the prediction results\n",
    "GridSearchCV1 = pd.read_csv('data/submission.csv')\n",
    "GridSearchCV2 = pd.read_csv('data/submission.csv')\n",
    "GridSearchCV3 = pd.read_csv('data/submission.csv')\n",
    "GridSearchCV4 = pd.read_csv('data/submission.csv')\n",
    "\n",
    "GridSearchCV1['count'] = np.round(prediction1, 2)\n",
    "GridSearchCV2['count'] = np.round(prediction2, 2)\n",
    "GridSearchCV3['count'] = np.round(prediction3, 2)\n",
    "GridSearchCV4['count'] = np.round(prediction4, 2)\n",
    "\n",
    "print(GridSearchCV1.head(), '\\n\\n',\n",
    "      GridSearchCV2.head(), '\\n\\n',\n",
    "      GridSearchCV3.head(), '\\n\\n',\n",
    "      GridSearchCV4.head())"
   ],
   "metadata": {
    "collapsed": false,
    "pycharm": {
     "name": "#%%\n"
    }
   }
  },
  {
   "cell_type": "code",
   "execution_count": 23,
   "id": "8dc3bb8e",
   "metadata": {
    "pycharm": {
     "name": "#%%\n"
    }
   },
   "outputs": [
    {
     "data": {
      "text/plain": [
       "RandomForestRegressor()"
      ]
     },
     "execution_count": 23,
     "metadata": {},
     "output_type": "execute_result"
    }
   ],
   "source": [
    "# Declare separate models\n",
    "model1 = RandomForestRegressor(criterion = 'squared_error')\n",
    "model2 = RandomForestRegressor(criterion = 'squared_error')\n",
    "model3 = RandomForestRegressor(criterion = 'squared_error')\n",
    "model4 = RandomForestRegressor(criterion = 'squared_error')\n",
    "\n",
    "# Train the saparated models\n",
    "model1.fit(X_train1, Y_train)\n",
    "model2.fit(X_train2, Y_train)\n",
    "model3.fit(X_train3, Y_train)\n",
    "model4.fit(X_train4, Y_train)"
   ]
  },
  {
   "cell_type": "markdown",
   "id": "fdb07143",
   "metadata": {
    "pycharm": {
     "name": "#%% md\n"
    }
   },
   "source": [
    "### RandomForest Hyperparameters\n",
    "\n",
    "**n_estimators:** Number of decision making tree\n",
    "- Default = 10\n",
    "- When increase it, the performance may get better, but may cause too much train time.<br>\n",
    "\n",
    "**min_samples_split**: The minimum number of sample used to split node\n",
    "- Used to control overfitting\n",
    "- Default = 2: The smaller the value, the greater possibility of overfitting because of the increasing node split<br>\n",
    "\n",
    "**min_samples_leaf**: The minimum number of samples to be leaf node\n",
    "- Along to min_samples_split, it is used to control the overfitting\n",
    "- When the data is imbalanced, some data of a specific class may extremely small, thus it needs to be kept the small value<br>\n",
    "\n",
    "**max_features**: Maximum number of features for optimal split\n",
    "- Default = 'auto'\n",
    "    - Note: The default value of max_feature is none in decision tree\n",
    "- When specified in int type: The number of features\n",
    "- When specified in float type: The ratio of features\n",
    "- 'sqrt' or 'auto': Samples as many as $\\sqrt{The\\;number\\;of\\;whole\\;features}$\n",
    "- log : Samples as many as $\\log_2{(The\\;number\\;of\\;whole\\;features)}$<br>\n",
    "\n",
    "**max_depth**: Maximum depth of the tree\n",
    "- Default = none\n",
    "    - Split until the class value is completely determined\n",
    "    - Or until the number of data is less than min_samples_split\n",
    "- As the depth increases, it may overfit, so proper control is required.<br>\n",
    "\n",
    "**max_leaf_nodes**: The maximum number of leaf nodes\n",
    "\n",
    "### GridSearchCV initializer\n",
    "- estimator: classifier, regressor, pipeline, and so on.\n",
    "\n",
    "- param_grid: In the dictionary type, input the parameters that are going to be used for parameter tuning.\n",
    "\n",
    "- scoring: Method to evaluate the prediction performance. Usually set to accuracy.\n",
    "\n",
    "- cv: Specifies the number of divisions in cross-validation(The number of fold).\n",
    "\n",
    "- refit: The default value is True. When it is set default, it finds the optimal hyperparameter and retrains it.\n",
    "\n",
    "- n_jobs: The default value is 1, Set -1 to use all cores."
   ]
  },
  {
   "cell_type": "code",
   "execution_count": 25,
   "id": "01f7dd87",
   "metadata": {
    "pycharm": {
     "name": "#%%\n"
    }
   },
   "outputs": [
    {
     "name": "stdout",
     "output_type": "stream",
     "text": [
      "Processing time:  73.97013258934021 seconds.\n"
     ]
    }
   ],
   "source": [
    "from sklearn.model_selection import GridSearchCV\n",
    "import time\n",
    "\n",
    "model = RandomForestRegressor(criterion = 'mse',\n",
    "                              random_state=2022)\n",
    "\n",
    "params = {'min_samples_split': [30, 50, 70],\n",
    "          'max_depth': [5, 6, 7],\n",
    "          'n_estimators': [50, 150, 250]}\n",
    "\n",
    "# Declare GridSearchCV for each model \n",
    "greedy_CV1 = GridSearchCV(estimator = model1,\n",
    "                          param_grid = params,\n",
    "                          cv = 3,\n",
    "                          scoring = 'neg_mean_squared_error')\n",
    "\n",
    "greedy_CV2 = GridSearchCV(estimator = model2,\n",
    "                          param_grid = params,\n",
    "                          cv = 3,\n",
    "                          scoring = 'neg_mean_squared_error')\n",
    "\n",
    "greedy_CV3 = GridSearchCV(estimator = model3,\n",
    "                          param_grid = params,\n",
    "                          cv = 3,\n",
    "                          scoring = 'neg_mean_squared_error')\n",
    "\n",
    "greedy_CV4 = GridSearchCV(estimator = model4,\n",
    "                          param_grid = params,\n",
    "                          cv = 3,\n",
    "                          scoring = 'neg_mean_squared_error')\n",
    "\n",
    "start_time = time.time()\n",
    "\n",
    "# Train for each dataset\n",
    "greedy_CV1.fit(X_train1, Y_train)\n",
    "greedy_CV2.fit(X_train2, Y_train)\n",
    "greedy_CV3.fit(X_train3, Y_train)\n",
    "greedy_CV4.fit(X_train4, Y_train)\n",
    "\n",
    "end_time = time.time()\n",
    "\n",
    "print(\"Processing time: \", end_time-start_time, 'seconds.')"
   ]
  },
  {
   "cell_type": "code",
   "execution_count": 26,
   "id": "f62ebe21",
   "metadata": {
    "pycharm": {
     "name": "#%%\n"
    }
   },
   "outputs": [
    {
     "name": "stdout",
     "output_type": "stream",
     "text": [
      "[ 86.71871077 237.14406021 106.20606326  31.79610907  53.48793414\n",
      " 128.27713441 147.99642531 301.07885586  30.43086512 120.09864994\n",
      " 295.44385557 249.09845249 128.4820542   39.30426673 240.82862855\n",
      " 171.18264697  25.36847846 218.91678238 306.751906   172.41276054\n",
      " 220.86813906  72.23829393  18.05434887 143.52577735 150.88297553\n",
      " 108.88445571  24.75084585 115.93666015 110.10973064 150.11630809\n",
      "  85.5457806   25.80662933  61.68099739 134.1035387  265.79127535\n",
      "  29.70709515 135.6365994  146.71357134 214.59255148  65.82110303\n",
      "  59.50237478 117.87305628 161.85648869  81.11902861 297.88675324\n",
      " 192.44188024  69.07290419  61.08627149  18.57810893  85.87551384\n",
      " 245.7245125   86.92760831 157.73476915 107.71915097 193.06145208\n",
      " 158.62478771  40.37197872 174.50725831  18.11587828  17.68930299\n",
      "  88.54702468  88.10633585 265.3801545  287.04923833 161.24382821\n",
      " 293.77447707  17.95296809 215.84186713 138.07391273  25.54013975\n",
      " 102.91132763  38.57747868 159.51049757  18.05434887 300.33495727\n",
      " 208.81601531  31.69118209 177.4506285  230.41631248  18.10280125\n",
      " 276.66826878 131.44154789  86.75093403  85.39142479  91.42591235\n",
      " 291.12079379  60.64725519 160.81147069  89.30088625 284.10337206\n",
      " 280.84338238 166.38693805  61.7758122  102.32286688  40.62600977\n",
      "  85.56521267  89.29765132  25.50108008 220.18372152 160.59800354\n",
      "  18.21859456 169.17520954  46.66255856 110.65160167  56.66252339\n",
      "  54.76897999 100.467956    18.10280125 174.39597235 154.70371485\n",
      " 200.55122897 233.89166773 179.78733377 111.58417369  61.7758122\n",
      " 131.18214676 273.49031924  39.16937927 203.43863186  18.21859456\n",
      " 101.10462077 101.83085152 223.43795423 103.33627875  40.37197872\n",
      " 116.89320233  59.93039358  16.38975876 184.61328449  63.76604577\n",
      " 126.92297611 155.4523781   18.57810893 143.81468999 292.22556269\n",
      " 128.8555155   40.37197872 136.57980771 266.46000752 312.80780511\n",
      " 175.40861564  25.46130485  30.45571053  87.92838918  86.92760831\n",
      " 110.62304866  92.76111425 119.58617337 152.85629245 200.87669497\n",
      " 127.69893499 294.01085245 301.3411108  232.36298955 164.74909155\n",
      "  17.28172307 116.83358716  17.95296809  86.09775049 139.03636739\n",
      " 141.73529305  18.05434887 203.18601853 233.0702416  134.06017678\n",
      "  17.95296809 257.55990793 162.21995069 285.76490207  18.05434887\n",
      " 112.89826888 135.9644507   86.70537166 129.86333707 102.13532957\n",
      " 104.13627757 261.53008036 213.57201468 176.5369899  118.41232374\n",
      " 206.06479222 167.13203547 156.06188215 243.94162958 143.28430712\n",
      "  88.70767512  90.03002174 296.66957308 168.93211799  40.37197872\n",
      "  38.87520095 150.9990772  113.9797581  117.86849468 136.41354261\n",
      " 256.59856626 304.44277299 138.09867408 123.72617312 105.92139971\n",
      "  18.01380125 242.23928206  18.05434887 300.02152876 138.5988445\n",
      "  31.23357591 125.71279276 267.32289116 221.5562765   61.99804886\n",
      " 284.78188082 179.60335766 127.23811217 216.15992559 269.48990203\n",
      " 125.74078913 240.19391273 108.93298988 138.43759235  86.70537166\n",
      "  79.14101613  25.36847846 105.97019587  59.50518913 159.58588851\n",
      "  40.25767968 200.87146372 195.33014552  31.8687954  176.05534605\n",
      " 281.77451818 128.41906429  18.05434887  69.31843668 207.93243054\n",
      " 103.34938178 315.47840236 294.03142292 160.03209554 222.87228819\n",
      "  16.95818281 201.56329979  25.31859118 144.80078876 157.23708678\n",
      " 103.0009642  135.24479421 218.07205012  86.99465273  18.01380125\n",
      "  86.07820954 247.11490366 220.42383936 173.90768766 130.4553643\n",
      " 171.36168573  25.41285247 318.33562924  85.27315442  18.15706515\n",
      " 172.78768072  25.27804356 216.84598408  25.31859118 162.74333394\n",
      " 226.07799072  18.15388511 238.67260358  85.87551384 194.99694166\n",
      " 130.34291243 106.47013617  59.17034389 290.65234976  18.15706515\n",
      " 282.95308969  86.09775049 187.88382401 180.58600651  39.49048769\n",
      " 289.06353705 104.4286118   18.05434887 168.1038197  177.67380051\n",
      " 105.66329138 257.59648067 151.84040857  70.48110297 103.71396176\n",
      " 122.24874975 278.77641537 167.16434666 126.39979458 142.87467669\n",
      "  30.33589974 161.83961919  39.63505782 242.74688688  31.50811621\n",
      " 107.00352761 227.82196448 241.72599636 194.35735401 310.4679205\n",
      " 202.73829357 143.8671703   64.27452629 166.42251194  86.70537166\n",
      " 282.59761158 260.53776169 230.36576358  32.54606267 266.1779299\n",
      " 205.69701832 139.54317899  40.22052763  25.51119213  17.93514407\n",
      " 238.33753635  39.49048769 144.05976046 113.82215917  88.29576748\n",
      " 312.32246303 278.56392864 101.69702837  88.26148143  91.22580742\n",
      "  25.31859118  85.07921162 103.74461556 190.14079534 137.31043805\n",
      "  32.40402592 234.00357129 265.12687665 133.9518301  307.98205569\n",
      "  18.10280125  18.10280125 286.29630165 179.83095174 115.8726091\n",
      "  17.95296809  31.36808673 102.86317523 121.2075986  283.54429827\n",
      " 246.58404531 238.19832602  54.45974552  59.06959714 196.57379288\n",
      "  64.29332369  18.05434887  18.15706515 103.94779565 109.4005552\n",
      "  62.07108998 180.86828915 271.9486475  164.266721   145.92548942\n",
      "  25.66623371  66.0137996  102.61486225  18.05434887 192.29522908\n",
      " 114.66787936  77.99361655 224.37617628 284.32931486 211.90944603\n",
      "  17.80993172  39.22561785 170.3210654   86.63022597  32.35557354\n",
      " 126.24715006 113.93868382 295.14481693 287.29704813 122.64776513\n",
      "  66.90648812 128.05419135 173.18735935 113.15092418 230.95232058\n",
      "  39.13222722 148.35394346 284.26295842  59.92271539 105.33229894\n",
      " 113.58206652 284.43042216  25.61196981  25.71612099 197.75969746\n",
      "  21.9062233   86.70537166  18.01380125 265.08932662  75.89858574\n",
      " 118.67144395 187.59123917 166.79416504 114.95439264 106.41559164\n",
      " 179.87514969 286.09271282 149.53015946 125.33011229  40.37197872\n",
      " 136.09757579 181.00815481 114.56139879  64.02246937  64.13778914\n",
      "  18.21859456  25.27804356  18.21859456  30.61858216 150.49382466\n",
      " 105.54284352 101.61636333 189.17259056 106.0062556  310.58309627\n",
      " 129.91438236 187.97109882 269.35452837 119.65790735 103.27389809\n",
      " 258.5855758  295.50744607  32.26698153 114.05983909 311.54861546\n",
      " 268.80061148 168.75712982  40.77667473 100.70330868 120.00666159\n",
      "  88.14425626 108.80823885  38.72581744 296.77608491 286.73558413\n",
      " 236.25633649 123.56402915 172.20081771 223.93721735 135.68597747\n",
      " 111.23368297 233.5592006  104.17725903  63.62090703 116.93527955\n",
      " 239.97882314 124.56272113 106.99967062 113.01539828  86.21832935\n",
      " 135.68174901 276.6896251  104.60668951 188.20719616 181.65410747\n",
      " 224.93790086  60.58006158 305.81328664  98.67829027 163.04247431\n",
      " 179.98746171  18.11587828  28.72252293 241.35293028 281.48797745\n",
      " 105.22717352  87.23939905  25.46130485  17.95296809 233.37233527\n",
      " 149.01413194 310.01419963 264.89364646  86.81859426 124.96698667\n",
      " 198.73414125 175.88678329  65.87556619  62.11633409  41.44823214\n",
      " 173.3295435  119.39138284 220.9649613  283.18047236 241.53685649\n",
      "  18.05434887 209.54292569  60.5159848  114.32659502  32.42503886\n",
      " 220.02219932 242.89989146  25.71612099 170.22702611  83.20375345\n",
      " 248.89103001 252.28194719 209.01809616 234.6092729  307.18865812\n",
      " 100.00077293  29.64797646 240.94919682 140.92462562 185.64762286\n",
      "  25.36847846 217.64282574  18.15706515  59.97998195  18.15706515\n",
      "  96.7998417   26.28042866 227.26704275 199.78913646 142.94813116\n",
      "  30.09795823  70.38182755  36.62367592 291.51146485 102.4760061\n",
      "  30.45734566 103.42540915  18.01380125  41.7868503   39.05973375\n",
      " 292.57548082  17.95296809 189.43245883 254.9611165  289.03294906\n",
      " 224.12086612 103.41311252 152.61205235 105.1581314   90.03045407\n",
      " 208.96858444  40.50553507  17.8583841  148.92715386  17.93514407\n",
      " 162.95029055 142.6735764   32.42503886 152.5182504  198.49606927\n",
      " 228.22470917 315.15271688  25.42219213 103.82852019  39.98799418\n",
      "  32.27746732 105.29911753  82.76114386  25.41693084 149.85491693\n",
      "  87.00102988 184.7867771  125.58604852 305.57862773 179.10555527\n",
      " 284.17092517 132.1321014  285.31879656  57.42509294  32.02571509\n",
      "  27.59697196  38.72397605  86.17117206  18.05434887  18.11587828\n",
      " 115.1950529   18.15706515 276.19154053 220.0846563  140.38248122\n",
      "  86.39340871  89.62108297  25.71612099 162.24555509  99.48144283\n",
      " 131.35392432 197.73515266  18.05434887 241.00556845 122.39800455\n",
      "  15.11636034 254.19404539 105.68810127  39.85830345  86.51616241\n",
      " 246.0402066  117.97499862 313.48936102 292.49789342 231.77168564\n",
      " 227.57750188 184.60637291  18.78290224 115.84112213 125.62548233\n",
      "  18.48508414  40.94270193  98.0505946  198.28796861 173.07275776\n",
      "  60.3401712  188.48130066 101.24691947 267.79600826 109.15341085\n",
      " 289.99631831  62.7412581   29.07258984  18.10280125 228.7948801\n",
      " 264.24199615  87.22326653 107.49942608  25.26709767  99.77429029\n",
      " 110.27591185 174.92648601 123.79227838  89.45832742  31.26270874\n",
      " 108.74681915 106.2842239   62.93687774 103.87839023 293.15323911\n",
      " 127.3128571  272.31176031 109.31139741 283.06453977 228.71229432\n",
      "  61.22461507 116.04113202 102.57468409 284.82788751 238.13364805\n",
      " 269.56913998 105.35220048 115.63999083 130.80005861  18.05434887\n",
      " 144.48324021 270.89166504  25.41285247  85.39095786 118.67017699\n",
      " 116.92975568 159.18830079 126.14404614 281.20142197  86.17117206\n",
      " 107.19337146 135.06198033 290.3098134   96.57162716 141.62658761\n",
      " 150.63188191  29.64186189 161.88438822  18.01380125  26.66905806\n",
      "  18.01380125 220.99134175 104.89585982 156.88390483 275.90658884\n",
      " 137.89923592 125.9183633   25.26709767 161.73377505  17.95296809\n",
      " 143.56730885  26.28042866  30.36074533 101.06548107  60.55683896\n",
      " 187.1018257   22.29531634  81.01578356 181.66970783  30.84060686\n",
      " 283.47239803 249.398861    18.05434887 318.90459736 125.62237276\n",
      " 247.49724919  39.45372272  86.39340871  25.85620485 269.82590014\n",
      "  62.12546104  66.36965407 120.01101649 175.72442231 169.22749917]\n",
      "[ 83.63497124 245.91944677 107.89466864  31.34452297  57.45796778\n",
      " 122.25903366 150.0639987  304.91556156  30.05337152 115.79736312\n",
      " 294.27427846 244.33817364 124.05202131  39.20318724 240.67768879\n",
      " 156.48359129  25.08366939 214.66431343 313.74844265 163.67438175\n",
      " 217.53710016  71.3695593   18.29005265 143.17132243 146.82384772\n",
      " 110.51926813  24.20874196 118.12933782 110.04487601 147.78554283\n",
      "  86.3596503   25.26483614  60.45550155 133.63155909 259.01176203\n",
      "  28.26070907 135.88575403 158.02187525 208.54503091  66.90754452\n",
      "  58.07618289 121.04157551 164.88791081  79.03812392 301.133242\n",
      " 195.0794425   68.82384021  60.1075026   19.15195624  87.16045066\n",
      " 248.95225707  87.67532447 160.28251511 113.01342889 186.95793324\n",
      " 164.05102928  39.92756669 171.24002898  18.24504832  17.65588331\n",
      "  86.54155609  89.23641654 263.16915373 293.39396193 161.60242057\n",
      " 293.66764862  17.92919964 208.81045452 147.69783589  25.13129137\n",
      " 104.58286173  37.94302857 163.72671753  18.24504832 300.31174151\n",
      " 205.76428128  31.41720224 181.99632917 225.8073597   18.39219136\n",
      " 278.54808189 137.37445605  84.03774685  86.90123899  88.99461041\n",
      " 289.72270743  59.66202467 158.97573684  89.46293855 282.88428481\n",
      " 284.98889745 168.63155879  60.54761537 103.02686121  39.79803411\n",
      "  86.90123899  86.55805371  24.99805303 210.32286152 162.03416355\n",
      "  18.46483244 168.3775273   45.26928067 108.01649475  58.99806805\n",
      "  56.52988114 102.43838961  18.3657098  167.03034522 152.76829402\n",
      " 199.55617657 226.53378559 176.76901811 109.35618889  60.44679184\n",
      " 124.15637553 273.19622283  39.34212515 200.64976763  18.43094168\n",
      " 103.36139096 104.48758943 226.44305029 106.71230256  40.09286229\n",
      " 117.15963531  59.24255016  16.1540545  193.57372589  61.38021557\n",
      " 127.24563377 161.06922733  19.15195624 140.38840664 295.8508076\n",
      " 126.84078946  39.90995829 143.37745089 273.94065359 314.12943579\n",
      " 180.45800013  25.21803529  30.09165961  88.47684152  87.53989113\n",
      " 110.86365215  94.35051053 119.57796678 155.39377307 189.35082195\n",
      " 127.57751351 289.57838889 302.89463679 234.46649504 167.00777261\n",
      "  16.49584564 117.62180599  17.67879016  87.36228591 140.43634565\n",
      " 147.10011939  18.29005265 201.71963348 234.86676945 133.87267479\n",
      "  17.88098745 255.73653854 161.34285243 285.25096564  18.29005265\n",
      " 109.50822958 131.72963107  87.53989113 129.1051492  101.53455717\n",
      " 103.45287422 262.87317218 210.58375729 173.56943003 114.70409262\n",
      " 206.5363993  170.95629102 151.18576274 244.09416321 144.56773094\n",
      "  89.50229744  90.56102717 294.52251042 170.13596731  39.9782864\n",
      "  39.17721306 151.27446643 109.70166697 117.6207633  131.48964785\n",
      " 251.93261533 306.61457053 141.42009856 121.52691351 105.38198338\n",
      "  18.21738279 249.70927709  18.24504832 305.92842625 134.74009725\n",
      "  30.73977345 125.12841187 269.39304462 218.73771214  60.3936531\n",
      " 285.77641197 180.06848672 136.053057   208.31950205 272.21495113\n",
      " 125.60611518 241.57657443 107.26867515 136.74225963  87.53989113\n",
      "  78.8894037   25.05478704 105.2721154   59.15116372 163.40863985\n",
      "  39.8788146  198.3289722  194.90632483  31.97981907 179.08394441\n",
      " 281.29338591 132.3976242   18.35112868  67.66797102 211.03681067\n",
      " 103.3832547  314.94911153 295.93412688 159.89137694 219.73780611\n",
      "  16.76636504 192.36619155  25.16267137 145.81923058 154.31194469\n",
      " 101.27387528 143.28411581 217.67772433  83.2786537   18.24504832\n",
      "  81.69815783 250.23801857 216.41441814 170.86078807 127.9620266\n",
      " 173.18810984  25.21803529 316.64205713  85.60689354  18.46483244\n",
      " 173.2880013   25.19155372 214.03172144  25.11766704 161.50444813\n",
      " 220.09507401  18.21738279 238.56932991  87.05298445 189.47564127\n",
      " 128.6932407  106.8228855   58.75504175 295.29700399  18.43094168\n",
      " 284.93693421  87.36228591 186.12568111 182.06692567  39.69542173\n",
      " 287.62024789 104.76525355  18.27893908 171.29849662 173.78960827\n",
      " 104.20205388 255.51843261 152.57608517  68.18547259 105.91639411\n",
      " 121.98278722 279.741681   163.75437828 123.03307461 141.62045065\n",
      "  29.58919    159.47847139  39.55290047 240.64075954  29.83718652\n",
      " 108.0279668  236.65602416 236.34675109 194.10587759 313.01453937\n",
      " 203.31496091 142.81512985  63.29777621 160.71375474  87.53989113\n",
      " 283.06887854 258.23494036 224.14418533  32.12202744 257.91852581\n",
      " 194.77894669 147.63863276  39.75433152  25.2002664   17.958455\n",
      " 243.23032242  39.28767842 148.07615288 116.51113345  86.26393826\n",
      " 316.5299752  278.70123885 101.52003062  88.77635357  93.52546848\n",
      "  25.14654939  82.28238069 110.20949893 190.37314204 132.67327724\n",
      "  31.89544334 226.32690236 266.99681004 133.118663   311.26505963\n",
      "  18.29005265  18.39219136 292.74555439 182.93978339 117.63398115\n",
      "  17.92919964  30.60709475 100.61270099 120.8564981  287.2515063\n",
      " 252.35070484 241.03370009  56.14904157  58.63316212 190.43743514\n",
      "  62.17930441  18.31653422  18.43094168 103.17220857 111.06084936\n",
      "  60.27177347 181.26751398 274.82512801 165.68937934 146.50994229\n",
      "  25.35139676  65.2752686  103.26744869  18.24504832 181.76254994\n",
      " 111.3032739   76.72592151 222.21092763 289.99673954 208.1604817\n",
      "  17.88744837  38.03786873 173.50589035  82.72433567  31.94372905\n",
      " 127.4799707  115.54934084 300.23650327 283.4600321  121.13798183\n",
      "  64.77731427 127.7402104  170.8163448  109.15446864 233.58551109\n",
      "  39.05942994 159.20103886 287.04414004  59.44226317 104.16837607\n",
      " 115.39815029 285.06272156  25.31098276  25.32001676 205.90838401\n",
      "  20.89883822  87.53989113  18.24504832 256.46836614  73.49621475\n",
      " 119.87774844 190.95085509 167.74483996 117.36567144 106.27343501\n",
      " 182.53885478 285.75477318 149.75924121 126.28643413  40.00669965\n",
      " 132.75294908 182.16604543 117.35676609  62.7695914   62.86074843\n",
      "  18.45342103  25.05021172  18.43094168  30.78658502 151.06138723\n",
      " 103.92239387 101.83191752 184.60978542 106.9261442  312.88104966\n",
      " 131.31723509 184.23066767 271.56769229 117.38509765 103.25764424\n",
      " 263.92170296 299.22339486  32.0098508  116.11160891 315.0406103\n",
      " 262.33084175 162.52172409  39.97892062 100.01770963 117.79086084\n",
      "  85.5388847  108.38507012  37.1695031  300.08857353 285.48840553\n",
      " 238.18037129 123.45973765 171.85833301 224.40713891 141.39530442\n",
      " 116.79319738 234.92042755 102.93268086  61.9770201  118.57898607\n",
      " 244.05674988 125.6401203  104.63863057 114.19751981  87.05298445\n",
      " 145.13797183 277.88058025 100.97039955 184.98509022 184.77379401\n",
      " 220.51779833  59.58690104 304.60656946 100.31922837 165.99532306\n",
      " 175.38318796  18.24504832  27.38380286 240.56676004 281.73363109\n",
      " 105.37551817  83.25351586  25.23666483  18.17273224 224.6831433\n",
      " 150.53334149 308.41360781 268.57314091  87.16045066 130.95557489\n",
      " 191.67470089 167.41205744  64.67534851  62.0827117   40.63406371\n",
      " 175.16513556 118.58079446 218.90309406 285.99550207 246.11099471\n",
      "  18.24504832 207.53517178  59.38988645 112.03505591  32.22470698\n",
      " 214.98009999 247.59046889  25.3245094  166.8272582   77.08595958\n",
      " 247.15257649 257.30026503 207.77443397 228.39617453 312.41428811\n",
      " 100.135669    29.46925359 238.79725689 145.44359079 188.90511255\n",
      "  25.11276861 217.27099573  18.45296179  59.35497393  18.56170613\n",
      "  99.32019424  26.05233986 227.65776973 199.73906901 141.08687651\n",
      "  28.80551388  69.28486695  37.23509301 294.65279755 100.63325169\n",
      "  30.31201108 102.2424912   18.1691706   40.78217932  39.28732029\n",
      " 297.75919311  17.99512633 187.34508238 253.16415582 294.50617678\n",
      " 224.26018422 103.88509412 158.32265442 105.98937851  89.36936686\n",
      " 208.32650171  39.96360028  17.88744837 151.83933182  17.98093436\n",
      " 163.39686832 142.66473711  32.22470698 161.8425409  195.95151384\n",
      " 232.60883678 310.5479139   25.10362583 101.90803053  39.58227751\n",
      "  31.89872472 102.67462227  81.63829431  25.16017372 156.99407287\n",
      "  87.53989113 186.80769114 125.30197524 311.08352194 183.13702294\n",
      " 282.90837117 132.42751623 286.9128556   59.19616485  31.91819194\n",
      "  26.68223697  38.75483955  87.05298445  18.24504832  18.24504832\n",
      " 112.21588296  18.56170613 275.96102595 217.26952471 141.81415453\n",
      "  87.05298445  89.0370148   25.34889911 161.34502038 100.00533032\n",
      " 129.77967891 199.07330046  18.24504832 237.74808145 122.86810406\n",
      "  15.49733583 250.46777075 105.21811886  39.91658777  82.97036035\n",
      " 238.62638    121.75831552 315.66633508 288.98326405 233.07224128\n",
      " 231.00221042 181.14130789  19.19715554 117.01797823 120.29238896\n",
      "  18.52588978  40.44501478 104.75054861 193.25563982 172.91513208\n",
      "  59.77671422 185.68709453 100.59478932 269.22428854 106.62512995\n",
      " 294.63842819  60.9880781   27.59851939  18.39219136 220.84025172\n",
      " 265.41305602  87.53989113 110.41708664  24.65036471 100.30793998\n",
      " 116.06625862 168.54082415 124.38910772  89.0370148   30.65449596\n",
      " 107.10513262 106.78654617  61.23542119 105.37289058 296.28038769\n",
      " 127.91954982 275.92263392 119.82463824 288.35282077 225.38400732\n",
      "  62.44028795 117.77201134 100.98001295 291.11991006 239.22669763\n",
      " 272.42233631 104.32153678 117.51869967 129.22285264  18.31653422\n",
      " 148.26060102 271.80539631  25.16267137  86.20790484 116.43894837\n",
      " 117.78921033 160.77610219 127.7152013  278.76754106  87.05298445\n",
      " 107.85884297 134.52502933 289.90200138 102.00726188 142.9086727\n",
      " 151.86705125  28.35008919 169.75235242  18.3657098   26.49786733\n",
      "  18.2475098  223.83339721 104.78898356 154.81567221 276.96659819\n",
      " 135.14980416 126.20032532  24.52720519 166.01922516  17.86684839\n",
      " 144.70997653  26.01218776  29.78465568 102.27339453  59.63372714\n",
      " 185.40617966  20.99766244  77.8218235  181.96325898  29.88176404\n",
      " 288.57544249 249.60412051  18.20250547 316.24484495 123.7741538\n",
      " 245.06127055  39.78389695  87.05298445  25.2774739  272.231995\n",
      "  60.67111008  64.32309767 117.05009295 167.80881404 170.13055625]\n",
      "[ 84.82419355 238.43309665  99.67154275  31.30875932  49.99909162\n",
      " 116.71229562 147.57027666 305.14118582  30.27596976 115.02411626\n",
      " 292.99881449 238.93876738 110.90523953  39.68670685 237.96505228\n",
      " 157.33691742  25.19443329 220.34659878 312.65090049 158.06850247\n",
      " 221.24382556  73.72159658  18.76874948 135.38862513 145.71125222\n",
      " 108.8147387   24.20114165 114.55993179 108.98562217 149.36237816\n",
      "  86.55425554  25.31159388  61.37982303 131.22178069 260.08541195\n",
      "  28.55474613 132.8675954  168.41971059 214.57169399  67.75744133\n",
      "  60.27459793 117.35573685 159.87579143  84.58836595 302.77778827\n",
      " 195.87265646  70.69839998  61.77459916  19.2090666   87.13414242\n",
      " 244.50761898  87.13414242 164.08361414 110.57056251 185.42782962\n",
      " 158.02380968  40.24684809 171.39798493  18.72329853  17.99781589\n",
      "  87.14281019  90.95850089 267.80043808 292.69708556 160.023421\n",
      " 296.9372201   18.75872612 216.91083569 148.23324748  25.2131971\n",
      " 102.74431615  38.51412635 159.06629216  18.42917377 303.1849128\n",
      " 208.2934915   30.83533519 180.17751609 226.99734733  18.78516952\n",
      " 274.19774618 131.68373022  86.04100204  86.94670663  91.52719197\n",
      " 292.75660084  61.0370335  169.63278466  89.33219961 278.50293212\n",
      " 287.70162944 167.80497823  61.7098459  102.08190394  40.29316083\n",
      "  87.04488845  87.8704608   24.77177967 210.45849579 160.57056846\n",
      "  18.79561932 170.58389074  45.13668555 107.87611537  60.16988545\n",
      "  53.7246418  101.7967037   18.8202985  171.97441328 147.69706044\n",
      " 200.2958229  229.5279445  175.11259243 109.96735808  61.44751309\n",
      " 120.72542451 264.9703564   39.51627649 198.79817172  18.78781632\n",
      " 102.38762102 101.14112604 228.67074187 106.46048838  40.31769691\n",
      " 114.16846318  61.34207784  16.03841509 202.13966679  63.97604292\n",
      " 125.90073469 167.90112579  19.24022184 138.5254648  293.73740148\n",
      " 124.18058321  39.95263406 136.99898202 272.17005699 312.36841619\n",
      " 182.22280991  25.33111399  29.38900955  89.14913953  87.13414242\n",
      " 111.43791315  95.39609934 117.47548639 154.09847146 203.30673272\n",
      " 125.82724096 290.96358215 301.47809432 230.29645764 162.62663053\n",
      "  17.20966169 114.09701767  18.38854127  87.60745909 139.1579742\n",
      " 144.39296473  18.76874948 203.20206721 229.24151836 135.68886823\n",
      "  18.81731667 259.07833752 163.66987247 285.23659922  18.73602023\n",
      " 111.28227133 127.42082626  87.13414242 129.81637196 102.13931008\n",
      " 101.68993281 258.07621369 210.13421016 176.08930433 115.11484785\n",
      " 207.64216787 167.70384954 151.8087753  241.48385576 141.00537681\n",
      "  89.37161572  89.83784783 294.0400143  166.47385852  40.06296587\n",
      "  39.33376598 153.76478641 110.88917016 114.98682946 129.9033975\n",
      " 250.29767727 308.61758267 137.34906139 117.68949554 103.99802304\n",
      "  18.81731667 251.90005463  18.75602778 308.27594694 135.58112347\n",
      "  30.35767561 121.69389967 266.55894877 220.74944687  61.55968951\n",
      " 286.96510515 182.48269514 132.40242729 210.02783814 266.25669436\n",
      " 123.10339567 243.86356399 109.42119208 138.21630158  87.13414242\n",
      "  79.91710264  25.14590712 105.75880094  61.02894389 158.60535865\n",
      "  40.29825774 197.68390383 195.24964262  31.70817298 185.42091992\n",
      " 278.21265586 130.11044263  18.73602023  64.19138034 204.37613247\n",
      " 103.81676723 313.74162582 298.12460303 161.60257684 209.6829217\n",
      "  16.86405908 195.35745797  25.14898658 146.71658673 152.50431473\n",
      " 102.37732474 143.51682408 220.10845882  84.30910046  18.71725641\n",
      "  85.18069297 247.53465648 218.75406718 178.43806758 128.17854229\n",
      " 182.41876788  25.31430447 315.77568166  85.46076122  18.79561932\n",
      " 173.32260005  25.24300472 214.8343532   25.19443329 167.85352777\n",
      " 218.76717293  18.77085319 235.97028198  87.13414242 194.88467076\n",
      " 124.48330065 106.41320134  60.48665352 295.00019532  18.98188082\n",
      " 285.66662579  87.60745909 191.21368795 191.15269662  40.04646751\n",
      " 289.63006438 104.2945405   18.45198426 175.86720319 180.52740335\n",
      " 104.65042949 256.33495096 154.58158307  65.18339018 107.08432992\n",
      " 119.54580803 278.0398687  172.86229575 118.97329605 140.48229599\n",
      "  28.91843505 159.78685719  39.69136757 241.43551453  29.17739807\n",
      " 105.94165554 238.9338539  239.15514084 200.33582064 311.13636665\n",
      " 204.09226132 140.61024675  64.47800357 161.3999414   87.13414242\n",
      " 280.997946   260.44763367 225.42454635  32.25600594 261.24364884\n",
      " 196.49006026 147.41027661  40.3875402   25.33111399  18.20810179\n",
      " 243.97412522  39.64643161 143.06689386 111.43813086  86.43297355\n",
      " 315.67811228 278.55761129 100.581328    90.62555394  93.37492007\n",
      "  24.91702992  84.53443885 104.46356502 192.81002551 131.55645597\n",
      "  31.76682686 226.59757401 259.73195465 130.94906852 309.75986738\n",
      "  18.85016544  19.02584596 298.86340007 179.78805191 115.6495348\n",
      "  18.78458742  30.38304939 101.73543772 119.0459992  290.08528748\n",
      " 248.91034421 232.86056264  56.03190306  60.09615493 194.93972183\n",
      "  64.02969687  18.76192143  18.98188082 104.05686467 108.5998734\n",
      "  61.33466771 186.73423026 268.00518615 175.72654964 148.00079755\n",
      "  25.46691501  65.95386488 103.42899583  18.65596752 192.18198668\n",
      " 108.37967107  79.46880198 224.19694029 291.39501512 209.54676209\n",
      "  18.13719086  39.22711948 178.45334248  85.54413677  31.87953823\n",
      " 128.82177459 112.91869426 300.86144067 284.47841083 117.61951392\n",
      "  65.25948908 127.25366417 171.11671583 111.91519957 227.89768892\n",
      "  39.57191767 156.23866163 286.7832794   61.16128166 104.9724601\n",
      " 112.14895647 281.26703061  25.47614066  25.31084133 206.72503172\n",
      "  20.9224265   87.13414242  18.7459193  259.18010127  72.61229688\n",
      " 118.10542415 196.66966139 176.34910608 114.16261088 107.80794963\n",
      " 185.94279596 285.15939426 149.826637   125.62493343  40.27754803\n",
      " 135.18427264 181.56355368 115.36942021  63.6661718   64.29197213\n",
      "  18.98188082  25.1463027   18.75508706  30.43250907 154.6191187\n",
      " 104.38084688 102.18779655 189.70810967 104.77883217 312.14434543\n",
      " 127.27569535 185.2055059  272.92900397 117.57638208 102.09298772\n",
      " 255.71180295 302.1686661   31.84794606 113.07325608 316.30955781\n",
      " 264.39238242 161.74846322  40.410359   100.47407739 117.27828394\n",
      "  83.41977222 109.26666624  38.26403075 305.13763935 289.57002241\n",
      " 240.93604559 122.85704493 169.89771829 217.35526352 136.19183816\n",
      " 114.42001263 231.99234936 104.0474319   64.2610285  116.0885138\n",
      " 238.04961994 122.56311549 106.5310954  110.74086614  87.13414242\n",
      " 135.42668793 279.75267404 102.40380714 193.54674774 187.36251762\n",
      " 222.12378726  61.1915229  307.00988907  97.16174422 162.72503092\n",
      " 176.41279967  18.75316548  26.81925746 242.0195172  281.62026886\n",
      " 105.04047213  85.13554919  25.26273588  18.7071771  230.9521806\n",
      " 150.39124096 309.70468659 263.98191413  87.13414242 133.460401\n",
      " 205.94233957 166.83977387  64.93026318  65.5472726   40.9986843\n",
      " 182.65076681 114.76676681 222.05224937 286.75884256 243.99263431\n",
      "  18.40628764 215.01841611  61.41214005 108.50506667  32.26669319\n",
      " 223.14189818 246.94847159  25.30657359 161.70082138  80.19030399\n",
      " 252.34228762 252.5627158  208.27035293 231.39971368 309.86766371\n",
      " 100.51530984  28.96007826 235.7472777  140.17540866 194.4502933\n",
      "  25.27560224 217.88001825  18.96667815  60.70036075  18.89313622\n",
      "  98.08973358  26.1167584  231.16141157 203.03808539 142.57157709\n",
      "  28.90394605  70.97008013  38.54046019 295.19683648 100.42569403\n",
      "  30.25538283 102.37350225  18.66164103  40.78886259  39.22545996\n",
      " 297.44509667  18.86866103 188.12918423 257.79607777 296.31705719\n",
      " 221.30650527 103.60270083 156.84516066 106.04294811  88.88626613\n",
      " 209.41546353  40.08233631  18.22146913 152.75447454  18.24083104\n",
      " 173.75695004 142.12919899  32.25923853 161.19577207 201.79938126\n",
      " 225.57459394 311.7731605   25.11841231 102.41624151  39.38752499\n",
      "  31.75309976 103.41192919  83.70131499  25.30461424 156.27415823\n",
      "  87.13414242 189.57863998 124.6609531  314.00787218 180.02765178\n",
      " 283.1511095  130.81519698 284.98466214  60.25286226  31.6353351\n",
      "  26.72646429  38.18595354  87.13414242  18.60035214  18.63021908\n",
      " 109.27747267  18.86040697 277.23557197 223.37911473 144.48375022\n",
      "  87.13414242  89.33219961  25.54444426 158.34136972  98.9469117\n",
      " 128.8089423  203.4167539   18.66164103 243.455307   121.12576378\n",
      "  15.02206999 250.93314338 104.24450961  39.87406091  85.30906377\n",
      " 238.79752565 122.92056088 318.47544579 290.83531609 231.48916678\n",
      " 223.84404113 187.79706095  19.44546271 113.94088156 119.87041072\n",
      "  19.03547759  40.02324891 103.31404567 192.76636576 182.41239081\n",
      "  61.20198582 188.6005923  100.75260505 269.46906586 106.16899466\n",
      " 295.26682393  61.63171563  27.64444761  18.85016544 224.38189761\n",
      " 262.64802506  87.2821329  107.25878942  25.26793805  99.91581931\n",
      " 112.53076711 160.73974094 116.90106306  89.33219961  30.36979955\n",
      " 106.92754874 105.66789536  62.26028204 104.97598318 299.67651409\n",
      " 124.87655116 271.99566092 117.23027486 289.73728503 228.1531839\n",
      "  62.533638   114.42346244 101.22501558 293.32401198 237.84344847\n",
      " 271.42016294 104.68619998 115.03954313 124.80322688  18.94156768\n",
      " 147.23451851 273.4269375   25.14898658  86.27799832 113.89630971\n",
      " 114.01867397 164.49948679 122.82458948 282.70950873  87.13414242\n",
      " 104.84171304 131.18288062 294.96707531  99.17514766 143.66173005\n",
      " 149.6111779   28.71541455 182.86276552  18.75238094  26.08028904\n",
      "  18.73309859 223.1943827  105.35934686 153.00847943 272.88946998\n",
      " 126.65643932 120.90031859  25.19443329 182.05656299  18.819095\n",
      " 140.93217338  25.95641698  29.72779929  99.64485633  60.76529578\n",
      " 178.60790702  20.75847803  81.90049912 181.74269346  29.90219861\n",
      " 291.39120215 253.97261099  18.49650478 318.0918259  119.31425383\n",
      " 246.42366694  39.40069709  87.13414242  25.56531179 276.71153451\n",
      "  61.29894326  64.78730259 112.7412082  171.89831581 184.68013576]\n",
      "[ 86.18869277 231.67406049  95.36711062  30.93079834  49.02369362\n",
      " 117.16486709 146.56760894 309.07814627  29.47395102 120.02183281\n",
      " 287.11000959 239.74586242 108.46616061  39.0960504  239.75376759\n",
      " 158.92994701  25.2382177  213.96282818 311.06554048 161.68016332\n",
      " 209.59552231  71.55351073  18.50148555 135.76638653 144.50101673\n",
      " 107.02965766  24.25462527 113.33625084 105.88343814 148.52717838\n",
      "  87.3631032   25.37940944  61.14332152 132.29448213 253.6321121\n",
      "  28.77430646 134.42091292 159.49527028 210.88977571  66.48351624\n",
      "  58.81454289 114.02895136 162.47571737  79.38958399 299.31253226\n",
      " 198.67212865  67.40660779  60.76731625  18.35514083  87.84212669\n",
      " 239.45486113  87.84212669 154.50233259 104.06318593 192.16707479\n",
      " 161.88012533  40.4128227  172.49470282  18.4944221   17.75524191\n",
      "  87.96522273  86.13141355 268.18179317 288.56599722 156.53069807\n",
      " 294.65739709  18.27805347 209.70513154 140.22997536  25.37940944\n",
      "  99.55539596  37.82129267 156.15909951  18.19186117 299.78080554\n",
      " 210.06420199  30.92221723 174.09332208 223.42544909  18.59565222\n",
      " 275.09523481 135.07405157  87.78362951  86.9255265   86.18817034\n",
      " 288.21882996  60.5802045  167.49390358  89.05135899 285.18324056\n",
      " 279.62268118 170.37582547  61.43473491 100.06308682  39.70069616\n",
      "  87.51115551  89.14023811  25.11267131 215.97511049 156.5944042\n",
      "  18.606992   162.68492247  44.70401194 106.71245621  55.69586444\n",
      "  54.58055265  99.59916342  18.46683033 174.90289833 153.64867714\n",
      " 191.89203629 226.22833347 170.36864957 109.12515539  61.28520557\n",
      " 126.18021053 275.24079743  39.08578916 204.29509465  18.606992\n",
      " 100.82821611 100.83186668 224.13942128 104.72933285  40.4128227\n",
      " 113.39351644  60.471257    16.08409884 197.12434624  62.20043026\n",
      " 129.24406589 160.05080836  18.35514083 138.96391777 293.48764099\n",
      " 129.46596754  40.4128227  140.12670947 271.19397753 314.61298032\n",
      " 177.79927215  25.41406466  30.10951269  89.18206807  87.84212669\n",
      " 109.56243911  91.32702903 117.02878634 155.40618233 200.16206398\n",
      " 129.45799334 288.58230154 297.65693607 227.24299408 162.49300721\n",
      "  17.05051475 113.14708954  17.96112542  87.84212669 138.4647592\n",
      " 144.70850184  18.50148555 199.48046042 228.18642311 137.69071931\n",
      "  18.45976688 263.49767173 165.4171885  281.71651017  18.50148555\n",
      " 108.53752184 131.50015845  87.84212669 132.23412973  97.87791411\n",
      " 100.0501657  263.73351107 219.44730524 168.3911061  112.66046327\n",
      " 204.19075714 167.36785677 155.31440483 237.08017442 147.0600269\n",
      "  89.7798288   90.25885229 299.87621836 170.34995286  40.4128227\n",
      "  38.86435951 153.09350966 108.17760395 110.6310436  130.88271253\n",
      " 245.84811058 307.80864307 136.82292272 122.11491093 102.13285087\n",
      "  18.45976688 250.1507449   18.45976688 308.11103359 134.73188617\n",
      "  30.34454518 126.71619522 266.31595977 217.99848174  61.43473491\n",
      " 285.42129963 167.72058612 132.60883256 209.8078269  271.8879354\n",
      " 127.90654998 243.41153788 106.61174721 139.09219562  87.84212669\n",
      "  79.46944906  25.41406466 103.12463829  61.00978486 155.61643222\n",
      "  39.60926759 193.72991144 198.73022355  31.44025173 174.4809852\n",
      " 278.75650793 126.1149598   18.50148555  64.81327986 199.6543494\n",
      " 101.58068841 316.9962618  293.91768953 163.04812984 208.69250317\n",
      "  16.76972758 198.8903409   25.41406466 146.41644943 152.41682112\n",
      "  99.3574818  138.40188544 219.99018095  85.441461    18.27877289\n",
      "  85.4177875  243.97482    219.19437308 170.21931385 129.65257745\n",
      " 174.92669429  25.41406466 319.48315383  86.29549323  18.606992\n",
      " 165.43413108  25.37940944 211.38106987  25.2382177  165.74528851\n",
      " 222.04297162  18.30355067 233.24977145  87.84212669 193.4622535\n",
      " 129.38535514 105.48642204  59.34260523 291.74153291  18.7186815\n",
      " 281.21601902  87.84212669 188.87702032 181.12296738  39.44603064\n",
      " 285.57136176 102.69720905  18.19114175 170.15392594 170.25296889\n",
      " 102.43796924 252.12977687 156.47718101  65.12030194 100.49140536\n",
      " 123.28537886 275.8424735  163.89306817 121.56658606 139.34043228\n",
      "  29.05552126 161.61998122  39.429258   241.92919405  28.53978619\n",
      " 104.04516628 228.51896522 237.16025772 202.03108299 321.22916217\n",
      " 205.07610944 139.73368113  63.32217101 158.5853019   87.84212669\n",
      " 278.96499723 255.22582297 230.21408284  31.67497051 256.38358488\n",
      " 191.22224456 145.45362711  39.98208505  25.41406466  17.98788013\n",
      " 243.30854824  39.23936397 141.76759813 111.18918837  88.7464421\n",
      " 314.66638479 275.69332213  99.31691145  85.96234608  91.93750919\n",
      "  25.16561422  85.72133016 100.89807339 181.04391557 133.01716322\n",
      "  31.42311935 227.56020511 266.29764635 134.32545004 309.91179347\n",
      "  18.50148555  18.59565222 291.19825139 182.10592779 113.53602278\n",
      "  18.45976688  29.98148206  98.86174198 121.30313046 288.10670828\n",
      " 257.30956642 229.06458706  50.69055662  59.33414997 190.26452291\n",
      "  62.30531566  18.59565222  18.7186815  102.89035031 104.76512236\n",
      "  61.28520557 184.12672477 275.04098544 163.01420333 149.2369241\n",
      "  25.6312606   62.87479486 102.11546772  18.30355067 187.70717816\n",
      " 106.75483101  81.57612776 226.80606081 289.59508508 208.08976409\n",
      "  17.79655974  38.1841528  172.80338407  84.47776866  31.45777456\n",
      " 130.90165019 110.69710866 296.0183438  281.41354857 121.46121978\n",
      "  62.94797784 129.14403079 173.79270681 109.64188464 223.51815702\n",
      "  39.45860662 154.16879326 279.04410723  60.37635224 103.08258503\n",
      " 109.74537134 282.38159268  25.50823133  25.55937655 201.8620304\n",
      "  21.19870527  87.84212669  18.38939443 255.94920076  72.65362255\n",
      " 116.3957155  194.79498974 167.889274   111.7582247  105.90408298\n",
      " 177.84206132 287.6821509  152.39465736 125.95873482  40.4128227\n",
      " 132.8739213  176.69823689 113.21811716  63.24655132  62.93560352\n",
      "  18.7186815   25.2127205   18.606992    30.02344124 155.71393427\n",
      " 102.08806702 100.23965209 179.5066458  104.15141969 315.15048435\n",
      " 133.08889271 175.89570269 270.02790182 112.36753476 101.15683165\n",
      " 263.45261808 297.06421778  31.58080384 113.01144588 316.61984768\n",
      " 260.71079044 159.43538534  39.7383237   97.77549492 113.4340512\n",
      "  89.41251157 107.41891215  37.47449804 300.43073065 286.67048045\n",
      " 235.01393391 127.44912031 166.90833203 220.07968865 140.43145358\n",
      " 108.6444726  228.06452979 101.41716744  62.30561557 114.2710347\n",
      " 248.44836185 125.40663461 103.63384317 110.14097826  87.84212669\n",
      " 136.00361535 277.94123465  99.73630534 190.59696089 180.52582001\n",
      " 224.08297386  60.63830526 308.86844151  99.81191346 163.43540897\n",
      " 181.45832887  18.4944221   27.22283479 243.5725187  278.92601491\n",
      " 103.40258713  85.22642372  25.37940944  18.27805347 237.31604861\n",
      " 151.24557268 312.18988526 267.41179696  87.84212669 127.61740337\n",
      " 198.73540908 171.64032689  64.35229555  63.3121339   40.72766063\n",
      " 169.48792711 112.03240299 219.13577901 282.33942728 236.69580242\n",
      "  18.27770494 218.24834719  60.08590444 106.21996751  31.67497051\n",
      " 216.76952777 238.87797749  25.55937655 159.49651549  83.41922939\n",
      " 255.30773151 258.89126373 210.48458268 234.39963317 309.84913023\n",
      "  99.09051521  29.21536886 235.68895661 138.06681034 192.63735193\n",
      "  25.42908914 219.57824961  18.606992    60.06349402  18.58985961\n",
      "  93.69222601  25.6312606  233.57311565 196.26131975 139.94062121\n",
      "  29.03074349  69.96769858  37.3572115  292.47725531  97.85484144\n",
      "  29.69159847  99.23399099  18.38939443  40.79132005  39.35620121\n",
      " 294.41581802  18.45976688 193.24584897 252.65064567 289.66421409\n",
      " 216.94737406 102.46153584 156.77537551 103.83425345  90.90087473\n",
      " 211.50393091  39.42974311  17.79655974 153.28941018  17.86914526\n",
      " 165.54423689 139.83164147  31.67497051 153.96690751 197.11261512\n",
      " 221.27300134 315.13494591  25.30752538  99.23841585  39.17721773\n",
      "  31.42311935 101.18181838  82.40204249  25.37940944 149.716228\n",
      "  87.84212669 186.28849237 126.17121187 310.69367165 183.20820882\n",
      " 285.57136176 132.36828618 282.69206631  56.60171367  31.22243894\n",
      "  26.72224281  38.69067838  87.84212669  18.38939443  18.42404965\n",
      " 108.49176607  18.58985961 272.81449233 221.66402282 143.266448\n",
      "  87.56277287  89.05135899  25.6312606  152.9488683   97.16969974\n",
      " 133.61980265 196.15285507  18.38939443 240.39052325 123.50362099\n",
      "  15.32772394 244.87695609 101.9672385   39.28340956  85.10102899\n",
      " 237.59092021 131.1779623  320.72393714 285.36208939 233.69754991\n",
      " 219.22401567 186.1866095   18.606992   113.16814507 115.68951777\n",
      "  18.7186815   40.33459807 108.11090916 193.38529145 169.65213845\n",
      "  60.41687562 186.15116419  98.2603815  269.23328408 106.76253131\n",
      " 291.42997225  60.91394807  27.91427922  18.50148555 226.46563937\n",
      " 265.44966273  87.84212669 103.46608286  25.35983074  97.68047989\n",
      " 109.33759674 161.13440497 112.17118328  89.05135899  30.30988996\n",
      " 104.9301217  103.83796676  61.52230331 103.26135726 303.18808723\n",
      " 128.16155629 274.97676716 112.31596452 284.65170171 228.14106573\n",
      "  62.41564955 113.28899105  99.04298264 288.24421372 233.24977145\n",
      " 268.12584558 103.75207963 113.09960526 128.20362971  18.59565222\n",
      " 140.86046962 270.4392916   25.31265299  86.16088065 113.01144588\n",
      " 113.50841091 164.23493945 127.15988563 284.91932928  87.84212669\n",
      " 100.82154309 131.71479629 291.38762784  96.13584731 150.90710109\n",
      " 152.16752143  28.65429412 175.08816623  18.46683033  25.94144617\n",
      "  18.46683033 218.94786824 103.2151302  153.48145344 279.67182093\n",
      " 130.49382525 122.48955216  25.2382177  172.54910236  18.36619781\n",
      " 140.39547996  25.55937655  29.39096835  96.91931188  60.3760079\n",
      " 179.05631785  21.60720353  74.46074516 171.73605243  29.8603411\n",
      " 286.93283241 251.03129083  18.34807739 320.02001509 121.96448809\n",
      " 247.72323504  38.86435951  87.84212669  25.6312606  278.33724233\n",
      "  60.72973384  63.84448335 111.71420908 172.08251542 178.29271502]\n"
     ]
    }
   ],
   "source": [
    "# Predict with each trained model\n",
    "prediction1 = greedy_CV1.predict(test1)\n",
    "prediction2 = greedy_CV2.predict(test2)\n",
    "prediction3 = greedy_CV3.predict(test3)\n",
    "prediction4 = greedy_CV4.predict(test4)\n",
    "\n",
    "print(prediction1)\n",
    "print(prediction2)\n",
    "print(prediction3)\n",
    "print(prediction4)"
   ]
  },
  {
   "cell_type": "code",
   "execution_count": 27,
   "id": "f64b7f9d",
   "metadata": {
    "pycharm": {
     "name": "#%%\n"
    }
   },
   "outputs": [
    {
     "name": "stdout",
     "output_type": "stream",
     "text": [
      "   id   count\n",
      "0   0   86.72\n",
      "1   1  237.14\n",
      "2   2  106.21\n",
      "3   4   31.80\n",
      "4   5   53.49 \n",
      "\n",
      "    id   count\n",
      "0   0   83.63\n",
      "1   1  245.92\n",
      "2   2  107.89\n",
      "3   4   31.34\n",
      "4   5   57.46 \n",
      "\n",
      "    id   count\n",
      "0   0   84.82\n",
      "1   1  238.43\n",
      "2   2   99.67\n",
      "3   4   31.31\n",
      "4   5   50.00 \n",
      "\n",
      "    id   count\n",
      "0   0   86.19\n",
      "1   1  231.67\n",
      "2   2   95.37\n",
      "3   4   30.93\n",
      "4   5   49.02\n"
     ]
    }
   ],
   "source": [
    "# Save the prediction results\n",
    "GridSearchCV1 = pd.read_csv('data/submission.csv')\n",
    "GridSearchCV2 = pd.read_csv('data/submission.csv')\n",
    "GridSearchCV3 = pd.read_csv('data/submission.csv')\n",
    "GridSearchCV4 = pd.read_csv('data/submission.csv')\n",
    "\n",
    "GridSearchCV1['count'] = np.round(prediction1, 2)\n",
    "GridSearchCV2['count'] = np.round(prediction2, 2)\n",
    "GridSearchCV3['count'] = np.round(prediction3, 2)\n",
    "GridSearchCV4['count'] = np.round(prediction4, 2)\n",
    "\n",
    "print(GridSearchCV1.head(), '\\n\\n',\n",
    "      GridSearchCV2.head(), '\\n\\n',\n",
    "      GridSearchCV3.head(), '\\n\\n',\n",
    "      GridSearchCV4.head())"
   ]
  },
  {
   "cell_type": "code",
   "execution_count": 28,
   "id": "392713b2",
   "metadata": {
    "pycharm": {
     "name": "#%%\n"
    }
   },
   "outputs": [],
   "source": [
    "# Save the results\n",
    "GridSearchCV1.to_csv('GridSearchCV1_result.csv')\n",
    "GridSearchCV2.to_csv('GridSearchCV2_result.csv')\n",
    "GridSearchCV3.to_csv('GridSearchCV3_result.csv')\n",
    "GridSearchCV4.to_csv('GridSearchCV4_result.csv')"
   ]
  },
  {
   "cell_type": "code",
   "execution_count": null,
   "id": "2e1b33f0",
   "metadata": {
    "pycharm": {
     "name": "#%%\n"
    }
   },
   "outputs": [],
   "source": []
  }
 ],
 "metadata": {
  "kernelspec": {
   "display_name": "Python 3 (ipykernel)",
   "language": "python",
   "name": "python3"
  },
  "language_info": {
   "codemirror_mode": {
    "name": "ipython",
    "version": 3
   },
   "file_extension": ".py",
   "mimetype": "text/x-python",
   "name": "python",
   "nbconvert_exporter": "python",
   "pygments_lexer": "ipython3",
   "version": "3.9.12"
  }
 },
 "nbformat": 4,
 "nbformat_minor": 5
}