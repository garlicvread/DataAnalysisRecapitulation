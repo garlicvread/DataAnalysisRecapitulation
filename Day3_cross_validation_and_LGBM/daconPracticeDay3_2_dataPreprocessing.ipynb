{
 "cells": [
  {
   "cell_type": "markdown",
   "id": "68739550",
   "metadata": {},
   "source": [
    "### Lv3 전처리 1/4 python 파이썬 이상치 탐지\n",
    "\n",
    "Our data is not always clean and nice.<br>\n",
    "\n",
    "Rather, it has outliers for sure. The outlier is the data that has problems. Usually, these outliers have weird patterns compared to other normal data.<br>\n",
    "\n",
    "Sometimes these outliers make the performance of the model low. Thus, if we are going to focus on the normal data, we need to get rid of these outliers.<br>\n",
    "\n",
    "A representative method is IQR(Interquantile Range), which uses the deviation of quartile values. We can view this using the boxplot graph."
   ]
  },
  {
   "cell_type": "code",
   "execution_count": 1,
   "id": "496aa5fb",
   "metadata": {},
   "outputs": [
    {
     "name": "stdout",
     "output_type": "stream",
     "text": [
      "--2022-09-10 03:59:59--  https://bit.ly/3i4n1QB\n",
      "Resolving bit.ly (bit.ly)... 67.199.248.10, 67.199.248.11\n",
      "Connecting to bit.ly (bit.ly)|67.199.248.10|:443... connected.\n",
      "HTTP request sent, awaiting response... 301 Moved Permanently\n",
      "Location: https://drive.google.com/uc?export=download&id=1emLrrpFWT8dCoj5BJb12-5QMG2-nruUw [following]\n",
      "--2022-09-10 03:59:59--  https://drive.google.com/uc?export=download&id=1emLrrpFWT8dCoj5BJb12-5QMG2-nruUw\n",
      "Resolving drive.google.com (drive.google.com)... 172.217.161.206, 2404:6800:400a:813::200e\n",
      "Connecting to drive.google.com (drive.google.com)|172.217.161.206|:443... connected.\n",
      "HTTP request sent, awaiting response... 303 See Other\n",
      "Location: https://doc-10-10-docs.googleusercontent.com/docs/securesc/ha0ro937gcuc7l7deffksulhg5h7mbp1/akglqendvvm8h9set41d9s15nfhv73sv/1662750000000/17946651057176172524/*/1emLrrpFWT8dCoj5BJb12-5QMG2-nruUw?e=download&uuid=feb45a89-b832-444e-a938-697ed8afdcbd [following]\n",
      "Warning: wildcards not supported in HTTP.\n",
      "--2022-09-10 04:00:00--  https://doc-10-10-docs.googleusercontent.com/docs/securesc/ha0ro937gcuc7l7deffksulhg5h7mbp1/akglqendvvm8h9set41d9s15nfhv73sv/1662750000000/17946651057176172524/*/1emLrrpFWT8dCoj5BJb12-5QMG2-nruUw?e=download&uuid=feb45a89-b832-444e-a938-697ed8afdcbd\n",
      "Resolving doc-10-10-docs.googleusercontent.com (doc-10-10-docs.googleusercontent.com)... 172.217.161.193, 2404:6800:400a:813::2001\n",
      "Connecting to doc-10-10-docs.googleusercontent.com (doc-10-10-docs.googleusercontent.com)|172.217.161.193|:443... connected.\n",
      "HTTP request sent, awaiting response... 200 OK\n",
      "Length: 137694 (134K) [application/zip]\n",
      "Saving to: ‘3i4n1QB’\n",
      "\n",
      "3i4n1QB             100%[===================>] 134.47K  --.-KB/s    in 0.1s    \n",
      "\n",
      "2022-09-10 04:00:01 (1.30 MB/s) - ‘3i4n1QB’ saved [137694/137694]\n",
      "\n"
     ]
    }
   ],
   "source": [
    "# Download the data\n",
    "!wget 'https://bit.ly/3i4n1QB'\n",
    "\n",
    "import zipfile\n",
    "with zipfile.ZipFile('3i4n1QB', 'r') as existing_zip:\n",
    "    existing_zip.extractall('data')"
   ]
  },
  {
   "cell_type": "code",
   "execution_count": 2,
   "id": "832f7aa0",
   "metadata": {},
   "outputs": [],
   "source": [
    "# Import libraries\n",
    "import pandas as pd\n",
    "import numpy as np\n",
    "import seaborn as sns"
   ]
  },
  {
   "cell_type": "code",
   "execution_count": 3,
   "id": "503f8d08",
   "metadata": {},
   "outputs": [],
   "source": [
    "# Load train.csv, test.csv as a pandas DataFrame class\n",
    "train = pd.read_csv('data/train.csv')\n",
    "test = pd.read_csv('data/test.csv')"
   ]
  },
  {
   "cell_type": "code",
   "execution_count": 4,
   "id": "d5a38a5c",
   "metadata": {},
   "outputs": [
    {
     "name": "stdout",
     "output_type": "stream",
     "text": [
      "============ train data information ============\n",
      "<class 'pandas.core.frame.DataFrame'>\n",
      "RangeIndex: 5497 entries, 0 to 5496\n",
      "Data columns (total 14 columns):\n",
      " #   Column                Non-Null Count  Dtype  \n",
      "---  ------                --------------  -----  \n",
      " 0   index                 5497 non-null   int64  \n",
      " 1   quality               5497 non-null   int64  \n",
      " 2   fixed acidity         5497 non-null   float64\n",
      " 3   volatile acidity      5497 non-null   float64\n",
      " 4   citric acid           5497 non-null   float64\n",
      " 5   residual sugar        5497 non-null   float64\n",
      " 6   chlorides             5497 non-null   float64\n",
      " 7   free sulfur dioxide   5497 non-null   float64\n",
      " 8   total sulfur dioxide  5497 non-null   float64\n",
      " 9   density               5497 non-null   float64\n",
      " 10  pH                    5497 non-null   float64\n",
      " 11  sulphates             5497 non-null   float64\n",
      " 12  alcohol               5497 non-null   float64\n",
      " 13  type                  5497 non-null   object \n",
      "dtypes: float64(11), int64(2), object(1)\n",
      "memory usage: 601.4+ KB\n",
      "None \n",
      "\n",
      "train.shape:  (5497, 14) \n",
      "\n",
      "   index  quality  fixed acidity  volatile acidity  citric acid  \\\n",
      "0      0        5            5.6             0.695         0.06   \n",
      "1      1        5            8.8             0.610         0.14   \n",
      "2      2        5            7.9             0.210         0.39   \n",
      "3      3        6            7.0             0.210         0.31   \n",
      "4      4        6            7.8             0.400         0.26   \n",
      "\n",
      "   residual sugar  chlorides  free sulfur dioxide  total sulfur dioxide  \\\n",
      "0             6.8      0.042                  9.0                  84.0   \n",
      "1             2.4      0.067                 10.0                  42.0   \n",
      "2             2.0      0.057                 21.0                 138.0   \n",
      "3             6.0      0.046                 29.0                 108.0   \n",
      "4             9.5      0.059                 32.0                 178.0   \n",
      "\n",
      "   density    pH  sulphates  alcohol   type  \n",
      "0  0.99432  3.44       0.44     10.2  white  \n",
      "1  0.99690  3.19       0.59      9.5    red  \n",
      "2  0.99176  3.05       0.52     10.9  white  \n",
      "3  0.99390  3.26       0.50     10.8  white  \n",
      "4  0.99550  3.04       0.43     10.9  white   \n",
      "\n",
      "\n",
      "============ test data information ============\n",
      "<class 'pandas.core.frame.DataFrame'>\n",
      "RangeIndex: 1000 entries, 0 to 999\n",
      "Data columns (total 13 columns):\n",
      " #   Column                Non-Null Count  Dtype  \n",
      "---  ------                --------------  -----  \n",
      " 0   index                 1000 non-null   int64  \n",
      " 1   fixed acidity         1000 non-null   float64\n",
      " 2   volatile acidity      1000 non-null   float64\n",
      " 3   citric acid           1000 non-null   float64\n",
      " 4   residual sugar        1000 non-null   float64\n",
      " 5   chlorides             1000 non-null   float64\n",
      " 6   free sulfur dioxide   1000 non-null   float64\n",
      " 7   total sulfur dioxide  1000 non-null   float64\n",
      " 8   density               1000 non-null   float64\n",
      " 9   pH                    1000 non-null   float64\n",
      " 10  sulphates             1000 non-null   float64\n",
      " 11  alcohol               1000 non-null   float64\n",
      " 12  type                  1000 non-null   object \n",
      "dtypes: float64(11), int64(1), object(1)\n",
      "memory usage: 101.7+ KB\n",
      "None \n",
      "\n",
      "test.shape:  (1000, 13) \n",
      "\n",
      "   index  fixed acidity  volatile acidity  citric acid  residual sugar  \\\n",
      "0      0            9.0              0.31         0.48             6.6   \n",
      "1      1           13.3              0.43         0.58             1.9   \n",
      "2      2            6.5              0.28         0.27             5.2   \n",
      "3      3            7.2              0.15         0.39             1.8   \n",
      "4      4            6.8              0.26         0.26             2.0   \n",
      "\n",
      "   chlorides  free sulfur dioxide  total sulfur dioxide  density    pH  \\\n",
      "0      0.043                 11.0                  73.0  0.99380  2.90   \n",
      "1      0.070                 15.0                  40.0  1.00040  3.06   \n",
      "2      0.040                 44.0                 179.0  0.99480  3.19   \n",
      "3      0.043                 21.0                 159.0  0.99480  3.52   \n",
      "4      0.019                 23.5                  72.0  0.99041  3.16   \n",
      "\n",
      "   sulphates  alcohol   type  \n",
      "0       0.38     11.6  white  \n",
      "1       0.49      9.0    red  \n",
      "2       0.69      9.4  white  \n",
      "3       0.47     10.0  white  \n",
      "4       0.47     11.8  white  \n"
     ]
    }
   ],
   "source": [
    "# Check the information, shape of the data frame\n",
    "print('============ train data information ============')\n",
    "print(train.info(), '\\n')\n",
    "\n",
    "# Check the shape of the data frame\n",
    "print('train.shape: ', train.shape, '\\n')\n",
    "\n",
    "# Check the contents of the data frame for what it is for.\n",
    "print(train.head(), '\\n\\n')\n",
    "\n",
    "# Check the information, shape of the data frame\n",
    "print('============ test data information ============')\n",
    "print(test.info(), '\\n')\n",
    "\n",
    "# Check the shape of the data frame\n",
    "print('test.shape: ', test.shape, '\\n')\n",
    "\n",
    "# Check the contents of the data frame for what it is for.\n",
    "print(test.head())"
   ]
  },
  {
   "cell_type": "code",
   "execution_count": 5,
   "id": "7205c21b",
   "metadata": {
    "scrolled": true
   },
   "outputs": [
    {
     "data": {
      "text/plain": [
       "<AxesSubplot:>"
      ]
     },
     "execution_count": 5,
     "metadata": {},
     "output_type": "execute_result"
    },
    {
     "data": {
      "image/png": "[encoded data removed]",
      "text/plain": [
       "<Figure size 432x288 with 1 Axes>"
      ]
     },
     "metadata": {
      "needs_background": "light"
     },
     "output_type": "display_data"
    }
   ],
   "source": [
    "# Check if the data has the outliers\n",
    "# We're going to use boxplot() method th see outliers in the 'fixed acidity' feature\n",
    "sns.boxplot(data = train['fixed acidity'])"
   ]
  },
  {
   "cell_type": "markdown",
   "id": "f8ed62be",
   "metadata": {},
   "source": [
    "### Lv3 전처리 2/4 python 파이썬 이상치 제거\n",
    "\n",
    "We're going to remove the outliers using IQR.<br>\n",
    "\n",
    "IQR stands for Interquantile Range. It is the value between the first quartile(25%) and the third quartile(75%).<br>\n",
    "\n",
    "For the above graph we just draw,<br>\n",
    "- Solid line between 10 and 8: $3rd\\;quartile + 1.5 \\times IQR$<br>\n",
    "- Solid upper line of blue box: $3rd\\;quartile (75\\%)$<br>\n",
    "- Middle solid line in blue box: $quartile(median)$<br>\n",
    "- Solid line below blue box: $1st\\;quartile (25\\%)$<br>\n",
    "- Solid line between 4 and 6 : $1st\\;quartile - 1.5 \\times IQR$<br>\n",
    "- Length of blue box: $3rd\\;quartile - 1st\\;quartile = IQR$<br>\n",
    "\n",
    "We're going to judge the data points that are smaller than the solid line between 4 and 6, and larger than the solid line between 8 and 10 are the outliers, thus we will going to delete them.<br>\n",
    "\n",
    "To do this, we're going to use `np.quantile()` method.<br>\n",
    "\n",
    "A **quantile**(not quartile) is a point at which a given data is split into equal sizes. For example, if you take a test and want to see if you are in the top 10%, you can sort the score data and divide the number of data into 10 equal sizes, i.e. each group holds the same number of data."
   ]
  },
  {
   "cell_type": "code",
   "execution_count": 6,
   "id": "874e904e",
   "metadata": {},
   "outputs": [],
   "source": [
    "# Get the values at 25%\n",
    "quantile_25 = np.quantile(train['fixed acidity'], 0.25)\n",
    "\n",
    "# Get the values at 75%\n",
    "quantile_75 = np.quantile(train['fixed acidity'], 0.75)"
   ]
  },
  {
   "cell_type": "code",
   "execution_count": 7,
   "id": "ba213754",
   "metadata": {},
   "outputs": [],
   "source": [
    "# Put the discrepancy between the quantile_25 and the quantille_75 in variable 'IQR'.\n",
    "IQR = quantile_75 - quantile_25"
   ]
  },
  {
   "cell_type": "code",
   "execution_count": 8,
   "id": "95282c6c",
   "metadata": {},
   "outputs": [],
   "source": [
    "# Put the values smaller than quantile_25 in the variable 'minimum'.\n",
    "minimum = quantile_25 - 1.5 * IQR\n",
    "\n",
    "# Put the values greater than quantile_75% in the variable 'maximum'\n",
    "maximum = quantile_75 + 1.5 * IQR\n",
    "\n",
    "# Save only the values where \"fixed acidity\" is greater than minimum and less than maximum in \"train2\".\n",
    "train2 = train[(minimum <= train['fixed acidity']) & (train['fixed acidity'] <= maximum)]"
   ]
  },
  {
   "cell_type": "code",
   "execution_count": 9,
   "id": "a9300787",
   "metadata": {},
   "outputs": [
    {
     "name": "stdout",
     "output_type": "stream",
     "text": [
      "============ train2 data information ============\n",
      "<class 'pandas.core.frame.DataFrame'>\n",
      "Int64Index: 5203 entries, 0 to 5496\n",
      "Data columns (total 14 columns):\n",
      " #   Column                Non-Null Count  Dtype  \n",
      "---  ------                --------------  -----  \n",
      " 0   index                 5203 non-null   int64  \n",
      " 1   quality               5203 non-null   int64  \n",
      " 2   fixed acidity         5203 non-null   float64\n",
      " 3   volatile acidity      5203 non-null   float64\n",
      " 4   citric acid           5203 non-null   float64\n",
      " 5   residual sugar        5203 non-null   float64\n",
      " 6   chlorides             5203 non-null   float64\n",
      " 7   free sulfur dioxide   5203 non-null   float64\n",
      " 8   total sulfur dioxide  5203 non-null   float64\n",
      " 9   density               5203 non-null   float64\n",
      " 10  pH                    5203 non-null   float64\n",
      " 11  sulphates             5203 non-null   float64\n",
      " 12  alcohol               5203 non-null   float64\n",
      " 13  type                  5203 non-null   object \n",
      "dtypes: float64(11), int64(2), object(1)\n",
      "memory usage: 609.7+ KB\n",
      "None \n",
      "\n",
      "train2.shape:  (5203, 14) \n",
      "\n",
      "   index  quality  fixed acidity  volatile acidity  citric acid  \\\n",
      "0      0        5            5.6             0.695         0.06   \n",
      "1      1        5            8.8             0.610         0.14   \n",
      "2      2        5            7.9             0.210         0.39   \n",
      "3      3        6            7.0             0.210         0.31   \n",
      "4      4        6            7.8             0.400         0.26   \n",
      "\n",
      "   residual sugar  chlorides  free sulfur dioxide  total sulfur dioxide  \\\n",
      "0             6.8      0.042                  9.0                  84.0   \n",
      "1             2.4      0.067                 10.0                  42.0   \n",
      "2             2.0      0.057                 21.0                 138.0   \n",
      "3             6.0      0.046                 29.0                 108.0   \n",
      "4             9.5      0.059                 32.0                 178.0   \n",
      "\n",
      "   density    pH  sulphates  alcohol   type  \n",
      "0  0.99432  3.44       0.44     10.2  white  \n",
      "1  0.99690  3.19       0.59      9.5    red  \n",
      "2  0.99176  3.05       0.52     10.9  white  \n",
      "3  0.99390  3.26       0.50     10.8  white  \n",
      "4  0.99550  3.04       0.43     10.9  white  \n"
     ]
    }
   ],
   "source": [
    "# Check the information, shape of the 'train2' data frame\n",
    "print('============ train2 data information ============')\n",
    "print(train2.info(), '\\n')\n",
    "\n",
    "# Check the shape of the 'train2' data frame\n",
    "print('train2.shape: ', train2.shape, '\\n')\n",
    "\n",
    "# Check the contents of the 'train2' data frame for what it is for.\n",
    "print(train2.head())"
   ]
  },
  {
   "cell_type": "code",
   "execution_count": 10,
   "id": "8c90c6f5",
   "metadata": {},
   "outputs": [
    {
     "name": "stdout",
     "output_type": "stream",
     "text": [
      "294\n"
     ]
    }
   ],
   "source": [
    "# Check how many outliers were removed from the original data\n",
    "print(train.shape[0] - train2.shape[0])"
   ]
  },
  {
   "cell_type": "code",
   "execution_count": 11,
   "id": "53c290b8",
   "metadata": {},
   "outputs": [
    {
     "data": {
      "text/plain": [
       "<AxesSubplot:>"
      ]
     },
     "execution_count": 11,
     "metadata": {},
     "output_type": "execute_result"
    },
    {
     "data": {
      "image/png": "[encoded data removed]",
      "text/plain": [
       "<Figure size 432x288 with 1 Axes>"
      ]
     },
     "metadata": {
      "needs_background": "light"
     },
     "output_type": "display_data"
    }
   ],
   "source": [
    "# Let's visualize the train2 data frame\n",
    "sns.boxplot(data = train2['fixed acidity'])"
   ]
  },
  {
   "cell_type": "markdown",
   "id": "d497204b",
   "metadata": {},
   "source": [
    "### Lv3 전처리 3/4 python 파이썬 수치형 데이터 정규화\n",
    "\n",
    "\"Tree-based models\" such as `decision trees` and `random forests` are not significantly affected by the unit of number because they are distinguished by comparison.<br>\n",
    "\n",
    "However, the \"smooth function models\" such as `logistic regression` and `lasso` are highly affected by the size and unit of the numbers.<br>\n",
    "\n",
    "Thus, we're going to create data that fits all models through numerical normarlization.<br>"
   ]
  },
  {
   "cell_type": "markdown",
   "id": "d291b70e",
   "metadata": {},
   "source": [
    "### Min-max scaling\n",
    "Min-max scaling is a simple and straightforward numerical normalization technique.<br>\n",
    "\n",
    "It is a technique that turns the smallest value into zero, and the largest value into one. The other values in between will be distributed between zero and one according to the ratio."
   ]
  },
  {
   "cell_type": "code",
   "execution_count": 12,
   "id": "a188ba28",
   "metadata": {},
   "outputs": [],
   "source": [
    "# Import the library for min-max scalingprint('=============print('=============== train data ===============\\n')== train data ===============\\n')\n",
    "from sklearn.preprocessing import MinMaxScaler"
   ]
  },
  {
   "cell_type": "code",
   "execution_count": 13,
   "id": "41b852cc",
   "metadata": {},
   "outputs": [
    {
     "name": "stdout",
     "output_type": "stream",
     "text": [
      "=============== train data ===============\n",
      "\n",
      "             index      quality  fixed acidity  volatile acidity  citric acid  \\\n",
      "count  5497.000000  5497.000000    5497.000000       5497.000000  5497.000000   \n",
      "mean   2748.000000     5.818992       7.210115          0.338163     0.318543   \n",
      "std    1586.991546     0.870311       1.287579          0.163224     0.145104   \n",
      "min       0.000000     3.000000       3.800000          0.080000     0.000000   \n",
      "25%    1374.000000     5.000000       6.400000          0.230000     0.250000   \n",
      "50%    2748.000000     6.000000       7.000000          0.290000     0.310000   \n",
      "75%    4122.000000     6.000000       7.700000          0.400000     0.390000   \n",
      "max    5496.000000     9.000000      15.900000          1.580000     1.660000   \n",
      "\n",
      "       residual sugar    chlorides  free sulfur dioxide  total sulfur dioxide  \\\n",
      "count     5497.000000  5497.000000          5497.000000           5497.000000   \n",
      "mean         5.438075     0.055808            30.417682            115.566491   \n",
      "std          4.756676     0.034653            17.673881             56.288223   \n",
      "min          0.600000     0.009000             1.000000              6.000000   \n",
      "25%          1.800000     0.038000            17.000000             78.000000   \n",
      "50%          3.000000     0.047000            29.000000            118.000000   \n",
      "75%          8.100000     0.064000            41.000000            155.000000   \n",
      "max         65.800000     0.610000           289.000000            440.000000   \n",
      "\n",
      "           density           pH    sulphates      alcohol  \n",
      "count  5497.000000  5497.000000  5497.000000  5497.000000  \n",
      "mean      0.994673     3.219502     0.530524    10.504918  \n",
      "std       0.003014     0.160713     0.149396     1.194524  \n",
      "min       0.987110     2.740000     0.220000     8.000000  \n",
      "25%       0.992300     3.110000     0.430000     9.500000  \n",
      "50%       0.994800     3.210000     0.510000    10.300000  \n",
      "75%       0.996930     3.320000     0.600000    11.300000  \n",
      "max       1.038980     4.010000     2.000000    14.900000   \n",
      "\n",
      "\n",
      "=============== test data ===============\n",
      "\n",
      "             index  fixed acidity  volatile acidity  citric acid  \\\n",
      "count  1000.000000    1000.000000       1000.000000  1000.000000   \n",
      "mean    499.500000       7.243850          0.347930     0.319130   \n",
      "std     288.819436       1.344372          0.172043     0.146561   \n",
      "min       0.000000       4.200000          0.080000     0.000000   \n",
      "25%     249.750000       6.400000          0.230000     0.240000   \n",
      "50%     499.500000       7.000000          0.300000     0.300000   \n",
      "75%     749.250000       7.700000          0.410000     0.392500   \n",
      "max     999.000000      15.600000          1.240000     0.810000   \n",
      "\n",
      "       residual sugar    chlorides  free sulfur dioxide  total sulfur dioxide  \\\n",
      "count      1000.00000  1000.000000          1000.000000           1000.000000   \n",
      "mean          5.47160     0.057275            31.117000            116.723500   \n",
      "std           4.76628     0.037048            18.156527             57.808145   \n",
      "min           0.70000     0.014000             1.000000              7.000000   \n",
      "25%           1.80000     0.039000            17.750000             76.750000   \n",
      "50%           2.90000     0.048000            29.000000            118.500000   \n",
      "75%           8.20000     0.067250            42.000000            156.000000   \n",
      "max          22.60000     0.611000           122.500000            289.000000   \n",
      "\n",
      "           density           pH    sulphates      alcohol  \n",
      "count  1000.000000  1000.000000  1000.000000  1000.000000  \n",
      "mean      0.994825     3.213000     0.535360    10.419693  \n",
      "std       0.002912     0.161165     0.145525     1.180694  \n",
      "min       0.988150     2.720000     0.230000     8.400000  \n",
      "25%       0.992448     3.100000     0.437500     9.500000  \n",
      "50%       0.995130     3.200000     0.510000    10.200000  \n",
      "75%       0.997060     3.312500     0.620000    11.200000  \n",
      "max       1.003150     3.780000     1.310000    14.000000  \n"
     ]
    }
   ],
   "source": [
    "# Let's look into the train and the test data using describe() method\n",
    "print('=============== train data ===============\\n')\n",
    "print(train.describe(), '\\n\\n')\n",
    "print('=============== test data ===============\\n')\n",
    "print(test.describe())"
   ]
  },
  {
   "cell_type": "code",
   "execution_count": 14,
   "id": "5ced1104",
   "metadata": {},
   "outputs": [
    {
     "data": {
      "text/plain": [
       "<seaborn.axisgrid.FacetGrid at 0x7febcb0417c0>"
      ]
     },
     "execution_count": 14,
     "metadata": {},
     "output_type": "execute_result"
    },
    {
     "data": {
      "image/png": "[encoded data removed]",
      "text/plain": [
       "<Figure size 360x360 with 1 Axes>"
      ]
     },
     "metadata": {
      "needs_background": "light"
     },
     "output_type": "display_data"
    }
   ],
   "source": [
    "# Visualize the distribution plot for the feature 'fixed acidity' using displot\n",
    "sns.displot(train['fixed acidity'], kde=True, stat=\"density\", linewidth=1)"
   ]
  },
  {
   "cell_type": "code",
   "execution_count": 15,
   "id": "15d6143e",
   "metadata": {},
   "outputs": [
    {
     "data": {
      "text/plain": [
       "<AxesSubplot:xlabel='fixed acidity', ylabel='Density'>"
      ]
     },
     "execution_count": 15,
     "metadata": {},
     "output_type": "execute_result"
    },
    {
     "data": {
      "image/png": "[encoded data removed]",
      "text/plain": [
       "<Figure size 432x288 with 1 Axes>"
      ]
     },
     "metadata": {
      "needs_background": "light"
     },
     "output_type": "display_data"
    }
   ],
   "source": [
    "# Note: histplot is similar to the displot. see below\n",
    "sns.histplot(train['fixed acidity'], kde=True, stat=\"density\", linewidth=1)"
   ]
  },
  {
   "cell_type": "code",
   "execution_count": 16,
   "id": "f3ae9d60",
   "metadata": {},
   "outputs": [],
   "source": [
    "# Set the min-max scaler into the variable 'scaler'\n",
    "scaler = MinMaxScaler()"
   ]
  },
  {
   "cell_type": "code",
   "execution_count": 17,
   "id": "675e7341",
   "metadata": {},
   "outputs": [
    {
     "name": "stdout",
     "output_type": "stream",
     "text": [
      "Processing time:  0.0015306472778320312 seconds\n"
     ]
    }
   ],
   "source": [
    "# Train the scaler\n",
    "import time\n",
    "\n",
    "start_time = time.time()\n",
    "scaler.fit(train[['fixed acidity']])  # Expected 2D array\n",
    "end_time = time.time()\n",
    "print('Processing time: ', end_time-start_time, 'seconds')"
   ]
  },
  {
   "cell_type": "code",
   "execution_count": 18,
   "id": "4b812165",
   "metadata": {},
   "outputs": [],
   "source": [
    "# Change the 'fixed acidity' of the train using scaler\n",
    "# Save the changed data into a new column 'Scaled fixed acidity'\n",
    "train['Scaled fixed acidity'] = scaler.transform(train[['fixed acidity']])"
   ]
  },
  {
   "cell_type": "code",
   "execution_count": 19,
   "id": "2e975827",
   "metadata": {
    "scrolled": true
   },
   "outputs": [
    {
     "data": {
      "text/plain": [
       "<seaborn.axisgrid.FacetGrid at 0x7febcb00be80>"
      ]
     },
     "execution_count": 19,
     "metadata": {},
     "output_type": "execute_result"
    },
    {
     "data": {
      "image/png": "[encoded data removed]",
      "text/plain": [
       "<Figure size 360x360 with 1 Axes>"
      ]
     },
     "metadata": {
      "needs_background": "light"
     },
     "output_type": "display_data"
    }
   ],
   "source": [
    "# Visualize the distplot of the new column\n",
    "sns.displot(train['Scaled fixed acidity'], kde=True, stat=\"density\", linewidth=1)"
   ]
  },
  {
   "cell_type": "code",
   "execution_count": null,
   "id": "f116971e",
   "metadata": {},
   "outputs": [],
   "source": []
  }
 ],
 "metadata": {
  "kernelspec": {
   "display_name": "Python 3 (ipykernel)",
   "language": "python",
   "name": "python3"
  },
  "language_info": {
   "codemirror_mode": {
    "name": "ipython",
    "version": 3
   },
   "file_extension": ".py",
   "mimetype": "text/x-python",
   "name": "python",
   "nbconvert_exporter": "python",
   "pygments_lexer": "ipython3",
   "version": "3.9.12"
  }
 },
 "nbformat": 4,
 "nbformat_minor": 5
}
