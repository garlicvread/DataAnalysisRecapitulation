{
 "cells": [
  {
   "cell_type": "markdown",
   "id": "96b2cbfa",
   "metadata": {},
   "source": [
    "### Lv3 모델링 1/4 python 파이썬 랜덤 포레스트 정의\n",
    "\n",
    "We're going to use Random Forest model.<br>\n",
    "\n",
    "For now, we're going to classify the wine data.<br>\n",
    "\n",
    "The parameters of the random forest classifier are:<br>"
   ]
  },
  {
   "cell_type": "code",
   "execution_count": 1,
   "id": "742fec30",
   "metadata": {},
   "outputs": [],
   "source": [
    "# Import random forest model\n",
    "from sklearn.ensemble import RandomForestClassifier"
   ]
  },
  {
   "cell_type": "code",
   "execution_count": 2,
   "id": "64f28b05",
   "metadata": {},
   "outputs": [
    {
     "name": "stdout",
     "output_type": "stream",
     "text": [
      "RandomForestClassifier()\n"
     ]
    }
   ],
   "source": [
    "# Assign the classification mode to the variable 'random_forest'\n",
    "random_forest = RandomForestClassifier()\n",
    "\n",
    "# Check if the model is loaded properly\n",
    "print(random_forest)"
   ]
  },
  {
   "cell_type": "markdown",
   "id": "30246063",
   "metadata": {},
   "source": [
    "### Lv3 모델링 2/4 python 파이썬 모델 랜덤 포레스트 실습"
   ]
  },
  {
   "cell_type": "code",
   "execution_count": 3,
   "id": "31287835",
   "metadata": {},
   "outputs": [
    {
     "name": "stdout",
     "output_type": "stream",
     "text": [
      "--2022-09-12 16:35:21--  https://bit.ly/3i4n1QB\n",
      "Resolving bit.ly (bit.ly)... 67.199.248.11, 67.199.248.10\n",
      "Connecting to bit.ly (bit.ly)|67.199.248.11|:443... connected.\n",
      "HTTP request sent, awaiting response... 301 Moved Permanently\n",
      "Location: https://drive.google.com/uc?export=download&id=1emLrrpFWT8dCoj5BJb12-5QMG2-nruUw [following]\n",
      "--2022-09-12 16:35:21--  https://drive.google.com/uc?export=download&id=1emLrrpFWT8dCoj5BJb12-5QMG2-nruUw\n",
      "Resolving drive.google.com (drive.google.com)... 172.217.161.206, 2404:6800:400a:804::200e\n",
      "Connecting to drive.google.com (drive.google.com)|172.217.161.206|:443... connected.\n",
      "HTTP request sent, awaiting response... 303 See Other\n",
      "Location: https://doc-10-10-docs.googleusercontent.com/docs/securesc/ha0ro937gcuc7l7deffksulhg5h7mbp1/8kdiuebr6nm5ae41f9mvps2ktnipk4no/1662968100000/17946651057176172524/*/1emLrrpFWT8dCoj5BJb12-5QMG2-nruUw?e=download&uuid=1825d432-d72e-44de-9028-9f68b7a451b0 [following]\n",
      "Warning: wildcards not supported in HTTP.\n",
      "--2022-09-12 16:35:21--  https://doc-10-10-docs.googleusercontent.com/docs/securesc/ha0ro937gcuc7l7deffksulhg5h7mbp1/8kdiuebr6nm5ae41f9mvps2ktnipk4no/1662968100000/17946651057176172524/*/1emLrrpFWT8dCoj5BJb12-5QMG2-nruUw?e=download&uuid=1825d432-d72e-44de-9028-9f68b7a451b0\n",
      "Resolving doc-10-10-docs.googleusercontent.com (doc-10-10-docs.googleusercontent.com)... 142.250.206.193, 2404:6800:400a:813::2001\n",
      "Connecting to doc-10-10-docs.googleusercontent.com (doc-10-10-docs.googleusercontent.com)|142.250.206.193|:443... connected.\n",
      "HTTP request sent, awaiting response... 200 OK\n",
      "Length: 137694 (134K) [application/zip]\n",
      "Saving to: ‘3i4n1QB.9’\n",
      "\n",
      "3i4n1QB.9           100%[===================>] 134.47K  --.-KB/s    in 0.1s    \n",
      "\n",
      "2022-09-12 16:35:22 (1.05 MB/s) - ‘3i4n1QB.9’ saved [137694/137694]\n",
      "\n"
     ]
    }
   ],
   "source": [
    "# Download the data\n",
    "!wget 'https://bit.ly/3i4n1QB'\n",
    "\n",
    "import zipfile\n",
    "with zipfile.ZipFile('3i4n1QB', 'r') as existing_zip:\n",
    "    existing_zip.extractall('data')"
   ]
  },
  {
   "cell_type": "code",
   "execution_count": 4,
   "id": "b2421882",
   "metadata": {},
   "outputs": [],
   "source": [
    "# Import libraries\n",
    "import pandas as pd\n",
    "import numpy as np\n",
    "from sklearn.preprocessing import MinMaxScaler, OneHotEncoder\n",
    "from sklearn.ensemble import RandomForestClassifier\n",
    "\n",
    "import seaborn as sns\n",
    "import matplotlib.pyplot as plt\n",
    "\n",
    "# Set the matplotlib library enable to print the result in Jupyter notebook\n",
    "%matplotlib inline\n",
    "\n",
    "import time"
   ]
  },
  {
   "cell_type": "code",
   "execution_count": 5,
   "id": "66df6b90",
   "metadata": {},
   "outputs": [
    {
     "name": "stdout",
     "output_type": "stream",
     "text": [
      "=========== Train data ===========\n",
      "\n",
      "<class 'pandas.core.frame.DataFrame'>\n",
      "RangeIndex: 5497 entries, 0 to 5496\n",
      "Data columns (total 14 columns):\n",
      " #   Column                Non-Null Count  Dtype  \n",
      "---  ------                --------------  -----  \n",
      " 0   index                 5497 non-null   int64  \n",
      " 1   quality               5497 non-null   int64  \n",
      " 2   fixed acidity         5497 non-null   float64\n",
      " 3   volatile acidity      5497 non-null   float64\n",
      " 4   citric acid           5497 non-null   float64\n",
      " 5   residual sugar        5497 non-null   float64\n",
      " 6   chlorides             5497 non-null   float64\n",
      " 7   free sulfur dioxide   5497 non-null   float64\n",
      " 8   total sulfur dioxide  5497 non-null   float64\n",
      " 9   density               5497 non-null   float64\n",
      " 10  pH                    5497 non-null   float64\n",
      " 11  sulphates             5497 non-null   float64\n",
      " 12  alcohol               5497 non-null   float64\n",
      " 13  type                  5497 non-null   object \n",
      "dtypes: float64(11), int64(2), object(1)\n",
      "memory usage: 601.4+ KB\n",
      "None \n",
      "\n",
      "(5497, 14) \n",
      "\n",
      "   index  quality  fixed acidity  volatile acidity  citric acid  \\\n",
      "0      0        5            5.6             0.695         0.06   \n",
      "1      1        5            8.8             0.610         0.14   \n",
      "2      2        5            7.9             0.210         0.39   \n",
      "3      3        6            7.0             0.210         0.31   \n",
      "4      4        6            7.8             0.400         0.26   \n",
      "\n",
      "   residual sugar  chlorides  free sulfur dioxide  total sulfur dioxide  \\\n",
      "0             6.8      0.042                  9.0                  84.0   \n",
      "1             2.4      0.067                 10.0                  42.0   \n",
      "2             2.0      0.057                 21.0                 138.0   \n",
      "3             6.0      0.046                 29.0                 108.0   \n",
      "4             9.5      0.059                 32.0                 178.0   \n",
      "\n",
      "   density    pH  sulphates  alcohol   type  \n",
      "0  0.99432  3.44       0.44     10.2  white  \n",
      "1  0.99690  3.19       0.59      9.5    red  \n",
      "2  0.99176  3.05       0.52     10.9  white  \n",
      "3  0.99390  3.26       0.50     10.8  white  \n",
      "4  0.99550  3.04       0.43     10.9  white   \n",
      "\n",
      "\n",
      "=========== Test data ===========\n",
      "\n",
      "<class 'pandas.core.frame.DataFrame'>\n",
      "RangeIndex: 1000 entries, 0 to 999\n",
      "Data columns (total 13 columns):\n",
      " #   Column                Non-Null Count  Dtype  \n",
      "---  ------                --------------  -----  \n",
      " 0   index                 1000 non-null   int64  \n",
      " 1   fixed acidity         1000 non-null   float64\n",
      " 2   volatile acidity      1000 non-null   float64\n",
      " 3   citric acid           1000 non-null   float64\n",
      " 4   residual sugar        1000 non-null   float64\n",
      " 5   chlorides             1000 non-null   float64\n",
      " 6   free sulfur dioxide   1000 non-null   float64\n",
      " 7   total sulfur dioxide  1000 non-null   float64\n",
      " 8   density               1000 non-null   float64\n",
      " 9   pH                    1000 non-null   float64\n",
      " 10  sulphates             1000 non-null   float64\n",
      " 11  alcohol               1000 non-null   float64\n",
      " 12  type                  1000 non-null   object \n",
      "dtypes: float64(11), int64(1), object(1)\n",
      "memory usage: 101.7+ KB\n",
      "None \n",
      "\n",
      "(1000, 13) \n",
      "\n",
      "   index  fixed acidity  volatile acidity  citric acid  residual sugar  \\\n",
      "0      0            9.0              0.31         0.48             6.6   \n",
      "1      1           13.3              0.43         0.58             1.9   \n",
      "2      2            6.5              0.28         0.27             5.2   \n",
      "3      3            7.2              0.15         0.39             1.8   \n",
      "4      4            6.8              0.26         0.26             2.0   \n",
      "\n",
      "   chlorides  free sulfur dioxide  total sulfur dioxide  density    pH  \\\n",
      "0      0.043                 11.0                  73.0  0.99380  2.90   \n",
      "1      0.070                 15.0                  40.0  1.00040  3.06   \n",
      "2      0.040                 44.0                 179.0  0.99480  3.19   \n",
      "3      0.043                 21.0                 159.0  0.99480  3.52   \n",
      "4      0.019                 23.5                  72.0  0.99041  3.16   \n",
      "\n",
      "   sulphates  alcohol   type  \n",
      "0       0.38     11.6  white  \n",
      "1       0.49      9.0    red  \n",
      "2       0.69      9.4  white  \n",
      "3       0.47     10.0  white  \n",
      "4       0.47     11.8  white   \n",
      "\n"
     ]
    }
   ],
   "source": [
    "# Load data\n",
    "train = pd.read_csv('data/train.csv')\n",
    "test = pd.read_csv('data/test.csv')\n",
    "\n",
    "# Check the information and the shape, first 5 items\n",
    "print('=========== Train data ===========\\n')\n",
    "print(train.info(), '\\n')\n",
    "print(train.shape, '\\n')\n",
    "print(train.head(), '\\n\\n')\n",
    "print('=========== Test data ===========\\n')\n",
    "print(test.info(), '\\n')\n",
    "print(test.shape, '\\n')\n",
    "print(test.head(), '\\n')"
   ]
  },
  {
   "cell_type": "code",
   "execution_count": 6,
   "id": "42829a66",
   "metadata": {},
   "outputs": [
    {
     "name": "stdout",
     "output_type": "stream",
     "text": [
      "index                   0\n",
      "quality                 0\n",
      "fixed acidity           0\n",
      "volatile acidity        0\n",
      "citric acid             0\n",
      "residual sugar          0\n",
      "chlorides               0\n",
      "free sulfur dioxide     0\n",
      "total sulfur dioxide    0\n",
      "density                 0\n",
      "pH                      0\n",
      "sulphates               0\n",
      "alcohol                 0\n",
      "type                    0\n",
      "dtype: int64 \n",
      "\n",
      "index                   0\n",
      "fixed acidity           0\n",
      "volatile acidity        0\n",
      "citric acid             0\n",
      "residual sugar          0\n",
      "chlorides               0\n",
      "free sulfur dioxide     0\n",
      "total sulfur dioxide    0\n",
      "density                 0\n",
      "pH                      0\n",
      "sulphates               0\n",
      "alcohol                 0\n",
      "type                    0\n",
      "dtype: int64\n"
     ]
    }
   ],
   "source": [
    "# See if there are any null value\n",
    "print(train.isnull().sum(), '\\n')\n",
    "print(test.isnull().sum())"
   ]
  },
  {
   "cell_type": "code",
   "execution_count": 7,
   "id": "8d1aeec0",
   "metadata": {},
   "outputs": [
    {
     "data": {
      "text/html": [
       "<div>\n",
       "<style scoped>\n",
       "    .dataframe tbody tr th:only-of-type {\n",
       "        vertical-align: middle;\n",
       "    }\n",
       "\n",
       "    .dataframe tbody tr th {\n",
       "        vertical-align: top;\n",
       "    }\n",
       "\n",
       "    .dataframe thead th {\n",
       "        text-align: right;\n",
       "    }\n",
       "</style>\n",
       "<table border=\"1\" class=\"dataframe\">\n",
       "  <thead>\n",
       "    <tr style=\"text-align: right;\">\n",
       "      <th></th>\n",
       "      <th>index</th>\n",
       "      <th>quality</th>\n",
       "      <th>fixed acidity</th>\n",
       "      <th>volatile acidity</th>\n",
       "      <th>citric acid</th>\n",
       "      <th>residual sugar</th>\n",
       "      <th>chlorides</th>\n",
       "      <th>free sulfur dioxide</th>\n",
       "      <th>total sulfur dioxide</th>\n",
       "      <th>density</th>\n",
       "      <th>pH</th>\n",
       "      <th>sulphates</th>\n",
       "      <th>alcohol</th>\n",
       "    </tr>\n",
       "  </thead>\n",
       "  <tbody>\n",
       "    <tr>\n",
       "      <th>count</th>\n",
       "      <td>5497.000000</td>\n",
       "      <td>5497.000000</td>\n",
       "      <td>5497.000000</td>\n",
       "      <td>5497.000000</td>\n",
       "      <td>5497.000000</td>\n",
       "      <td>5497.000000</td>\n",
       "      <td>5497.000000</td>\n",
       "      <td>5497.000000</td>\n",
       "      <td>5497.000000</td>\n",
       "      <td>5497.000000</td>\n",
       "      <td>5497.000000</td>\n",
       "      <td>5497.000000</td>\n",
       "      <td>5497.000000</td>\n",
       "    </tr>\n",
       "    <tr>\n",
       "      <th>mean</th>\n",
       "      <td>2748.000000</td>\n",
       "      <td>5.818992</td>\n",
       "      <td>7.210115</td>\n",
       "      <td>0.338163</td>\n",
       "      <td>0.318543</td>\n",
       "      <td>5.438075</td>\n",
       "      <td>0.055808</td>\n",
       "      <td>30.417682</td>\n",
       "      <td>115.566491</td>\n",
       "      <td>0.994673</td>\n",
       "      <td>3.219502</td>\n",
       "      <td>0.530524</td>\n",
       "      <td>10.504918</td>\n",
       "    </tr>\n",
       "    <tr>\n",
       "      <th>std</th>\n",
       "      <td>1586.991546</td>\n",
       "      <td>0.870311</td>\n",
       "      <td>1.287579</td>\n",
       "      <td>0.163224</td>\n",
       "      <td>0.145104</td>\n",
       "      <td>4.756676</td>\n",
       "      <td>0.034653</td>\n",
       "      <td>17.673881</td>\n",
       "      <td>56.288223</td>\n",
       "      <td>0.003014</td>\n",
       "      <td>0.160713</td>\n",
       "      <td>0.149396</td>\n",
       "      <td>1.194524</td>\n",
       "    </tr>\n",
       "    <tr>\n",
       "      <th>min</th>\n",
       "      <td>0.000000</td>\n",
       "      <td>3.000000</td>\n",
       "      <td>3.800000</td>\n",
       "      <td>0.080000</td>\n",
       "      <td>0.000000</td>\n",
       "      <td>0.600000</td>\n",
       "      <td>0.009000</td>\n",
       "      <td>1.000000</td>\n",
       "      <td>6.000000</td>\n",
       "      <td>0.987110</td>\n",
       "      <td>2.740000</td>\n",
       "      <td>0.220000</td>\n",
       "      <td>8.000000</td>\n",
       "    </tr>\n",
       "    <tr>\n",
       "      <th>25%</th>\n",
       "      <td>1374.000000</td>\n",
       "      <td>5.000000</td>\n",
       "      <td>6.400000</td>\n",
       "      <td>0.230000</td>\n",
       "      <td>0.250000</td>\n",
       "      <td>1.800000</td>\n",
       "      <td>0.038000</td>\n",
       "      <td>17.000000</td>\n",
       "      <td>78.000000</td>\n",
       "      <td>0.992300</td>\n",
       "      <td>3.110000</td>\n",
       "      <td>0.430000</td>\n",
       "      <td>9.500000</td>\n",
       "    </tr>\n",
       "    <tr>\n",
       "      <th>50%</th>\n",
       "      <td>2748.000000</td>\n",
       "      <td>6.000000</td>\n",
       "      <td>7.000000</td>\n",
       "      <td>0.290000</td>\n",
       "      <td>0.310000</td>\n",
       "      <td>3.000000</td>\n",
       "      <td>0.047000</td>\n",
       "      <td>29.000000</td>\n",
       "      <td>118.000000</td>\n",
       "      <td>0.994800</td>\n",
       "      <td>3.210000</td>\n",
       "      <td>0.510000</td>\n",
       "      <td>10.300000</td>\n",
       "    </tr>\n",
       "    <tr>\n",
       "      <th>75%</th>\n",
       "      <td>4122.000000</td>\n",
       "      <td>6.000000</td>\n",
       "      <td>7.700000</td>\n",
       "      <td>0.400000</td>\n",
       "      <td>0.390000</td>\n",
       "      <td>8.100000</td>\n",
       "      <td>0.064000</td>\n",
       "      <td>41.000000</td>\n",
       "      <td>155.000000</td>\n",
       "      <td>0.996930</td>\n",
       "      <td>3.320000</td>\n",
       "      <td>0.600000</td>\n",
       "      <td>11.300000</td>\n",
       "    </tr>\n",
       "    <tr>\n",
       "      <th>max</th>\n",
       "      <td>5496.000000</td>\n",
       "      <td>9.000000</td>\n",
       "      <td>15.900000</td>\n",
       "      <td>1.580000</td>\n",
       "      <td>1.660000</td>\n",
       "      <td>65.800000</td>\n",
       "      <td>0.610000</td>\n",
       "      <td>289.000000</td>\n",
       "      <td>440.000000</td>\n",
       "      <td>1.038980</td>\n",
       "      <td>4.010000</td>\n",
       "      <td>2.000000</td>\n",
       "      <td>14.900000</td>\n",
       "    </tr>\n",
       "  </tbody>\n",
       "</table>\n",
       "</div>"
      ],
      "text/plain": [
       "             index      quality  fixed acidity  volatile acidity  citric acid  \\\n",
       "count  5497.000000  5497.000000    5497.000000       5497.000000  5497.000000   \n",
       "mean   2748.000000     5.818992       7.210115          0.338163     0.318543   \n",
       "std    1586.991546     0.870311       1.287579          0.163224     0.145104   \n",
       "min       0.000000     3.000000       3.800000          0.080000     0.000000   \n",
       "25%    1374.000000     5.000000       6.400000          0.230000     0.250000   \n",
       "50%    2748.000000     6.000000       7.000000          0.290000     0.310000   \n",
       "75%    4122.000000     6.000000       7.700000          0.400000     0.390000   \n",
       "max    5496.000000     9.000000      15.900000          1.580000     1.660000   \n",
       "\n",
       "       residual sugar    chlorides  free sulfur dioxide  total sulfur dioxide  \\\n",
       "count     5497.000000  5497.000000          5497.000000           5497.000000   \n",
       "mean         5.438075     0.055808            30.417682            115.566491   \n",
       "std          4.756676     0.034653            17.673881             56.288223   \n",
       "min          0.600000     0.009000             1.000000              6.000000   \n",
       "25%          1.800000     0.038000            17.000000             78.000000   \n",
       "50%          3.000000     0.047000            29.000000            118.000000   \n",
       "75%          8.100000     0.064000            41.000000            155.000000   \n",
       "max         65.800000     0.610000           289.000000            440.000000   \n",
       "\n",
       "           density           pH    sulphates      alcohol  \n",
       "count  5497.000000  5497.000000  5497.000000  5497.000000  \n",
       "mean      0.994673     3.219502     0.530524    10.504918  \n",
       "std       0.003014     0.160713     0.149396     1.194524  \n",
       "min       0.987110     2.740000     0.220000     8.000000  \n",
       "25%       0.992300     3.110000     0.430000     9.500000  \n",
       "50%       0.994800     3.210000     0.510000    10.300000  \n",
       "75%       0.996930     3.320000     0.600000    11.300000  \n",
       "max       1.038980     4.010000     2.000000    14.900000  "
      ]
     },
     "execution_count": 7,
     "metadata": {},
     "output_type": "execute_result"
    }
   ],
   "source": [
    "# See the summary of data\n",
    "train.describe()"
   ]
  },
  {
   "cell_type": "code",
   "execution_count": 8,
   "id": "ea9b8ed3",
   "metadata": {},
   "outputs": [
    {
     "data": {
      "text/plain": [
       "<AxesSubplot:>"
      ]
     },
     "execution_count": 8,
     "metadata": {},
     "output_type": "execute_result"
    },
    {
     "data": {
      "image/png": "[encoded data removed]",
      "text/plain": [
       "<Figure size 432x288 with 1 Axes>"
      ]
     },
     "metadata": {
      "needs_background": "light"
     },
     "output_type": "display_data"
    }
   ],
   "source": [
    "# Check if there are any outliers through visualization\n",
    "\n",
    "# The features other than the fixed acidity determines the quality of the wine,\n",
    "# so let's focus on the fixed acidity only\n",
    "sns.boxplot(data = train['fixed acidity'])"
   ]
  },
  {
   "cell_type": "code",
   "execution_count": 9,
   "id": "4cbeb280",
   "metadata": {},
   "outputs": [],
   "source": [
    "# Declare the scaler, train it\n",
    "scaler = MinMaxScaler()\n",
    "scaler.fit(train[['fixed acidity']])\n",
    "\n",
    "# Change the 'fixed acidity' of the train using scaler\n",
    "# Save the changed data into a new column 'Scaled fixed acidity'\n",
    "train['Scaled fixed acidity'] = scaler.transform(train[['fixed acidity']])"
   ]
  },
  {
   "cell_type": "code",
   "execution_count": 10,
   "id": "e9ffa4b3",
   "metadata": {},
   "outputs": [
    {
     "data": {
      "text/plain": [
       "<seaborn.axisgrid.FacetGrid at 0x7f20a562a2b0>"
      ]
     },
     "execution_count": 10,
     "metadata": {},
     "output_type": "execute_result"
    },
    {
     "data": {
      "image/png": "[encoded data removed]",
      "text/plain": [
       "<Figure size 360x360 with 1 Axes>"
      ]
     },
     "metadata": {
      "needs_background": "light"
     },
     "output_type": "display_data"
    }
   ],
   "source": [
    "# Visualize the distribution plot for the scaled feature\n",
    "sns.displot(train['Scaled fixed acidity'], kde=True, stat='density', linewidth=1)"
   ]
  },
  {
   "cell_type": "code",
   "execution_count": 11,
   "id": "af0b9c04",
   "metadata": {},
   "outputs": [
    {
     "name": "stdout",
     "output_type": "stream",
     "text": [
      "======= onehot =======\n",
      "   (0, 1)\t1.0\n",
      "  (1, 0)\t1.0\n",
      "  (2, 1)\t1.0\n",
      "  (3, 1)\t1.0\n",
      "  (4, 1)\t1.0\n",
      "  (5, 1)\t1.0\n",
      "  (6, 1)\t1.0\n",
      "  (7, 1)\t1.0\n",
      "  (8, 1)\t1.0\n",
      "  (9, 1)\t1.0\n",
      "  (10, 0)\t1.0\n",
      "  (11, 1)\t1.0\n",
      "  (12, 1)\t1.0\n",
      "  (13, 1)\t1.0\n",
      "  (14, 0)\t1.0\n",
      "  (15, 1)\t1.0\n",
      "  (16, 0)\t1.0\n",
      "  (17, 1)\t1.0\n",
      "  (18, 1)\t1.0\n",
      "  (19, 1)\t1.0\n",
      "  (20, 1)\t1.0\n",
      "  (21, 0)\t1.0\n",
      "  (22, 1)\t1.0\n",
      "  (23, 0)\t1.0\n",
      "  (24, 0)\t1.0\n",
      "  :\t:\n",
      "  (5472, 0)\t1.0\n",
      "  (5473, 1)\t1.0\n",
      "  (5474, 1)\t1.0\n",
      "  (5475, 1)\t1.0\n",
      "  (5476, 1)\t1.0\n",
      "  (5477, 1)\t1.0\n",
      "  (5478, 1)\t1.0\n",
      "  (5479, 0)\t1.0\n",
      "  (5480, 1)\t1.0\n",
      "  (5481, 0)\t1.0\n",
      "  (5482, 1)\t1.0\n",
      "  (5483, 0)\t1.0\n",
      "  (5484, 1)\t1.0\n",
      "  (5485, 1)\t1.0\n",
      "  (5486, 1)\t1.0\n",
      "  (5487, 0)\t1.0\n",
      "  (5488, 1)\t1.0\n",
      "  (5489, 1)\t1.0\n",
      "  (5490, 0)\t1.0\n",
      "  (5491, 1)\t1.0\n",
      "  (5492, 1)\t1.0\n",
      "  (5493, 1)\t1.0\n",
      "  (5494, 1)\t1.0\n",
      "  (5495, 1)\t1.0\n",
      "  (5496, 1)\t1.0 \n",
      "\n",
      "======= onehot_arr =======\n",
      " [[0. 1.]\n",
      " [1. 0.]\n",
      " [0. 1.]\n",
      " ...\n",
      " [0. 1.]\n",
      " [0. 1.]\n",
      " [0. 1.]] \n",
      "\n",
      "======= onehot_df =======\n",
      "         0    1\n",
      "0     0.0  1.0\n",
      "1     1.0  0.0\n",
      "2     0.0  1.0\n",
      "3     0.0  1.0\n",
      "4     0.0  1.0\n",
      "...   ...  ...\n",
      "5492  0.0  1.0\n",
      "5493  0.0  1.0\n",
      "5494  0.0  1.0\n",
      "5495  0.0  1.0\n",
      "5496  0.0  1.0\n",
      "\n",
      "[5497 rows x 2 columns] \n",
      "\n"
     ]
    }
   ],
   "source": [
    "# Enconde the data: One-hot encoding\n",
    "encoder = OneHotEncoder()\n",
    "encoder.fit(train[['type']])\n",
    "\n",
    "onehot = encoder.transform(train[['type']])\n",
    "print('======= onehot =======\\n', onehot, '\\n')\n",
    "\n",
    "onehot_arr = onehot.toarray()\n",
    "print('======= onehot_arr =======\\n', onehot_arr, '\\n')\n",
    "\n",
    "onehot_df = pd.DataFrame(onehot_arr)\n",
    "print('======= onehot_df =======\\n', onehot_df, '\\n')"
   ]
  },
  {
   "cell_type": "code",
   "execution_count": 12,
   "id": "89024265",
   "metadata": {},
   "outputs": [
    {
     "data": {
      "text/html": [
       "<div>\n",
       "<style scoped>\n",
       "    .dataframe tbody tr th:only-of-type {\n",
       "        vertical-align: middle;\n",
       "    }\n",
       "\n",
       "    .dataframe tbody tr th {\n",
       "        vertical-align: top;\n",
       "    }\n",
       "\n",
       "    .dataframe thead th {\n",
       "        text-align: right;\n",
       "    }\n",
       "</style>\n",
       "<table border=\"1\" class=\"dataframe\">\n",
       "  <thead>\n",
       "    <tr style=\"text-align: right;\">\n",
       "      <th></th>\n",
       "      <th>type_red</th>\n",
       "      <th>type_white</th>\n",
       "    </tr>\n",
       "  </thead>\n",
       "  <tbody>\n",
       "    <tr>\n",
       "      <th>0</th>\n",
       "      <td>0.0</td>\n",
       "      <td>1.0</td>\n",
       "    </tr>\n",
       "    <tr>\n",
       "      <th>1</th>\n",
       "      <td>1.0</td>\n",
       "      <td>0.0</td>\n",
       "    </tr>\n",
       "    <tr>\n",
       "      <th>2</th>\n",
       "      <td>0.0</td>\n",
       "      <td>1.0</td>\n",
       "    </tr>\n",
       "    <tr>\n",
       "      <th>3</th>\n",
       "      <td>0.0</td>\n",
       "      <td>1.0</td>\n",
       "    </tr>\n",
       "    <tr>\n",
       "      <th>4</th>\n",
       "      <td>0.0</td>\n",
       "      <td>1.0</td>\n",
       "    </tr>\n",
       "  </tbody>\n",
       "</table>\n",
       "</div>"
      ],
      "text/plain": [
       "   type_red  type_white\n",
       "0       0.0         1.0\n",
       "1       1.0         0.0\n",
       "2       0.0         1.0\n",
       "3       0.0         1.0\n",
       "4       0.0         1.0"
      ]
     },
     "execution_count": 12,
     "metadata": {},
     "output_type": "execute_result"
    }
   ],
   "source": [
    "# Change the column names from 0, 1 to their feature name\n",
    "onehot_df.columns = encoder.get_feature_names_out()\n",
    "\n",
    "# See if the process is done properly\n",
    "onehot_df.head()"
   ]
  },
  {
   "cell_type": "code",
   "execution_count": 13,
   "id": "243f3c4a",
   "metadata": {},
   "outputs": [
    {
     "data": {
      "text/html": [
       "<div>\n",
       "<style scoped>\n",
       "    .dataframe tbody tr th:only-of-type {\n",
       "        vertical-align: middle;\n",
       "    }\n",
       "\n",
       "    .dataframe tbody tr th {\n",
       "        vertical-align: top;\n",
       "    }\n",
       "\n",
       "    .dataframe thead th {\n",
       "        text-align: right;\n",
       "    }\n",
       "</style>\n",
       "<table border=\"1\" class=\"dataframe\">\n",
       "  <thead>\n",
       "    <tr style=\"text-align: right;\">\n",
       "      <th></th>\n",
       "      <th>index</th>\n",
       "      <th>quality</th>\n",
       "      <th>fixed acidity</th>\n",
       "      <th>volatile acidity</th>\n",
       "      <th>citric acid</th>\n",
       "      <th>residual sugar</th>\n",
       "      <th>chlorides</th>\n",
       "      <th>free sulfur dioxide</th>\n",
       "      <th>total sulfur dioxide</th>\n",
       "      <th>density</th>\n",
       "      <th>pH</th>\n",
       "      <th>sulphates</th>\n",
       "      <th>alcohol</th>\n",
       "      <th>type</th>\n",
       "      <th>Scaled fixed acidity</th>\n",
       "      <th>type_red</th>\n",
       "      <th>type_white</th>\n",
       "    </tr>\n",
       "  </thead>\n",
       "  <tbody>\n",
       "    <tr>\n",
       "      <th>0</th>\n",
       "      <td>0</td>\n",
       "      <td>5</td>\n",
       "      <td>5.6</td>\n",
       "      <td>0.695</td>\n",
       "      <td>0.06</td>\n",
       "      <td>6.8</td>\n",
       "      <td>0.042</td>\n",
       "      <td>9.0</td>\n",
       "      <td>84.0</td>\n",
       "      <td>0.99432</td>\n",
       "      <td>3.44</td>\n",
       "      <td>0.44</td>\n",
       "      <td>10.2</td>\n",
       "      <td>white</td>\n",
       "      <td>0.148760</td>\n",
       "      <td>0.0</td>\n",
       "      <td>1.0</td>\n",
       "    </tr>\n",
       "    <tr>\n",
       "      <th>1</th>\n",
       "      <td>1</td>\n",
       "      <td>5</td>\n",
       "      <td>8.8</td>\n",
       "      <td>0.610</td>\n",
       "      <td>0.14</td>\n",
       "      <td>2.4</td>\n",
       "      <td>0.067</td>\n",
       "      <td>10.0</td>\n",
       "      <td>42.0</td>\n",
       "      <td>0.99690</td>\n",
       "      <td>3.19</td>\n",
       "      <td>0.59</td>\n",
       "      <td>9.5</td>\n",
       "      <td>red</td>\n",
       "      <td>0.413223</td>\n",
       "      <td>1.0</td>\n",
       "      <td>0.0</td>\n",
       "    </tr>\n",
       "    <tr>\n",
       "      <th>2</th>\n",
       "      <td>2</td>\n",
       "      <td>5</td>\n",
       "      <td>7.9</td>\n",
       "      <td>0.210</td>\n",
       "      <td>0.39</td>\n",
       "      <td>2.0</td>\n",
       "      <td>0.057</td>\n",
       "      <td>21.0</td>\n",
       "      <td>138.0</td>\n",
       "      <td>0.99176</td>\n",
       "      <td>3.05</td>\n",
       "      <td>0.52</td>\n",
       "      <td>10.9</td>\n",
       "      <td>white</td>\n",
       "      <td>0.338843</td>\n",
       "      <td>0.0</td>\n",
       "      <td>1.0</td>\n",
       "    </tr>\n",
       "    <tr>\n",
       "      <th>3</th>\n",
       "      <td>3</td>\n",
       "      <td>6</td>\n",
       "      <td>7.0</td>\n",
       "      <td>0.210</td>\n",
       "      <td>0.31</td>\n",
       "      <td>6.0</td>\n",
       "      <td>0.046</td>\n",
       "      <td>29.0</td>\n",
       "      <td>108.0</td>\n",
       "      <td>0.99390</td>\n",
       "      <td>3.26</td>\n",
       "      <td>0.50</td>\n",
       "      <td>10.8</td>\n",
       "      <td>white</td>\n",
       "      <td>0.264463</td>\n",
       "      <td>0.0</td>\n",
       "      <td>1.0</td>\n",
       "    </tr>\n",
       "    <tr>\n",
       "      <th>4</th>\n",
       "      <td>4</td>\n",
       "      <td>6</td>\n",
       "      <td>7.8</td>\n",
       "      <td>0.400</td>\n",
       "      <td>0.26</td>\n",
       "      <td>9.5</td>\n",
       "      <td>0.059</td>\n",
       "      <td>32.0</td>\n",
       "      <td>178.0</td>\n",
       "      <td>0.99550</td>\n",
       "      <td>3.04</td>\n",
       "      <td>0.43</td>\n",
       "      <td>10.9</td>\n",
       "      <td>white</td>\n",
       "      <td>0.330579</td>\n",
       "      <td>0.0</td>\n",
       "      <td>1.0</td>\n",
       "    </tr>\n",
       "  </tbody>\n",
       "</table>\n",
       "</div>"
      ],
      "text/plain": [
       "   index  quality  fixed acidity  volatile acidity  citric acid  \\\n",
       "0      0        5            5.6             0.695         0.06   \n",
       "1      1        5            8.8             0.610         0.14   \n",
       "2      2        5            7.9             0.210         0.39   \n",
       "3      3        6            7.0             0.210         0.31   \n",
       "4      4        6            7.8             0.400         0.26   \n",
       "\n",
       "   residual sugar  chlorides  free sulfur dioxide  total sulfur dioxide  \\\n",
       "0             6.8      0.042                  9.0                  84.0   \n",
       "1             2.4      0.067                 10.0                  42.0   \n",
       "2             2.0      0.057                 21.0                 138.0   \n",
       "3             6.0      0.046                 29.0                 108.0   \n",
       "4             9.5      0.059                 32.0                 178.0   \n",
       "\n",
       "   density    pH  sulphates  alcohol   type  Scaled fixed acidity  type_red  \\\n",
       "0  0.99432  3.44       0.44     10.2  white              0.148760       0.0   \n",
       "1  0.99690  3.19       0.59      9.5    red              0.413223       1.0   \n",
       "2  0.99176  3.05       0.52     10.9  white              0.338843       0.0   \n",
       "3  0.99390  3.26       0.50     10.8  white              0.264463       0.0   \n",
       "4  0.99550  3.04       0.43     10.9  white              0.330579       0.0   \n",
       "\n",
       "   type_white  \n",
       "0         1.0  \n",
       "1         0.0  \n",
       "2         1.0  \n",
       "3         1.0  \n",
       "4         1.0  "
      ]
     },
     "execution_count": 13,
     "metadata": {},
     "output_type": "execute_result"
    }
   ],
   "source": [
    "# Merge onehot_df into its original data\n",
    "train = pd.concat([train, onehot_df], axis=1)\n",
    "\n",
    "# Check if the process is done properly\n",
    "train.head()"
   ]
  },
  {
   "cell_type": "code",
   "execution_count": 14,
   "id": "b1e251c2",
   "metadata": {},
   "outputs": [
    {
     "data": {
      "text/plain": [
       "(5497, 17)"
      ]
     },
     "execution_count": 14,
     "metadata": {},
     "output_type": "execute_result"
    }
   ],
   "source": [
    "# Check the dimension of train\n",
    "train.shape"
   ]
  },
  {
   "cell_type": "code",
   "execution_count": 15,
   "id": "2cdff2b2",
   "metadata": {},
   "outputs": [
    {
     "name": "stdout",
     "output_type": "stream",
     "text": [
      "<class 'pandas.core.frame.DataFrame'>\n",
      "Index(['index', 'quality', 'fixed acidity', 'volatile acidity', 'citric acid',\n",
      "       'residual sugar', 'chlorides', 'free sulfur dioxide',\n",
      "       'total sulfur dioxide', 'density', 'pH', 'sulphates', 'alcohol', 'type',\n",
      "       'Scaled fixed acidity', 'type_red', 'type_white'],\n",
      "      dtype='object')\n"
     ]
    }
   ],
   "source": [
    "# Check the type of train\n",
    "print(type(train))\n",
    "\n",
    "# Check the features names\n",
    "print(train.columns)"
   ]
  },
  {
   "cell_type": "code",
   "execution_count": 16,
   "id": "67d7dfef",
   "metadata": {},
   "outputs": [
    {
     "name": "stdout",
     "output_type": "stream",
     "text": [
      "0       white\n",
      "1         red\n",
      "2       white\n",
      "3       white\n",
      "4       white\n",
      "        ...  \n",
      "5492    white\n",
      "5493    white\n",
      "5494    white\n",
      "5495    white\n",
      "5496    white\n",
      "Name: type, Length: 5497, dtype: object\n"
     ]
    }
   ],
   "source": [
    "print(train['type'])"
   ]
  },
  {
   "cell_type": "code",
   "execution_count": 17,
   "id": "9f088848",
   "metadata": {
    "scrolled": true
   },
   "outputs": [
    {
     "name": "stdout",
     "output_type": "stream",
     "text": [
      "(5497,)\n",
      "(5497, 16)\n"
     ]
    }
   ],
   "source": [
    "# Separate feature 'type' from 'train'\n",
    "# MARK: We need to consider the order of the code.\n",
    "train_type = train['type']\n",
    "train = train.drop(columns = ['type'])\n",
    "print(train_type.shape)\n",
    "print(train.shape)"
   ]
  },
  {
   "cell_type": "code",
   "execution_count": 18,
   "id": "b406c8d0",
   "metadata": {},
   "outputs": [
    {
     "name": "stdout",
     "output_type": "stream",
     "text": [
      "======== train_type ========\n",
      " 0    white\n",
      "1      red\n",
      "2    white\n",
      "3    white\n",
      "4    white\n",
      "Name: type, dtype: object \n",
      "\n",
      "======== train ========\n",
      "    index  quality  fixed acidity  volatile acidity  citric acid  \\\n",
      "0      0        5            5.6             0.695         0.06   \n",
      "1      1        5            8.8             0.610         0.14   \n",
      "2      2        5            7.9             0.210         0.39   \n",
      "3      3        6            7.0             0.210         0.31   \n",
      "4      4        6            7.8             0.400         0.26   \n",
      "\n",
      "   residual sugar  chlorides  free sulfur dioxide  total sulfur dioxide  \\\n",
      "0             6.8      0.042                  9.0                  84.0   \n",
      "1             2.4      0.067                 10.0                  42.0   \n",
      "2             2.0      0.057                 21.0                 138.0   \n",
      "3             6.0      0.046                 29.0                 108.0   \n",
      "4             9.5      0.059                 32.0                 178.0   \n",
      "\n",
      "   density    pH  sulphates  alcohol  Scaled fixed acidity  type_red  \\\n",
      "0  0.99432  3.44       0.44     10.2              0.148760       0.0   \n",
      "1  0.99690  3.19       0.59      9.5              0.413223       1.0   \n",
      "2  0.99176  3.05       0.52     10.9              0.338843       0.0   \n",
      "3  0.99390  3.26       0.50     10.8              0.264463       0.0   \n",
      "4  0.99550  3.04       0.43     10.9              0.330579       0.0   \n",
      "\n",
      "   type_white  \n",
      "0         1.0  \n",
      "1         0.0  \n",
      "2         1.0  \n",
      "3         1.0  \n",
      "4         1.0   \n",
      "\n"
     ]
    }
   ],
   "source": [
    "# See if the process is done properly\n",
    "print('======== train_type ========\\n', train_type.head(), '\\n')\n",
    "print('======== train ========\\n', train.head(), '\\n')"
   ]
  },
  {
   "cell_type": "code",
   "execution_count": 19,
   "id": "b855fa5d",
   "metadata": {},
   "outputs": [],
   "source": [
    "# Initiate random forest classifier model as variable 'random_classifier'\n",
    "random_classifier = RandomForestClassifier()"
   ]
  },
  {
   "cell_type": "code",
   "execution_count": 20,
   "id": "6bc723cf",
   "metadata": {},
   "outputs": [],
   "source": [
    "# Store data 'train' to variable 'X' except the feature 'quality'\n",
    "X = train.drop(columns = ['quality'])"
   ]
  },
  {
   "cell_type": "code",
   "execution_count": 21,
   "id": "7e99dec1",
   "metadata": {},
   "outputs": [],
   "source": [
    "# Store data 'train' to variable 'y' for the feature 'quality'\n",
    "y = train['quality']"
   ]
  },
  {
   "cell_type": "code",
   "execution_count": 22,
   "id": "b3fd574e",
   "metadata": {},
   "outputs": [
    {
     "data": {
      "text/plain": [
       "RandomForestClassifier()"
      ]
     },
     "execution_count": 22,
     "metadata": {},
     "output_type": "execute_result"
    }
   ],
   "source": [
    "# Train random_classifier using X and y\n",
    "random_classifier.fit(X, y)"
   ]
  },
  {
   "cell_type": "markdown",
   "id": "50a2df97",
   "metadata": {},
   "source": [
    "### Lv3 모델링 3/4 python 파이썬 교차검증(Cross-validation)\n",
    "\n",
    "We usually split the data into two different types: Train data and test data.<br>\n",
    "This 'spliting' process is called 'hold-out'.<br>\n",
    "\n"
   ]
  }
 ],
 "metadata": {
  "kernelspec": {
   "display_name": "Python 3 (ipykernel)",
   "language": "python",
   "name": "python3"
  },
  "language_info": {
   "codemirror_mode": {
    "name": "ipython",
    "version": 3
   },
   "file_extension": ".py",
   "mimetype": "text/x-python",
   "name": "python",
   "nbconvert_exporter": "python",
   "pygments_lexer": "ipython3",
   "version": "3.9.12"
  }
 },
 "nbformat": 4,
 "nbformat_minor": 5
}
