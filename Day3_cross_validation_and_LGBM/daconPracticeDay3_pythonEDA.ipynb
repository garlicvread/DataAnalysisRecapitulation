{
 "cells": [
  {
   "cell_type": "markdown",
   "id": "7da47194",
   "metadata": {},
   "source": [
    "### Lv3 EDA 1/7 python 파이썬 EDA 기초\n",
    "\n",
    "Let's load data using read_csv() method."
   ]
  },
  {
   "cell_type": "code",
   "execution_count": 1,
   "id": "e01153de",
   "metadata": {
    "scrolled": true
   },
   "outputs": [
    {
     "name": "stdout",
     "output_type": "stream",
     "text": [
      "--2022-09-10 00:40:43--  https://bit.ly/3i4n1QB\n",
      "Resolving bit.ly (bit.ly)... 67.199.248.10, 67.199.248.11\n",
      "Connecting to bit.ly (bit.ly)|67.199.248.10|:443... connected.\n",
      "HTTP request sent, awaiting response... 301 Moved Permanently\n",
      "Location: https://drive.google.com/uc?export=download&id=1emLrrpFWT8dCoj5BJb12-5QMG2-nruUw [following]\n",
      "--2022-09-10 00:40:44--  https://drive.google.com/uc?export=download&id=1emLrrpFWT8dCoj5BJb12-5QMG2-nruUw\n",
      "Resolving drive.google.com (drive.google.com)... 172.217.161.206, 2404:6800:400a:813::200e\n",
      "Connecting to drive.google.com (drive.google.com)|172.217.161.206|:443... connected.\n",
      "HTTP request sent, awaiting response... 303 See Other\n",
      "Location: https://doc-10-10-docs.googleusercontent.com/docs/securesc/ha0ro937gcuc7l7deffksulhg5h7mbp1/m5pklmn1uf0agcc00s3qsre7q8u7jpm1/1662738000000/17946651057176172524/*/1emLrrpFWT8dCoj5BJb12-5QMG2-nruUw?e=download&uuid=2996abad-a31e-42be-8c69-404c21dfef68 [following]\n",
      "Warning: wildcards not supported in HTTP.\n",
      "--2022-09-10 00:40:45--  https://doc-10-10-docs.googleusercontent.com/docs/securesc/ha0ro937gcuc7l7deffksulhg5h7mbp1/m5pklmn1uf0agcc00s3qsre7q8u7jpm1/1662738000000/17946651057176172524/*/1emLrrpFWT8dCoj5BJb12-5QMG2-nruUw?e=download&uuid=2996abad-a31e-42be-8c69-404c21dfef68\n",
      "Resolving doc-10-10-docs.googleusercontent.com (doc-10-10-docs.googleusercontent.com)... 142.250.207.97, 2404:6800:400a:813::2001\n",
      "Connecting to doc-10-10-docs.googleusercontent.com (doc-10-10-docs.googleusercontent.com)|142.250.207.97|:443... connected.\n",
      "HTTP request sent, awaiting response... 200 OK\n",
      "Length: 137694 (134K) [application/zip]\n",
      "Saving to: ‘3i4n1QB’\n",
      "\n",
      "3i4n1QB             100%[===================>] 134.47K  --.-KB/s    in 0.1s    \n",
      "\n",
      "2022-09-10 00:40:45 (1.03 MB/s) - ‘3i4n1QB’ saved [137694/137694]\n",
      "\n"
     ]
    }
   ],
   "source": [
    "!wget 'https://bit.ly/3i4n1QB'\n",
    "\n",
    "import zipfile\n",
    "with zipfile.ZipFile('3i4n1QB', 'r') as existing_zip:\n",
    "    existing_zip.extractall('data')"
   ]
  },
  {
   "cell_type": "code",
   "execution_count": 2,
   "id": "15c7edad",
   "metadata": {},
   "outputs": [],
   "source": [
    "# Library call\n",
    "import pandas as pd"
   ]
  },
  {
   "cell_type": "code",
   "execution_count": 3,
   "id": "43217f9f",
   "metadata": {},
   "outputs": [
    {
     "name": "stdout",
     "output_type": "stream",
     "text": [
      "============ train data information ============\n",
      "<class 'pandas.core.frame.DataFrame'>\n",
      "RangeIndex: 5497 entries, 0 to 5496\n",
      "Data columns (total 14 columns):\n",
      " #   Column                Non-Null Count  Dtype  \n",
      "---  ------                --------------  -----  \n",
      " 0   index                 5497 non-null   int64  \n",
      " 1   quality               5497 non-null   int64  \n",
      " 2   fixed acidity         5497 non-null   float64\n",
      " 3   volatile acidity      5497 non-null   float64\n",
      " 4   citric acid           5497 non-null   float64\n",
      " 5   residual sugar        5497 non-null   float64\n",
      " 6   chlorides             5497 non-null   float64\n",
      " 7   free sulfur dioxide   5497 non-null   float64\n",
      " 8   total sulfur dioxide  5497 non-null   float64\n",
      " 9   density               5497 non-null   float64\n",
      " 10  pH                    5497 non-null   float64\n",
      " 11  sulphates             5497 non-null   float64\n",
      " 12  alcohol               5497 non-null   float64\n",
      " 13  type                  5497 non-null   object \n",
      "dtypes: float64(11), int64(2), object(1)\n",
      "memory usage: 601.4+ KB\n",
      "None \n",
      "\n",
      "train.shape:  (5497, 14) \n",
      "\n",
      "   index  quality  fixed acidity  volatile acidity  citric acid  \\\n",
      "0      0        5            5.6             0.695         0.06   \n",
      "1      1        5            8.8             0.610         0.14   \n",
      "2      2        5            7.9             0.210         0.39   \n",
      "3      3        6            7.0             0.210         0.31   \n",
      "4      4        6            7.8             0.400         0.26   \n",
      "\n",
      "   residual sugar  chlorides  free sulfur dioxide  total sulfur dioxide  \\\n",
      "0             6.8      0.042                  9.0                  84.0   \n",
      "1             2.4      0.067                 10.0                  42.0   \n",
      "2             2.0      0.057                 21.0                 138.0   \n",
      "3             6.0      0.046                 29.0                 108.0   \n",
      "4             9.5      0.059                 32.0                 178.0   \n",
      "\n",
      "   density    pH  sulphates  alcohol   type  \n",
      "0  0.99432  3.44       0.44     10.2  white  \n",
      "1  0.99690  3.19       0.59      9.5    red  \n",
      "2  0.99176  3.05       0.52     10.9  white  \n",
      "3  0.99390  3.26       0.50     10.8  white  \n",
      "4  0.99550  3.04       0.43     10.9  white   \n",
      "\n",
      "\n",
      "============ test data information ============\n",
      "<class 'pandas.core.frame.DataFrame'>\n",
      "RangeIndex: 1000 entries, 0 to 999\n",
      "Data columns (total 13 columns):\n",
      " #   Column                Non-Null Count  Dtype  \n",
      "---  ------                --------------  -----  \n",
      " 0   index                 1000 non-null   int64  \n",
      " 1   fixed acidity         1000 non-null   float64\n",
      " 2   volatile acidity      1000 non-null   float64\n",
      " 3   citric acid           1000 non-null   float64\n",
      " 4   residual sugar        1000 non-null   float64\n",
      " 5   chlorides             1000 non-null   float64\n",
      " 6   free sulfur dioxide   1000 non-null   float64\n",
      " 7   total sulfur dioxide  1000 non-null   float64\n",
      " 8   density               1000 non-null   float64\n",
      " 9   pH                    1000 non-null   float64\n",
      " 10  sulphates             1000 non-null   float64\n",
      " 11  alcohol               1000 non-null   float64\n",
      " 12  type                  1000 non-null   object \n",
      "dtypes: float64(11), int64(1), object(1)\n",
      "memory usage: 101.7+ KB\n",
      "None \n",
      "\n",
      "test.shape:  (1000, 13) \n",
      "\n",
      "   index  fixed acidity  volatile acidity  citric acid  residual sugar  \\\n",
      "0      0            9.0              0.31         0.48             6.6   \n",
      "1      1           13.3              0.43         0.58             1.9   \n",
      "2      2            6.5              0.28         0.27             5.2   \n",
      "3      3            7.2              0.15         0.39             1.8   \n",
      "4      4            6.8              0.26         0.26             2.0   \n",
      "\n",
      "   chlorides  free sulfur dioxide  total sulfur dioxide  density    pH  \\\n",
      "0      0.043                 11.0                  73.0  0.99380  2.90   \n",
      "1      0.070                 15.0                  40.0  1.00040  3.06   \n",
      "2      0.040                 44.0                 179.0  0.99480  3.19   \n",
      "3      0.043                 21.0                 159.0  0.99480  3.52   \n",
      "4      0.019                 23.5                  72.0  0.99041  3.16   \n",
      "\n",
      "   sulphates  alcohol   type  \n",
      "0       0.38     11.6  white  \n",
      "1       0.49      9.0    red  \n",
      "2       0.69      9.4  white  \n",
      "3       0.47     10.0  white  \n",
      "4       0.47     11.8  white  \n"
     ]
    }
   ],
   "source": [
    "# Create a pandas DataFrame named 'train' using the loaded file\n",
    "train = pd.read_csv('data/train.csv')\n",
    "test = pd.read_csv('data/test.csv')\n",
    "\n",
    "# Check the information, shape of the data frame\n",
    "print('============ train data information ============')\n",
    "print(train.info(), '\\n')\n",
    "\n",
    "# Check the shape of the data frame\n",
    "print('train.shape: ', train.shape, '\\n')\n",
    "\n",
    "# Check the contents of the data frame for what it is for.\n",
    "print(train.head(), '\\n\\n')\n",
    "\n",
    "# Check the information, shape of the data frame\n",
    "print('============ test data information ============')\n",
    "print(test.info(), '\\n')\n",
    "\n",
    "# Check the shape of the data frame\n",
    "print('test.shape: ', test.shape, '\\n')\n",
    "\n",
    "# Check the contents of the data frame for what it is for.\n",
    "print(test.head())"
   ]
  },
  {
   "cell_type": "markdown",
   "id": "8cd31011",
   "metadata": {},
   "source": [
    "### Lv3 EDA 2/7 python 파이썬 결측치 유무 확인하기 isnull().sum()"
   ]
  },
  {
   "cell_type": "code",
   "execution_count": 4,
   "id": "2a3a9074",
   "metadata": {},
   "outputs": [
    {
     "name": "stdout",
     "output_type": "stream",
     "text": [
      "index                   0\n",
      "quality                 0\n",
      "fixed acidity           0\n",
      "volatile acidity        0\n",
      "citric acid             0\n",
      "residual sugar          0\n",
      "chlorides               0\n",
      "free sulfur dioxide     0\n",
      "total sulfur dioxide    0\n",
      "density                 0\n",
      "pH                      0\n",
      "sulphates               0\n",
      "alcohol                 0\n",
      "type                    0\n",
      "dtype: int64 \n",
      "\n",
      "index                   0\n",
      "fixed acidity           0\n",
      "volatile acidity        0\n",
      "citric acid             0\n",
      "residual sugar          0\n",
      "chlorides               0\n",
      "free sulfur dioxide     0\n",
      "total sulfur dioxide    0\n",
      "density                 0\n",
      "pH                      0\n",
      "sulphates               0\n",
      "alcohol                 0\n",
      "type                    0\n",
      "dtype: int64\n"
     ]
    }
   ],
   "source": [
    "# Check if there is any null value(missing value) in the train and test dataset\n",
    "print(train.isnull().sum(), '\\n')\n",
    "print(test.isnull().sum())"
   ]
  },
  {
   "cell_type": "markdown",
   "id": "f90be0a5",
   "metadata": {},
   "source": [
    "### Lv3 EDA 3/7 python 파이썬 수치데이터 특성보기 (describe())\n",
    "\n",
    "When we use `describe()` method on a pandas DataFrame, the method gives us back the summary of the DataFrame.<br>\n",
    "\n",
    "When `describe()` method turns back the summary to us, it excludes the missing values and summarizes only the numerical data.<br>\n",
    "\n",
    "Basically, it returns the `count`, `mean`, `std`, `min`, The `1st quartile`, `2nd quartile`, `3rd quartile`, and `max` values are returned."
   ]
  },
  {
   "cell_type": "code",
   "execution_count": 5,
   "id": "e908a4ae",
   "metadata": {},
   "outputs": [
    {
     "name": "stdout",
     "output_type": "stream",
     "text": [
      "             index      quality  fixed acidity  volatile acidity  citric acid  \\\n",
      "count  5497.000000  5497.000000    5497.000000       5497.000000  5497.000000   \n",
      "mean   2748.000000     5.818992       7.210115          0.338163     0.318543   \n",
      "std    1586.991546     0.870311       1.287579          0.163224     0.145104   \n",
      "min       0.000000     3.000000       3.800000          0.080000     0.000000   \n",
      "25%    1374.000000     5.000000       6.400000          0.230000     0.250000   \n",
      "50%    2748.000000     6.000000       7.000000          0.290000     0.310000   \n",
      "75%    4122.000000     6.000000       7.700000          0.400000     0.390000   \n",
      "max    5496.000000     9.000000      15.900000          1.580000     1.660000   \n",
      "\n",
      "       residual sugar    chlorides  free sulfur dioxide  total sulfur dioxide  \\\n",
      "count     5497.000000  5497.000000          5497.000000           5497.000000   \n",
      "mean         5.438075     0.055808            30.417682            115.566491   \n",
      "std          4.756676     0.034653            17.673881             56.288223   \n",
      "min          0.600000     0.009000             1.000000              6.000000   \n",
      "25%          1.800000     0.038000            17.000000             78.000000   \n",
      "50%          3.000000     0.047000            29.000000            118.000000   \n",
      "75%          8.100000     0.064000            41.000000            155.000000   \n",
      "max         65.800000     0.610000           289.000000            440.000000   \n",
      "\n",
      "           density           pH    sulphates      alcohol  \n",
      "count  5497.000000  5497.000000  5497.000000  5497.000000  \n",
      "mean      0.994673     3.219502     0.530524    10.504918  \n",
      "std       0.003014     0.160713     0.149396     1.194524  \n",
      "min       0.987110     2.740000     0.220000     8.000000  \n",
      "25%       0.992300     3.110000     0.430000     9.500000  \n",
      "50%       0.994800     3.210000     0.510000    10.300000  \n",
      "75%       0.996930     3.320000     0.600000    11.300000  \n",
      "max       1.038980     4.010000     2.000000    14.900000   \n",
      "\n",
      "             index  fixed acidity  volatile acidity  citric acid  \\\n",
      "count  1000.000000    1000.000000       1000.000000  1000.000000   \n",
      "mean    499.500000       7.243850          0.347930     0.319130   \n",
      "std     288.819436       1.344372          0.172043     0.146561   \n",
      "min       0.000000       4.200000          0.080000     0.000000   \n",
      "25%     249.750000       6.400000          0.230000     0.240000   \n",
      "50%     499.500000       7.000000          0.300000     0.300000   \n",
      "75%     749.250000       7.700000          0.410000     0.392500   \n",
      "max     999.000000      15.600000          1.240000     0.810000   \n",
      "\n",
      "       residual sugar    chlorides  free sulfur dioxide  total sulfur dioxide  \\\n",
      "count      1000.00000  1000.000000          1000.000000           1000.000000   \n",
      "mean          5.47160     0.057275            31.117000            116.723500   \n",
      "std           4.76628     0.037048            18.156527             57.808145   \n",
      "min           0.70000     0.014000             1.000000              7.000000   \n",
      "25%           1.80000     0.039000            17.750000             76.750000   \n",
      "50%           2.90000     0.048000            29.000000            118.500000   \n",
      "75%           8.20000     0.067250            42.000000            156.000000   \n",
      "max          22.60000     0.611000           122.500000            289.000000   \n",
      "\n",
      "           density           pH    sulphates      alcohol  \n",
      "count  1000.000000  1000.000000  1000.000000  1000.000000  \n",
      "mean      0.994825     3.213000     0.535360    10.419693  \n",
      "std       0.002912     0.161165     0.145525     1.180694  \n",
      "min       0.988150     2.720000     0.230000     8.400000  \n",
      "25%       0.992448     3.100000     0.437500     9.500000  \n",
      "50%       0.995130     3.200000     0.510000    10.200000  \n",
      "75%       0.997060     3.312500     0.620000    11.200000  \n",
      "max       1.003150     3.780000     1.310000    14.000000  \n"
     ]
    }
   ],
   "source": [
    "print(train.describe(), '\\n')\n",
    "print(test.describe())"
   ]
  },
  {
   "cell_type": "markdown",
   "id": "c09e6d55",
   "metadata": {},
   "source": [
    "### Lv3 EDA 4/7 python 파이썬 변수 분포 시각화\n",
    "\n",
    "We're going to visualize the variables of data using matplotlib and seaborn libraries.<br>\n",
    "\n",
    "During the visualization process, it's typical to create a copy of the original data and then visualize the copied data."
   ]
  },
  {
   "cell_type": "code",
   "execution_count": 6,
   "id": "f6f7c62d",
   "metadata": {},
   "outputs": [],
   "source": [
    "# # Font installation\n",
    "# # It's highly recommended doing this process on your terminal, instead of Jupyter notebook because of the password issue.\n",
    "# !sudo apt-get install fonts-nanum -y\n",
    "# !sudo -fv fc-cache\n",
    "# !rm -rf ~/.cache/matplotlib"
   ]
  },
  {
   "cell_type": "code",
   "execution_count": 7,
   "id": "d09bec5c",
   "metadata": {},
   "outputs": [],
   "source": [
    "# Import libraries for visualization\n",
    "import pandas as pd\n",
    "import matplotlib\n",
    "import matplotlib.pyplot as plt\n",
    "import seaborn as sns\n",
    "\n",
    "# Set the matplotlib library enable to print the result in Jupyter notebook\n",
    "%matplotlib inline\n",
    "\n",
    "# Set the fonts\n",
    "plt.rc('font', family='NanumBarunGothic')\n",
    "\n",
    "# Set the negarive sign to be printed out\n",
    "plt.rc('axes', unicode_minus=False)\n",
    "\n",
    "# Hide the warning sign if there is no problem in the analyzing process\n",
    "import warnings\n",
    "warnings.filterwarnings('ignore')"
   ]
  },
  {
   "cell_type": "code",
   "execution_count": 8,
   "id": "f3bf6a7a",
   "metadata": {},
   "outputs": [
    {
     "data": {
      "image/png": "[encoded data removed]",
      "text/plain": [
       "<Figure size 432x288 with 1 Axes>"
      ]
     },
     "metadata": {
      "needs_background": "light"
     },
     "output_type": "display_data"
    }
   ],
   "source": [
    "# Copy the loaded data\n",
    "trainCopy = train.copy()\n",
    "\n",
    "# Visualizing the wine data(the target variables: wine quality)\n",
    "sns.distplot(trainCopy['quality'], kde=False, bins=10)\n",
    "\n",
    "# [x-axis min value, x-axis max value, y-axis min value, y-axis max value]\n",
    "plt.axis([0, 10, 0, 2500])\n",
    "\n",
    "# Set the title of the graph\n",
    "plt.title(\"Wine quality\")\n",
    "\n",
    "# Print the graph\n",
    "plt.show()"
   ]
  },
  {
   "cell_type": "markdown",
   "id": "2c64b6cb",
   "metadata": {},
   "source": [
    "### Lv3 EDA 5/7 python 파이썬 Matplotlib 선 그래프 (plot())"
   ]
  },
  {
   "cell_type": "code",
   "execution_count": 9,
   "id": "d4e9d579",
   "metadata": {},
   "outputs": [],
   "source": [
    "# Set the numbers to be displayed on the x-axis\n",
    "x_values = [0, 1, 2, 3, 4]\n",
    "\n",
    "# Set the numbers to be displayed on the y-axis\n",
    "y_values = [0, 1, 4, 9, 16]"
   ]
  },
  {
   "cell_type": "code",
   "execution_count": 10,
   "id": "401e768b",
   "metadata": {},
   "outputs": [
    {
     "data": {
      "text/plain": [
       "[<matplotlib.lines.Line2D at 0x7fbb4a2581c0>]"
      ]
     },
     "execution_count": 10,
     "metadata": {},
     "output_type": "execute_result"
    },
    {
     "data": {
      "image/png": "[encoded data removed]",
      "text/plain": [
       "<Figure size 432x288 with 1 Axes>"
      ]
     },
     "metadata": {
      "needs_background": "light"
     },
     "output_type": "display_data"
    }
   ],
   "source": [
    "# Draw a line graph\n",
    "plt.plot(x_values, y_values)"
   ]
  },
  {
   "cell_type": "code",
   "execution_count": 11,
   "id": "72dbc151",
   "metadata": {},
   "outputs": [],
   "source": [
    "# Print the graph on the screen\n",
    "plt.show()"
   ]
  },
  {
   "cell_type": "markdown",
   "id": "8bd97691",
   "metadata": {},
   "source": [
    "### Lv3 EDA 6/7 python 파이썬 Matplotlib 히스토그램 그리기"
   ]
  },
  {
   "cell_type": "code",
   "execution_count": 12,
   "id": "cacffed1",
   "metadata": {},
   "outputs": [],
   "source": [
    "# Create a list with a variable distribution\n",
    "# This array is a simple array to draw an example histogram\n",
    "a = [1,2,2,2,2,2,2,2,3,3,3,4,4,4,4,5,5,5,5,5,6,6,7]"
   ]
  },
  {
   "cell_type": "code",
   "execution_count": 13,
   "id": "1ee23e99",
   "metadata": {},
   "outputs": [
    {
     "data": {
      "text/plain": [
       "(array([1., 7., 0., 3., 0., 4., 5., 0., 2., 1.]),\n",
       " array([1. , 1.6, 2.2, 2.8, 3.4, 4. , 4.6, 5.2, 5.8, 6.4, 7. ]),\n",
       " <BarContainer object of 10 artists>)"
      ]
     },
     "execution_count": 13,
     "metadata": {},
     "output_type": "execute_result"
    },
    {
     "data": {
      "image/png": "[encoded data removed]",
      "text/plain": [
       "<Figure size 432x288 with 1 Axes>"
      ]
     },
     "metadata": {
      "needs_background": "light"
     },
     "output_type": "display_data"
    }
   ],
   "source": [
    "# Draw a graph using the hist() method\n",
    "plt.hist(a)"
   ]
  },
  {
   "cell_type": "code",
   "execution_count": 14,
   "id": "77238ada",
   "metadata": {},
   "outputs": [],
   "source": [
    "# Print the graph on the screen\n",
    "plt.show()"
   ]
  },
  {
   "cell_type": "code",
   "execution_count": null,
   "id": "db5bf120",
   "metadata": {},
   "outputs": [],
   "source": []
  }
 ],
 "metadata": {
  "kernelspec": {
   "display_name": "Python 3 (ipykernel)",
   "language": "python",
   "name": "python3"
  },
  "language_info": {
   "codemirror_mode": {
    "name": "ipython",
    "version": 3
   },
   "file_extension": ".py",
   "mimetype": "text/x-python",
   "name": "python",
   "nbconvert_exporter": "python",
   "pygments_lexer": "ipython3",
   "version": "3.9.12"
  }
 },
 "nbformat": 4,
 "nbformat_minor": 5
}
