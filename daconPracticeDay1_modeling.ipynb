{
 "cells": [
  {
   "cell_type": "markdown",
   "id": "74278df4",
   "metadata": {},
   "source": [
    "### Lv1 모델링 1/6 python 파이썬 scikit-learn\n",
    "\n",
    "scikit-learn 라이브러리를 사용한 모델링"
   ]
  },
  {
   "cell_type": "markdown",
   "id": "7c76ddf7",
   "metadata": {},
   "source": [
    "### Lv1 모델링 python 파이썬 2/6 모델개념 - Decision making tree(의사결정나무)\n",
    "\n",
    "- 자료(data)에 존재하는 각 feature에 특정 값을 하나 지정하고, 이를 기준으로 모든 행을 두 개의 노드(node)로 분류하는 알고리즘.\n",
    "- 이런 방식의 분류를 이진의사결정(binary decision making), 또는 이진분할이라 한다(특정 값 2개를 지정하면 3진분류가 됨). 이 과정을 반복함으로써 자료의 모든 항목이 분류되도록 하는 것이 의사결정나무 알고리즘이다.\n",
    "- 이때 각 feature에 지정하는 값의 기준은 불순도(imputiry)이다.\n",
    "- 대표적인 이진의사결정 알고리즘인 CART에서 사용되는 불순도는 지니불순도이다. 지니불순도의 일반식은 다음과 같다.\n",
    "$$imp(t) = 1 - \\sum_{j=1} P_j^2$$"
   ]
  },
  {
   "cell_type": "code",
   "execution_count": 1,
   "id": "5a4ae456",
   "metadata": {},
   "outputs": [],
   "source": [
    "# importing decision making tree algorithm\n",
    "\n",
    "import sklearn\n",
    "from sklearn.tree import DecisionTreeClassifier"
   ]
  },
  {
   "cell_type": "markdown",
   "id": "59cd4979",
   "metadata": {},
   "source": [
    "### Lv1 모델링 python 파이썬 3/6 모델 선언(의사결정나무)"
   ]
  },
  {
   "cell_type": "code",
   "execution_count": 2,
   "id": "bd9c307e",
   "metadata": {},
   "outputs": [],
   "source": [
    "# Declare the model\n",
    "model = DecisionTreeClassifier()"
   ]
  },
  {
   "cell_type": "markdown",
   "id": "0c04a63e",
   "metadata": {},
   "source": [
    "### Lv1 모델링 python 파이썬 4/6 모델 훈련(의사결정나무)\n",
    "\n",
    "모델 선언 후 fit(X, Y) 함수로 모델 훈련\n",
    "\n",
    "- X 데이터: 예측에 사용되는 변수\n",
    "- Y 데이터: 예측 결과 변수\n",
    "<br><br>\n",
    "- train data 에서 drop([‘제외할컬럼명’], axis=1) 함수를 사용하면 피쳐를 제외할 수 있음\n",
    "\n",
    "- train[‘예측할컬럼명'] 으로 Y 데이터를 인덱싱할 수 있음"
   ]
  },
  {
   "cell_type": "code",
   "execution_count": 3,
   "id": "e3df858e",
   "metadata": {},
   "outputs": [
    {
     "name": "stdout",
     "output_type": "stream",
     "text": [
      "--2022-09-07 16:08:05--  https://bit.ly/3gLj0Q6\n",
      "Resolving bit.ly (bit.ly)... 67.199.248.10, 67.199.248.11\n",
      "Connecting to bit.ly (bit.ly)|67.199.248.10|:443... connected.\n",
      "HTTP request sent, awaiting response... 301 Moved Permanently\n",
      "Location: https://drive.google.com/uc?export=download&id=1or_QN1ksv81DNog6Tu_kWcZ5jJWf5W9E [following]\n",
      "--2022-09-07 16:08:05--  https://drive.google.com/uc?export=download&id=1or_QN1ksv81DNog6Tu_kWcZ5jJWf5W9E\n",
      "Resolving drive.google.com (drive.google.com)... 172.217.174.110, 2404:6800:400a:80b::200e\n",
      "Connecting to drive.google.com (drive.google.com)|172.217.174.110|:443... connected.\n",
      "HTTP request sent, awaiting response... 303 See Other\n",
      "Location: https://doc-0c-10-docs.googleusercontent.com/docs/securesc/ha0ro937gcuc7l7deffksulhg5h7mbp1/mkd1jg40ta1fbruoq17cj292hjp3oilp/1662534450000/17946651057176172524/*/1or_QN1ksv81DNog6Tu_kWcZ5jJWf5W9E?e=download&uuid=351aa401-aee1-49de-9214-ca2ae8a8236b [following]\n",
      "Warning: wildcards not supported in HTTP.\n",
      "--2022-09-07 16:08:06--  https://doc-0c-10-docs.googleusercontent.com/docs/securesc/ha0ro937gcuc7l7deffksulhg5h7mbp1/mkd1jg40ta1fbruoq17cj292hjp3oilp/1662534450000/17946651057176172524/*/1or_QN1ksv81DNog6Tu_kWcZ5jJWf5W9E?e=download&uuid=351aa401-aee1-49de-9214-ca2ae8a8236b\n",
      "Resolving doc-0c-10-docs.googleusercontent.com (doc-0c-10-docs.googleusercontent.com)... 142.250.76.129, 2404:6800:4004:827::2001\n",
      "Connecting to doc-0c-10-docs.googleusercontent.com (doc-0c-10-docs.googleusercontent.com)|142.250.76.129|:443... connected.\n",
      "HTTP request sent, awaiting response... 200 OK\n",
      "Length: 39208 (38K) [application/zip]\n",
      "Saving to: ‘3gLj0Q6.1’\n",
      "\n",
      "3gLj0Q6.1           100%[===================>]  38.29K  --.-KB/s    in 0.04s   \n",
      "\n",
      "2022-09-07 16:08:06 (925 KB/s) - ‘3gLj0Q6.1’ saved [39208/39208]\n",
      "\n"
     ]
    }
   ],
   "source": [
    "# Download the data\n",
    "\n",
    "!wget 'https://bit.ly/3gLj0Q6'\n",
    "\n",
    "import zipfile\n",
    "with zipfile.ZipFile('3gLj0Q6', 'r') as existing_zip:\n",
    "    existing_zip.extractall('data')"
   ]
  },
  {
   "cell_type": "code",
   "execution_count": 4,
   "id": "c9152e93",
   "metadata": {},
   "outputs": [],
   "source": [
    "# Importing pandas, DecisionTreeClassifier\n",
    "\n",
    "import pandas as pd\n",
    "from sklearn.tree import DecisionTreeRegressor"
   ]
  },
  {
   "cell_type": "code",
   "execution_count": 5,
   "id": "fd8727b0",
   "metadata": {},
   "outputs": [],
   "source": [
    "# Importing a csv data as DataFrame objects\n",
    "\n",
    "train = pd.read_csv('data/train.csv')\n",
    "test = pd.read_csv('data/test.csv')"
   ]
  },
  {
   "cell_type": "code",
   "execution_count": 7,
   "id": "7c47eb3e",
   "metadata": {},
   "outputs": [
    {
     "name": "stdout",
     "output_type": "stream",
     "text": [
      "======== TRAIN DATA ========\n",
      "Train DataFrame information\n",
      "\n",
      "<class 'pandas.core.frame.DataFrame'>\n",
      "RangeIndex: 1459 entries, 0 to 1458\n",
      "Data columns (total 11 columns):\n",
      " #   Column                  Non-Null Count  Dtype  \n",
      "---  ------                  --------------  -----  \n",
      " 0   id                      1459 non-null   int64  \n",
      " 1   hour                    1459 non-null   int64  \n",
      " 2   hour_bef_temperature    1457 non-null   float64\n",
      " 3   hour_bef_precipitation  1457 non-null   float64\n",
      " 4   hour_bef_windspeed      1450 non-null   float64\n",
      " 5   hour_bef_humidity       1457 non-null   float64\n",
      " 6   hour_bef_visibility     1457 non-null   float64\n",
      " 7   hour_bef_ozone          1383 non-null   float64\n",
      " 8   hour_bef_pm10           1369 non-null   float64\n",
      " 9   hour_bef_pm2.5          1342 non-null   float64\n",
      " 10  count                   1459 non-null   float64\n",
      "dtypes: float64(9), int64(2)\n",
      "memory usage: 125.5 KB\n",
      "None \n",
      "\n",
      "Train DataFrame shape:  (1459, 11) \n",
      "\n",
      "Number of null values:  id                          0\n",
      "hour                        0\n",
      "hour_bef_temperature        2\n",
      "hour_bef_precipitation      2\n",
      "hour_bef_windspeed          9\n",
      "hour_bef_humidity           2\n",
      "hour_bef_visibility         2\n",
      "hour_bef_ozone             76\n",
      "hour_bef_pm10              90\n",
      "hour_bef_pm2.5            117\n",
      "count                       0\n",
      "dtype: int64\n",
      "\n",
      "\n",
      "======== TEST DATA ========\n",
      "Test DataFrame information\n",
      "\n",
      "<class 'pandas.core.frame.DataFrame'>\n",
      "RangeIndex: 715 entries, 0 to 714\n",
      "Data columns (total 10 columns):\n",
      " #   Column                  Non-Null Count  Dtype  \n",
      "---  ------                  --------------  -----  \n",
      " 0   id                      715 non-null    int64  \n",
      " 1   hour                    715 non-null    int64  \n",
      " 2   hour_bef_temperature    714 non-null    float64\n",
      " 3   hour_bef_precipitation  714 non-null    float64\n",
      " 4   hour_bef_windspeed      714 non-null    float64\n",
      " 5   hour_bef_humidity       714 non-null    float64\n",
      " 6   hour_bef_visibility     714 non-null    float64\n",
      " 7   hour_bef_ozone          680 non-null    float64\n",
      " 8   hour_bef_pm10           678 non-null    float64\n",
      " 9   hour_bef_pm2.5          679 non-null    float64\n",
      "dtypes: float64(8), int64(2)\n",
      "memory usage: 56.0 KB\n",
      "None \n",
      "\n",
      "Test DataFrame shape:  (715, 10) \n",
      "\n",
      "Number of null values:  id                         0\n",
      "hour                       0\n",
      "hour_bef_temperature       1\n",
      "hour_bef_precipitation     1\n",
      "hour_bef_windspeed         1\n",
      "hour_bef_humidity          1\n",
      "hour_bef_visibility        1\n",
      "hour_bef_ozone            35\n",
      "hour_bef_pm10             37\n",
      "hour_bef_pm2.5            36\n",
      "dtype: int64\n"
     ]
    }
   ],
   "source": [
    "# Check the train, test data information and its shape\n",
    "\n",
    "print('======== TRAIN DATA ========')\n",
    "print('Train DataFrame information\\n')\n",
    "print(train.info(), '\\n')\n",
    "print('Train DataFrame shape: ', train.shape, '\\n')\n",
    "print('Number of null values: ', train.isnull().sum())\n",
    "print('\\n')\n",
    "print('======== TEST DATA ========')\n",
    "print('Test DataFrame information\\n')\n",
    "print(test.info(), '\\n')\n",
    "print('Test DataFrame shape: ', test.shape, '\\n')\n",
    "print('Number of null values: ', test.isnull().sum())"
   ]
  },
  {
   "cell_type": "markdown",
   "id": "5857b686",
   "metadata": {},
   "source": [
    "### Eraing missing values"
   ]
  },
  {
   "cell_type": "code",
   "execution_count": 10,
   "id": "fde10859",
   "metadata": {},
   "outputs": [
    {
     "name": "stdout",
     "output_type": "stream",
     "text": [
      "id                        0\n",
      "hour                      0\n",
      "hour_bef_temperature      0\n",
      "hour_bef_precipitation    0\n",
      "hour_bef_windspeed        0\n",
      "hour_bef_humidity         0\n",
      "hour_bef_visibility       0\n",
      "hour_bef_ozone            0\n",
      "hour_bef_pm10             0\n",
      "hour_bef_pm2.5            0\n",
      "count                     0\n",
      "dtype: int64\n",
      "id                        0\n",
      "hour                      0\n",
      "hour_bef_temperature      0\n",
      "hour_bef_precipitation    0\n",
      "hour_bef_windspeed        0\n",
      "hour_bef_humidity         0\n",
      "hour_bef_visibility       0\n",
      "hour_bef_ozone            0\n",
      "hour_bef_pm10             0\n",
      "hour_bef_pm2.5            0\n",
      "dtype: int64\n"
     ]
    }
   ],
   "source": [
    "train = train.dropna()\n",
    "test = test.dropna()\n",
    "\n",
    "## Check if the rows that have null values are deleted.\n",
    "print(train.isnull().sum())\n",
    "print(test.isnull().sum())"
   ]
  },
  {
   "cell_type": "markdown",
   "id": "75e6a12e",
   "metadata": {},
   "source": [
    "The feature 'count' is what we will make our prediction.<br>\n",
    "So, we need to use drop() function with axis=1 option to create pandas DataFrame with the train data excluding 'count' feature.<br><br>\n",
    "Let's assign the name of train data as 'X_train',<br>\n",
    "and for the real value(observation) for our prediction, which is the 'count' feature, name it 'Y_train'."
   ]
  },
  {
   "cell_type": "code",
   "execution_count": 11,
   "id": "f335e368",
   "metadata": {},
   "outputs": [],
   "source": [
    "X_train = train.drop(['count'], axis=1)\n",
    "Y_train = train['count']"
   ]
  },
  {
   "cell_type": "code",
   "execution_count": 12,
   "id": "3484ef65",
   "metadata": {},
   "outputs": [
    {
     "name": "stdout",
     "output_type": "stream",
     "text": [
      "X_train\n",
      "         id  hour  hour_bef_temperature  hour_bef_precipitation  \\\n",
      "0        3    20                  16.3                     1.0   \n",
      "1        6    13                  20.1                     0.0   \n",
      "2        7     6                  13.9                     0.0   \n",
      "3        8    23                   8.1                     0.0   \n",
      "4        9    18                  29.5                     0.0   \n",
      "...    ...   ...                   ...                     ...   \n",
      "1454  2174     4                  16.8                     0.0   \n",
      "1455  2175     3                  10.8                     0.0   \n",
      "1456  2176     5                  18.3                     0.0   \n",
      "1457  2178    21                  20.7                     0.0   \n",
      "1458  2179    17                  21.1                     0.0   \n",
      "\n",
      "      hour_bef_windspeed  hour_bef_humidity  hour_bef_visibility  \\\n",
      "0                    1.5               89.0                576.0   \n",
      "1                    1.4               48.0                916.0   \n",
      "2                    0.7               79.0               1382.0   \n",
      "3                    2.7               54.0                946.0   \n",
      "4                    4.8                7.0               2000.0   \n",
      "...                  ...                ...                  ...   \n",
      "1454                 1.6               53.0               2000.0   \n",
      "1455                 3.8               45.0               2000.0   \n",
      "1456                 1.9               54.0               2000.0   \n",
      "1457                 3.7               37.0               1395.0   \n",
      "1458                 3.1               47.0               1973.0   \n",
      "\n",
      "      hour_bef_ozone  hour_bef_pm10  hour_bef_pm2.5  \n",
      "0              0.027           76.0            33.0  \n",
      "1              0.042           73.0            40.0  \n",
      "2              0.033           32.0            19.0  \n",
      "3              0.040           75.0            64.0  \n",
      "4              0.057           27.0            11.0  \n",
      "...              ...            ...             ...  \n",
      "1454           0.031           37.0            27.0  \n",
      "1455           0.039           34.0            19.0  \n",
      "1456           0.009           30.0            21.0  \n",
      "1457           0.082           71.0            36.0  \n",
      "1458           0.046           38.0            17.0  \n",
      "\n",
      "[1328 rows x 10 columns] \n",
      "\n",
      "Y_train\n",
      " 0        49.0\n",
      "1       159.0\n",
      "2        26.0\n",
      "3        57.0\n",
      "4       431.0\n",
      "        ...  \n",
      "1454     21.0\n",
      "1455     20.0\n",
      "1456     22.0\n",
      "1457    216.0\n",
      "1458    170.0\n",
      "Name: count, Length: 1328, dtype: float64 \n",
      "\n"
     ]
    }
   ],
   "source": [
    "print('X_train\\n', X_train, '\\n')\n",
    "print('Y_train\\n', Y_train, '\\n')"
   ]
  },
  {
   "cell_type": "markdown",
   "id": "c63a02d6",
   "metadata": {},
   "source": [
    "Declare the model using the variable 'model' we declared above.<br>\n",
    "Using fit() function, let X_train as input and Y_train as output.<br>\n",
    "Train the model using fit()."
   ]
  },
  {
   "cell_type": "code",
   "execution_count": 14,
   "id": "21ee7014",
   "metadata": {},
   "outputs": [
    {
     "data": {
      "text/html": [
       "<style>#sk-container-id-1 {color: black;background-color: white;}#sk-container-id-1 pre{padding: 0;}#sk-container-id-1 div.sk-toggleable {background-color: white;}#sk-container-id-1 label.sk-toggleable__label {cursor: pointer;display: block;width: 100%;margin-bottom: 0;padding: 0.3em;box-sizing: border-box;text-align: center;}#sk-container-id-1 label.sk-toggleable__label-arrow:before {content: \"▸\";float: left;margin-right: 0.25em;color: #696969;}#sk-container-id-1 label.sk-toggleable__label-arrow:hover:before {color: black;}#sk-container-id-1 div.sk-estimator:hover label.sk-toggleable__label-arrow:before {color: black;}#sk-container-id-1 div.sk-toggleable__content {max-height: 0;max-width: 0;overflow: hidden;text-align: left;background-color: #f0f8ff;}#sk-container-id-1 div.sk-toggleable__content pre {margin: 0.2em;color: black;border-radius: 0.25em;background-color: #f0f8ff;}#sk-container-id-1 input.sk-toggleable__control:checked~div.sk-toggleable__content {max-height: 200px;max-width: 100%;overflow: auto;}#sk-container-id-1 input.sk-toggleable__control:checked~label.sk-toggleable__label-arrow:before {content: \"▾\";}#sk-container-id-1 div.sk-estimator input.sk-toggleable__control:checked~label.sk-toggleable__label {background-color: #d4ebff;}#sk-container-id-1 div.sk-label input.sk-toggleable__control:checked~label.sk-toggleable__label {background-color: #d4ebff;}#sk-container-id-1 input.sk-hidden--visually {border: 0;clip: rect(1px 1px 1px 1px);clip: rect(1px, 1px, 1px, 1px);height: 1px;margin: -1px;overflow: hidden;padding: 0;position: absolute;width: 1px;}#sk-container-id-1 div.sk-estimator {font-family: monospace;background-color: #f0f8ff;border: 1px dotted black;border-radius: 0.25em;box-sizing: border-box;margin-bottom: 0.5em;}#sk-container-id-1 div.sk-estimator:hover {background-color: #d4ebff;}#sk-container-id-1 div.sk-parallel-item::after {content: \"\";width: 100%;border-bottom: 1px solid gray;flex-grow: 1;}#sk-container-id-1 div.sk-label:hover label.sk-toggleable__label {background-color: #d4ebff;}#sk-container-id-1 div.sk-serial::before {content: \"\";position: absolute;border-left: 1px solid gray;box-sizing: border-box;top: 0;bottom: 0;left: 50%;z-index: 0;}#sk-container-id-1 div.sk-serial {display: flex;flex-direction: column;align-items: center;background-color: white;padding-right: 0.2em;padding-left: 0.2em;position: relative;}#sk-container-id-1 div.sk-item {position: relative;z-index: 1;}#sk-container-id-1 div.sk-parallel {display: flex;align-items: stretch;justify-content: center;background-color: white;position: relative;}#sk-container-id-1 div.sk-item::before, #sk-container-id-1 div.sk-parallel-item::before {content: \"\";position: absolute;border-left: 1px solid gray;box-sizing: border-box;top: 0;bottom: 0;left: 50%;z-index: -1;}#sk-container-id-1 div.sk-parallel-item {display: flex;flex-direction: column;z-index: 1;position: relative;background-color: white;}#sk-container-id-1 div.sk-parallel-item:first-child::after {align-self: flex-end;width: 50%;}#sk-container-id-1 div.sk-parallel-item:last-child::after {align-self: flex-start;width: 50%;}#sk-container-id-1 div.sk-parallel-item:only-child::after {width: 0;}#sk-container-id-1 div.sk-dashed-wrapped {border: 1px dashed gray;margin: 0 0.4em 0.5em 0.4em;box-sizing: border-box;padding-bottom: 0.4em;background-color: white;}#sk-container-id-1 div.sk-label label {font-family: monospace;font-weight: bold;display: inline-block;line-height: 1.2em;}#sk-container-id-1 div.sk-label-container {text-align: center;}#sk-container-id-1 div.sk-container {/* jupyter's `normalize.less` sets `[hidden] { display: none; }` but bootstrap.min.css set `[hidden] { display: none !important; }` so we also need the `!important` here to be able to override the default hidden behavior on the sphinx rendered scikit-learn.org. See: https://github.com/scikit-learn/scikit-learn/issues/21755 */display: inline-block !important;position: relative;}#sk-container-id-1 div.sk-text-repr-fallback {display: none;}</style><div id=\"sk-container-id-1\" class=\"sk-top-container\"><div class=\"sk-text-repr-fallback\"><pre>DecisionTreeRegressor()</pre><b>In a Jupyter environment, please rerun this cell to show the HTML representation or trust the notebook. <br />On GitHub, the HTML representation is unable to render, please try loading this page with nbviewer.org.</b></div><div class=\"sk-container\" hidden><div class=\"sk-item\"><div class=\"sk-estimator sk-toggleable\"><input class=\"sk-toggleable__control sk-hidden--visually\" id=\"sk-estimator-id-1\" type=\"checkbox\" checked><label for=\"sk-estimator-id-1\" class=\"sk-toggleable__label sk-toggleable__label-arrow\">DecisionTreeRegressor</label><div class=\"sk-toggleable__content\"><pre>DecisionTreeRegressor()</pre></div></div></div></div></div>"
      ],
      "text/plain": [
       "DecisionTreeRegressor()"
      ]
     },
     "execution_count": 14,
     "metadata": {},
     "output_type": "execute_result"
    }
   ],
   "source": [
    "model = DecisionTreeRegressor()\n",
    "model.fit(X_train, Y_train)  # train the model"
   ]
  },
  {
   "cell_type": "code",
   "execution_count": null,
   "id": "35f955a0",
   "metadata": {},
   "outputs": [],
   "source": []
  }
 ],
 "metadata": {
  "kernelspec": {
   "display_name": "Python 3 (ipykernel)",
   "language": "python",
   "name": "python3"
  },
  "language_info": {
   "codemirror_mode": {
    "name": "ipython",
    "version": 3
   },
   "file_extension": ".py",
   "mimetype": "text/x-python",
   "name": "python",
   "nbconvert_exporter": "python",
   "pygments_lexer": "ipython3",
   "version": "3.9.12"
  }
 },
 "nbformat": 4,
 "nbformat_minor": 5
}
